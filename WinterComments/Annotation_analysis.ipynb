{
 "cells": [
  {
   "cell_type": "code",
   "execution_count": 1,
   "metadata": {
    "collapsed": true
   },
   "outputs": [],
   "source": [
    "import pandas as pd\n",
    "import numpy as np\n",
    "from collections import Counter"
   ]
  },
  {
   "cell_type": "code",
   "execution_count": 5,
   "metadata": {},
   "outputs": [
    {
     "data": {
      "text/html": [
       "<div>\n",
       "<style>\n",
       "    .dataframe thead tr:only-child th {\n",
       "        text-align: right;\n",
       "    }\n",
       "\n",
       "    .dataframe thead th {\n",
       "        text-align: left;\n",
       "    }\n",
       "\n",
       "    .dataframe tbody tr th {\n",
       "        vertical-align: top;\n",
       "    }\n",
       "</style>\n",
       "<table border=\"1\" class=\"dataframe\">\n",
       "  <thead>\n",
       "    <tr style=\"text-align: right;\">\n",
       "      <th></th>\n",
       "      <th>Filename</th>\n",
       "      <th>Comment text</th>\n",
       "      <th>Start line</th>\n",
       "      <th>End line</th>\n",
       "      <th>Program Domain Concepts</th>\n",
       "      <th>All Concepts match Symbols (C )</th>\n",
       "      <th>Concepts match Type / Data  Type (C2)</th>\n",
       "      <th>Concepts not match Symbols (C3)</th>\n",
       "      <th>Concepts partially match Symbols(C4)</th>\n",
       "      <th>Concepts match structure(C5)</th>\n",
       "      <th>...</th>\n",
       "      <th>Output / Return(C29)</th>\n",
       "      <th>Junk(C30)</th>\n",
       "      <th>Development/implementation(C3 )</th>\n",
       "      <th>Usefullness score (NU, PU, U)</th>\n",
       "      <th>Scope Start</th>\n",
       "      <th>Scope End</th>\n",
       "      <th>Problem Domain Concept</th>\n",
       "      <th>Phrase</th>\n",
       "      <th>Unnamed: 41</th>\n",
       "      <th>Unnamed: 42</th>\n",
       "    </tr>\n",
       "  </thead>\n",
       "  <tbody>\n",
       "    <tr>\n",
       "      <th>0</th>\n",
       "      <td>repos/server_mariadb/extra/readline/signals.c</td>\n",
       "      <td>signals.c -- signal handling support for readl...</td>\n",
       "      <td>1.0</td>\n",
       "      <td>1</td>\n",
       "      <td>{'for': ['for', 'Operations as part of Algorit...</td>\n",
       "      <td>NaN</td>\n",
       "      <td>NaN</td>\n",
       "      <td>NaN</td>\n",
       "      <td>NaN</td>\n",
       "      <td>NaN</td>\n",
       "      <td>...</td>\n",
       "      <td>NaN</td>\n",
       "      <td>NaN</td>\n",
       "      <td>NaN</td>\n",
       "      <td>U</td>\n",
       "      <td>2</td>\n",
       "      <td>466.0</td>\n",
       "      <td>signal,readline</td>\n",
       "      <td>Summarizes functionality of whole file</td>\n",
       "      <td>NaN</td>\n",
       "      <td>NaN</td>\n",
       "    </tr>\n",
       "    <tr>\n",
       "      <th>1</th>\n",
       "      <td>repos/server_mariadb/extra/readline/signals.c</td>\n",
       "      <td>Copyright (C) 1987-2005 Free Software Foundati...</td>\n",
       "      <td>3.0</td>\n",
       "      <td>21</td>\n",
       "      <td>{'shipped': ['stepped', 'Operations as part of...</td>\n",
       "      <td>NaN</td>\n",
       "      <td>NaN</td>\n",
       "      <td>NaN</td>\n",
       "      <td>NaN</td>\n",
       "      <td>NaN</td>\n",
       "      <td>...</td>\n",
       "      <td>NaN</td>\n",
       "      <td>NaN</td>\n",
       "      <td>NaN</td>\n",
       "      <td>PU</td>\n",
       "      <td>NaN</td>\n",
       "      <td>NaN</td>\n",
       "      <td>readline</td>\n",
       "      <td>Copyright statement</td>\n",
       "      <td>NaN</td>\n",
       "      <td>NaN</td>\n",
       "    </tr>\n",
       "    <tr>\n",
       "      <th>2</th>\n",
       "      <td>repos/server_mariadb/extra/readline/signals.c</td>\n",
       "      <td>Just for NULL.  Yuck.</td>\n",
       "      <td>28.0</td>\n",
       "      <td>28</td>\n",
       "      <td>{'for': ['for', 'Operations as part of Algorit...</td>\n",
       "      <td>NaN</td>\n",
       "      <td>NaN</td>\n",
       "      <td>1.0</td>\n",
       "      <td>NaN</td>\n",
       "      <td>NaN</td>\n",
       "      <td>...</td>\n",
       "      <td>NaN</td>\n",
       "      <td>NaN</td>\n",
       "      <td>NaN</td>\n",
       "      <td>PU</td>\n",
       "      <td>28</td>\n",
       "      <td>28.0</td>\n",
       "      <td>[]</td>\n",
       "      <td>Talks about library to include</td>\n",
       "      <td>NaN</td>\n",
       "      <td>NaN</td>\n",
       "    </tr>\n",
       "    <tr>\n",
       "      <th>3</th>\n",
       "      <td>repos/server_mariadb/extra/readline/signals.c</td>\n",
       "      <td>HAVE_UNISTD_H</td>\n",
       "      <td>34.0</td>\n",
       "      <td>34</td>\n",
       "      <td>{}</td>\n",
       "      <td>NaN</td>\n",
       "      <td>1.0</td>\n",
       "      <td>NaN</td>\n",
       "      <td>NaN</td>\n",
       "      <td>NaN</td>\n",
       "      <td>...</td>\n",
       "      <td>NaN</td>\n",
       "      <td>NaN</td>\n",
       "      <td>NaN</td>\n",
       "      <td>PU</td>\n",
       "      <td>32</td>\n",
       "      <td>34.0</td>\n",
       "      <td>[]</td>\n",
       "      <td>End of #if</td>\n",
       "      <td>NaN</td>\n",
       "      <td>NaN</td>\n",
       "    </tr>\n",
       "    <tr>\n",
       "      <th>4</th>\n",
       "      <td>repos/server_mariadb/extra/readline/signals.c</td>\n",
       "      <td>System-specific feature definitions and includ...</td>\n",
       "      <td>36.0</td>\n",
       "      <td>36</td>\n",
       "      <td>{'include': ['includ', 'Operations as part of ...</td>\n",
       "      <td>NaN</td>\n",
       "      <td>NaN</td>\n",
       "      <td>NaN</td>\n",
       "      <td>NaN</td>\n",
       "      <td>NaN</td>\n",
       "      <td>...</td>\n",
       "      <td>NaN</td>\n",
       "      <td>NaN</td>\n",
       "      <td>NaN</td>\n",
       "      <td>U</td>\n",
       "      <td>37</td>\n",
       "      <td>37.0</td>\n",
       "      <td>[]</td>\n",
       "      <td>Tells about included files</td>\n",
       "      <td>NaN</td>\n",
       "      <td>NaN</td>\n",
       "    </tr>\n",
       "  </tbody>\n",
       "</table>\n",
       "<p>5 rows × 43 columns</p>\n",
       "</div>"
      ],
      "text/plain": [
       "                                        Filename  \\\n",
       "0  repos/server_mariadb/extra/readline/signals.c   \n",
       "1  repos/server_mariadb/extra/readline/signals.c   \n",
       "2  repos/server_mariadb/extra/readline/signals.c   \n",
       "3  repos/server_mariadb/extra/readline/signals.c   \n",
       "4  repos/server_mariadb/extra/readline/signals.c   \n",
       "\n",
       "                                        Comment text  Start line  End line  \\\n",
       "0  signals.c -- signal handling support for readl...         1.0         1   \n",
       "1  Copyright (C) 1987-2005 Free Software Foundati...         3.0        21   \n",
       "2                              Just for NULL.  Yuck.        28.0        28   \n",
       "3                                      HAVE_UNISTD_H        34.0        34   \n",
       "4  System-specific feature definitions and includ...        36.0        36   \n",
       "\n",
       "                             Program Domain Concepts  \\\n",
       "0  {'for': ['for', 'Operations as part of Algorit...   \n",
       "1  {'shipped': ['stepped', 'Operations as part of...   \n",
       "2  {'for': ['for', 'Operations as part of Algorit...   \n",
       "3                                                 {}   \n",
       "4  {'include': ['includ', 'Operations as part of ...   \n",
       "\n",
       "  All Concepts match Symbols (C )  Concepts match Type / Data  Type (C2)  \\\n",
       "0                             NaN                                    NaN   \n",
       "1                             NaN                                    NaN   \n",
       "2                             NaN                                    NaN   \n",
       "3                             NaN                                    1.0   \n",
       "4                             NaN                                    NaN   \n",
       "\n",
       "   Concepts not match Symbols (C3)  Concepts partially match Symbols(C4)  \\\n",
       "0                              NaN                                   NaN   \n",
       "1                              NaN                                   NaN   \n",
       "2                              1.0                                   NaN   \n",
       "3                              NaN                                   NaN   \n",
       "4                              NaN                                   NaN   \n",
       "\n",
       "   Concepts match structure(C5)     ...       Output / Return(C29)  Junk(C30)  \\\n",
       "0                           NaN     ...                        NaN        NaN   \n",
       "1                           NaN     ...                        NaN        NaN   \n",
       "2                           NaN     ...                        NaN        NaN   \n",
       "3                           NaN     ...                        NaN        NaN   \n",
       "4                           NaN     ...                        NaN        NaN   \n",
       "\n",
       "  Development/implementation(C3 ) Usefullness score (NU, PU, U) Scope Start  \\\n",
       "0                             NaN                             U           2   \n",
       "1                             NaN                            PU         NaN   \n",
       "2                             NaN                            PU          28   \n",
       "3                             NaN                            PU          32   \n",
       "4                             NaN                             U          37   \n",
       "\n",
       "   Scope End  Problem Domain Concept                                  Phrase  \\\n",
       "0      466.0         signal,readline  Summarizes functionality of whole file   \n",
       "1        NaN                readline                     Copyright statement   \n",
       "2       28.0                      []          Talks about library to include   \n",
       "3       34.0                      []                              End of #if   \n",
       "4       37.0                      []              Tells about included files   \n",
       "\n",
       "   Unnamed: 41  Unnamed: 42  \n",
       "0          NaN          NaN  \n",
       "1          NaN          NaN  \n",
       "2          NaN          NaN  \n",
       "3          NaN          NaN  \n",
       "4          NaN          NaN  \n",
       "\n",
       "[5 rows x 43 columns]"
      ]
     },
     "execution_count": 5,
     "metadata": {},
     "output_type": "execute_result"
    }
   ],
   "source": [
    "data = pd.read_csv('MariaDB_Saket_1100.csv',delimiter='\\t')\n",
    "data.head()"
   ]
  },
  {
   "cell_type": "code",
   "execution_count": 6,
   "metadata": {
    "collapsed": true
   },
   "outputs": [],
   "source": [
    "data_np = np.array(data)[:1100]"
   ]
  },
  {
   "cell_type": "code",
   "execution_count": 9,
   "metadata": {
    "collapsed": true
   },
   "outputs": [],
   "source": [
    "ctr = Counter()\n",
    "for el in data_np:\n",
    "    ctr[el[-7]] += 1"
   ]
  },
  {
   "cell_type": "code",
   "execution_count": 10,
   "metadata": {},
   "outputs": [
    {
     "data": {
      "text/plain": [
       "Counter({'1': 2, 'NU': 115, 'PU': 72, 'U': 911})"
      ]
     },
     "execution_count": 10,
     "metadata": {},
     "output_type": "execute_result"
    }
   ],
   "source": [
    "ctr"
   ]
  },
  {
   "cell_type": "code",
   "execution_count": null,
   "metadata": {
    "collapsed": true
   },
   "outputs": [],
   "source": []
  },
  {
   "cell_type": "code",
   "execution_count": 11,
   "metadata": {},
   "outputs": [
    {
     "data": {
      "text/plain": [
       "(1100, 43)"
      ]
     },
     "execution_count": 11,
     "metadata": {},
     "output_type": "execute_result"
    }
   ],
   "source": [
    "data_np.shape"
   ]
  },
  {
   "cell_type": "code",
   "execution_count": 12,
   "metadata": {
    "collapsed": true
   },
   "outputs": [],
   "source": [
    "cts = np.zeros(31)"
   ]
  },
  {
   "cell_type": "code",
   "execution_count": 13,
   "metadata": {},
   "outputs": [
    {
     "name": "stdout",
     "output_type": "stream",
     "text": [
      "1 57.0\n",
      "2 167.0\n",
      "3 718.0\n",
      "4 97.0\n",
      "5 42.0\n",
      "6 595.0\n",
      "7 722.0\n",
      "8 241.0\n",
      "9 300.0\n",
      "10 298.0\n",
      "11 82.0\n",
      "12 4.0\n",
      "13 622.0\n",
      "14 174.0\n",
      "15 914.0\n",
      "16 10.0\n",
      "17 0.0\n",
      "18 1.0\n",
      "19 0.0\n",
      "20 7.0\n",
      "21 1.0\n",
      "22 10.0\n",
      "23 23.0\n",
      "24 0.0\n",
      "25 226.0\n",
      "26 6.0\n",
      "27 2.0\n",
      "28 79.0\n",
      "29 93.0\n",
      "30 253.0\n",
      "31 693.0\n"
     ]
    }
   ],
   "source": [
    "for el in data_np:\n",
    "    for i in range(31):\n",
    "        if el[5+i] != el[5+i]:\n",
    "            continue\n",
    "        cts[i] += 1\n",
    "for i,j in enumerate(cts):\n",
    "    print(i+1,j)"
   ]
  },
  {
   "cell_type": "code",
   "execution_count": 14,
   "metadata": {
    "collapsed": true
   },
   "outputs": [],
   "source": [
    "ctss = [(cts[i],i+1) for i in range(31)]"
   ]
  },
  {
   "cell_type": "code",
   "execution_count": 15,
   "metadata": {},
   "outputs": [
    {
     "data": {
      "text/plain": [
       "[(0.0, 17),\n",
       " (0.0, 19),\n",
       " (0.0, 24),\n",
       " (1.0, 18),\n",
       " (1.0, 21),\n",
       " (2.0, 27),\n",
       " (4.0, 12),\n",
       " (6.0, 26),\n",
       " (7.0, 20),\n",
       " (10.0, 16),\n",
       " (10.0, 22),\n",
       " (23.0, 23),\n",
       " (42.0, 5),\n",
       " (57.0, 1),\n",
       " (79.0, 28),\n",
       " (82.0, 11),\n",
       " (93.0, 29),\n",
       " (97.0, 4),\n",
       " (167.0, 2),\n",
       " (174.0, 14),\n",
       " (226.0, 25),\n",
       " (241.0, 8),\n",
       " (253.0, 30),\n",
       " (298.0, 10),\n",
       " (300.0, 9),\n",
       " (595.0, 6),\n",
       " (622.0, 13),\n",
       " (693.0, 31),\n",
       " (718.0, 3),\n",
       " (722.0, 7),\n",
       " (914.0, 15)]"
      ]
     },
     "execution_count": 15,
     "metadata": {},
     "output_type": "execute_result"
    }
   ],
   "source": [
    "ctss = sorted(ctss)\n",
    "ctss"
   ]
  },
  {
   "cell_type": "code",
   "execution_count": null,
   "metadata": {
    "collapsed": true
   },
   "outputs": [],
   "source": []
  }
 ],
 "metadata": {
  "kernelspec": {
   "display_name": "Python 3",
   "language": "python",
   "name": "python3"
  },
  "language_info": {
   "codemirror_mode": {
    "name": "ipython",
    "version": 3
   },
   "file_extension": ".py",
   "mimetype": "text/x-python",
   "name": "python",
   "nbconvert_exporter": "python",
   "pygments_lexer": "ipython3",
   "version": "3.6.7"
  }
 },
 "nbformat": 4,
 "nbformat_minor": 2
}
