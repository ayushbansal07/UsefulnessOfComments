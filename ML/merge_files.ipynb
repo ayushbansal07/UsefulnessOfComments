{
 "cells": [
  {
   "cell_type": "code",
   "execution_count": 2,
   "metadata": {
    "collapsed": true
   },
   "outputs": [],
   "source": [
    "import pandas as pd\n",
    "import numpy as np\n",
    "import csv\n",
    "from os.path import join as PJOIN"
   ]
  },
  {
   "cell_type": "code",
   "execution_count": 18,
   "metadata": {
    "collapsed": true
   },
   "outputs": [],
   "source": [
    "DATA_DIR = \"DATA/GENERATED/TRAIN/\"\n",
    "commentTypeClassification = True\n",
    "DATA_FILES = [\"train_libpng_commentType.csv\",\"train_dealii_commentType.csv\",\"train_server_commentType.csv\"]\n",
    "OUTPUT_FILE = \"CONCATED_commentType\""
   ]
  },
  {
   "cell_type": "code",
   "execution_count": 19,
   "metadata": {
    "collapsed": true
   },
   "outputs": [],
   "source": [
    "SHAPES = set()\n",
    "def get_all_training_data():\n",
    "    all_files = []\n",
    "    if DATA_FILES[0] == 'all':\n",
    "        for file in os.listdir(DATA_DIR):\n",
    "            if file[:2] == 'X_':\n",
    "                all_files.append(file[2:])\n",
    "    else:\n",
    "        all_files = DATA_FILES\n",
    "    \n",
    "    all_x = []\n",
    "    all_y = []\n",
    "    all_z = []\n",
    "    \n",
    "    for file in all_files:\n",
    "        train_x = pd.read_csv(PJOIN(DATA_DIR,\"X_\"+file),header=None)\n",
    "        all_x.append(np.array(train_x))\n",
    "        train_y = pd.read_csv(PJOIN(DATA_DIR,\"Y_\"+file),header=None)\n",
    "        all_y.append(train_y)\n",
    "        train_z = pd.read_csv(PJOIN(DATA_DIR,\"Z_\"+file),header=None,delimiter='\\t')\n",
    "        SHAPES.add(train_z.shape)\n",
    "        all_z.append(train_z)\n",
    "    \n",
    "    all_x = np.concatenate(all_x)\n",
    "    all_y = np.concatenate(all_y)\n",
    "    all_z = np.concatenate(all_z)\n",
    "    print(all_x.shape,all_y.shape, all_z.shape)\n",
    "    all_y = all_y.reshape(all_y.shape[0])    \n",
    "    return all_x, all_y, all_z"
   ]
  },
  {
   "cell_type": "code",
   "execution_count": 20,
   "metadata": {
    "collapsed": true
   },
   "outputs": [],
   "source": [
    "# def normalize_data(x):\n",
    "#     return (x - np.mean(x,axis=0))/np.std(x,axis=0)\n",
    "\n",
    "def process_y_commentType(y):\n",
    "    res = []\n",
    "    for el in y:\n",
    "        temp = el.strip('][').split(',')\n",
    "        temp = [int(a) for a in temp]\n",
    "        res.append(temp)\n",
    "    return np.array(res)"
   ]
  },
  {
   "cell_type": "code",
   "execution_count": 25,
   "metadata": {},
   "outputs": [
    {
     "name": "stdout",
     "output_type": "stream",
     "text": [
      "(12774, 12) (12774, 1) (12774, 50)\n",
      "(12774, 3)\n"
     ]
    }
   ],
   "source": [
    "train_x, train_y, train_z = get_all_training_data()\n",
    "perm = np.random.permutation(len(train_y))\n",
    "train_x = train_x[perm]\n",
    "train_y = train_y[perm]\n",
    "train_z = train_z[perm]\n",
    "# Create a file for combined z\n",
    "with open(DATA_DIR+\"Z_\"+OUTPUT_FILE+\".csv\", 'w') as f:\n",
    "    writer = csv.writer(f, delimiter = '\\t')\n",
    "    header = ['F'+str(1+j) for j in range(len(train_z[0]))]\n",
    "    writer.writerow(header)\n",
    "    for el in train_z:\n",
    "        writer.writerow(el)\n",
    "if commentTypeClassification:\n",
    "    train_y = process_y_commentType(train_y)\n",
    "    print(train_y.shape)\n",
    "    OUTPUT_TYPES = ['ProgramDomain','ProblemDomain','ProjectManagement']\n",
    "    for i,ot in enumerate(OUTPUT_TYPES):\n",
    "        with open(DATA_DIR+OUTPUT_FILE+\"_\"+ot+\".csv\",'w') as f:\n",
    "            writer = csv.writer(f)\n",
    "            header = ['F'+str(1+j) for j in range(12)]\n",
    "            header.append('Class')\n",
    "            header.append('Index')\n",
    "            writer.writerow(header)\n",
    "            for j,l in enumerate(train_x):\n",
    "                writer.writerow(np.append(np.append(l,train_y[j,i]),j))\n",
    "                "
   ]
  },
  {
   "cell_type": "code",
   "execution_count": 17,
   "metadata": {},
   "outputs": [
    {
     "data": {
      "text/plain": [
       "{(3153, 50), (3407, 50), (6214, 49)}"
      ]
     },
     "execution_count": 17,
     "metadata": {},
     "output_type": "execute_result"
    }
   ],
   "source": [
    "SHAPES"
   ]
  },
  {
   "cell_type": "code",
   "execution_count": 23,
   "metadata": {},
   "outputs": [
    {
     "data": {
      "text/plain": [
       "array([9.85      , 7.25      , 1.85      , 1.49      , 0.41      ,\n",
       "       0.05      , 3.65      , 0.05      , 0.41000002, 0.05      ,\n",
       "       0.05      , 0.05      ])"
      ]
     },
     "execution_count": 23,
     "metadata": {},
     "output_type": "execute_result"
    }
   ],
   "source": [
    "l"
   ]
  },
  {
   "cell_type": "code",
   "execution_count": null,
   "metadata": {
    "collapsed": true
   },
   "outputs": [],
   "source": [
    "tra"
   ]
  }
 ],
 "metadata": {
  "kernelspec": {
   "display_name": "Python 3",
   "language": "python",
   "name": "python3"
  },
  "language_info": {
   "codemirror_mode": {
    "name": "ipython",
    "version": 3
   },
   "file_extension": ".py",
   "mimetype": "text/x-python",
   "name": "python",
   "nbconvert_exporter": "python",
   "pygments_lexer": "ipython3",
   "version": "3.6.7"
  }
 },
 "nbformat": 4,
 "nbformat_minor": 2
}
