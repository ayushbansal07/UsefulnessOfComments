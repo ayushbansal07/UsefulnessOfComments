{
 "cells": [
  {
   "cell_type": "code",
   "execution_count": null,
   "metadata": {
    "collapsed": true
   },
   "outputs": [],
   "source": [
    "import pandas as pd\n",
    "import numpy as np\n",
    "import csv\n",
    "from os.path import join as PJOIN\n",
    "import copy"
   ]
  },
  {
   "cell_type": "code",
   "execution_count": null,
   "metadata": {
    "collapsed": true
   },
   "outputs": [],
   "source": [
    "DATA_DIR = \"DATA/GENERATED/TRAIN/\"\n",
    "commentTypeClassification = True\n",
    "DATA_FILES = [\"train_libpng_commentType.csv\",\"train_dealii_commentType.csv\",\"train_server_commentType.csv\",\n",
    "             \"train_curl_Deepesh_commentType.csv\", \"train_curl_Saket_commentType.csv\", \n",
    "              \"train_curl_Saloni_commentType.csv\", \"train_curl_Yash_commentType.csv\"]\n",
    "OUTPUT_FILE = \"CONCATED_NEW_commentType\"\n",
    "\n",
    "HEADERS = [\"Num Comments Tokens\", \"Num Program Domain\", \"Num Problem Domain\", \"Descriptional\", \"Operational\",\n",
    "          \"Conditional\", \"Prog. Dom. Identifier Matches\", \"Prob. Dom. Identifier Matches\", \"Scope score\",\n",
    "          \"Build details\", \"Author Details\", \"Junk/Copy\"]"
   ]
  },
  {
   "cell_type": "code",
   "execution_count": null,
   "metadata": {
    "collapsed": true
   },
   "outputs": [],
   "source": [
    "SHAPES = set()\n",
    "def get_all_training_data():\n",
    "    all_files = []\n",
    "    if DATA_FILES[0] == 'all':\n",
    "        for file in os.listdir(DATA_DIR):\n",
    "            if file[:2] == 'X_':\n",
    "                all_files.append(file[2:])\n",
    "    else:\n",
    "        all_files = DATA_FILES\n",
    "    \n",
    "    all_x = []\n",
    "    all_y = []\n",
    "    all_z = []\n",
    "    \n",
    "    for file in all_files:\n",
    "        train_x = pd.read_csv(PJOIN(DATA_DIR,\"X_\"+file),header=None)\n",
    "        all_x.append(np.array(train_x))\n",
    "        train_y = pd.read_csv(PJOIN(DATA_DIR,\"Y_\"+file),header=None)\n",
    "        all_y.append(train_y)\n",
    "        train_z = pd.read_csv(PJOIN(DATA_DIR,\"Z_\"+file),header=None,delimiter='\\t')\n",
    "        SHAPES.add(train_z.shape)\n",
    "        all_z.append(train_z)\n",
    "    \n",
    "    all_x = np.concatenate(all_x)\n",
    "    all_y = np.concatenate(all_y)\n",
    "    all_z = np.concatenate(all_z)\n",
    "    print(all_x.shape,all_y.shape, all_z.shape)\n",
    "    all_y = all_y.reshape(all_y.shape[0])    \n",
    "    return all_x, all_y, all_z"
   ]
  },
  {
   "cell_type": "code",
   "execution_count": null,
   "metadata": {
    "collapsed": true
   },
   "outputs": [],
   "source": [
    "# def normalize_data(x):\n",
    "#     return (x - np.mean(x,axis=0))/np.std(x,axis=0)\n",
    "\n",
    "def process_y_commentType(y):\n",
    "    res = []\n",
    "    for el in y:\n",
    "        temp = el.strip('][').split(',')\n",
    "        temp = [int(a) for a in temp]\n",
    "        res.append(temp)\n",
    "    return np.array(res)"
   ]
  },
  {
   "cell_type": "code",
   "execution_count": null,
   "metadata": {},
   "outputs": [],
   "source": [
    "train_x, train_y, train_z = get_all_training_data()\n",
    "perm = np.random.permutation(len(train_y))\n",
    "train_x = train_x[perm]\n",
    "train_y = train_y[perm]\n",
    "train_z = train_z[perm]\n",
    "# Create a file for combined z\n",
    "with open(DATA_DIR+\"Z_\"+OUTPUT_FILE+\".csv\", 'w') as f:\n",
    "    writer = csv.writer(f, delimiter = '\\t')\n",
    "    header = ['F'+str(1+j) for j in range(len(train_z[0]))]\n",
    "    writer.writerow(header)\n",
    "    for el in train_z:\n",
    "        writer.writerow(el)\n",
    "if commentTypeClassification:\n",
    "    train_y = process_y_commentType(train_y)\n",
    "    print(train_y.shape)\n",
    "    OUTPUT_TYPES = ['ProgramDomain','ProblemDomain','ProjectManagement']\n",
    "    for i,ot in enumerate(OUTPUT_TYPES):\n",
    "        with open(DATA_DIR+OUTPUT_FILE+\"_\"+ot+\".csv\",'w') as f:\n",
    "            writer = csv.writer(f)\n",
    "            header = copy.deepcopy(HEADERS)\n",
    "            header.append('Class')\n",
    "            header.append('Index')\n",
    "            writer.writerow(header)\n",
    "            for j,l in enumerate(train_x):\n",
    "                writer.writerow(np.append(np.append(l,train_y[j,i]),j))\n",
    "    \n",
    "    with open(DATA_DIR+OUTPUT_FILE+\"_all.csv\",'w') as f:\n",
    "        writer = csv.writer(f)\n",
    "        header = copy.deepcopy(HEADERS) + OUTPUT_TYPES\n",
    "        header.append('Index')\n",
    "        writer.writerow(header)\n",
    "        for j,l in enumerate(train_x):\n",
    "            writer.writerow(np.append(np.concatenate((l,train_y[j])),j))\n",
    "                "
   ]
  },
  {
   "cell_type": "code",
   "execution_count": null,
   "metadata": {},
   "outputs": [],
   "source": [
    "SHAPES"
   ]
  },
  {
   "cell_type": "code",
   "execution_count": null,
   "metadata": {},
   "outputs": [],
   "source": [
    "l"
   ]
  },
  {
   "cell_type": "code",
   "execution_count": null,
   "metadata": {},
   "outputs": [],
   "source": [
    "train_y[j]"
   ]
  },
  {
   "cell_type": "code",
   "execution_count": null,
   "metadata": {},
   "outputs": [],
   "source": [
    "np.append(np.concatenate((l,train_y[j])),j)"
   ]
  },
  {
   "cell_type": "code",
   "execution_count": null,
   "metadata": {},
   "outputs": [],
   "source": [
    "len(HEADERS)"
   ]
  },
  {
   "cell_type": "code",
   "execution_count": null,
   "metadata": {
    "collapsed": true
   },
   "outputs": [],
   "source": []
  }
 ],
 "metadata": {
  "kernelspec": {
   "display_name": "Python 3",
   "language": "python",
   "name": "python3"
  },
  "language_info": {
   "codemirror_mode": {
    "name": "ipython",
    "version": 3
   },
   "file_extension": ".py",
   "mimetype": "text/x-python",
   "name": "python",
   "nbconvert_exporter": "python",
   "pygments_lexer": "ipython3",
   "version": "3.6.7"
  }
 },
 "nbformat": 4,
 "nbformat_minor": 2
}
