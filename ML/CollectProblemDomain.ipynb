{
 "cells": [
  {
   "cell_type": "code",
   "execution_count": 7,
   "metadata": {
    "collapsed": true
   },
   "outputs": [],
   "source": [
    "import pandas as pd\n",
    "import numpy as np\n",
    "import os\n",
    "import re"
   ]
  },
  {
   "cell_type": "code",
   "execution_count": 8,
   "metadata": {
    "collapsed": true
   },
   "outputs": [],
   "source": [
    "INPUT_FILE = \"DATA/ANNOTATED/curl_saket_extra_1000.xlsx\"\n",
    "OUTPUT_FOLDER = \"EXTRAS/PROBLEM_DOMAINS/plplot\"\n",
    "CLEARNING_RE = re.compile(\"[,\\\"\\'\\(\\)\\n]\")\n",
    "if not os.path.exists(OUTPUT_FOLDER):\n",
    "    os.mkdir(OUTPUT_FOLDER)"
   ]
  },
  {
   "cell_type": "code",
   "execution_count": 9,
   "metadata": {
    "collapsed": true
   },
   "outputs": [],
   "source": [
    "data = pd.read_excel(INPUT_FILE)\n",
    "data = np.array(data)"
   ]
  },
  {
   "cell_type": "code",
   "execution_count": 10,
   "metadata": {
    "collapsed": true
   },
   "outputs": [],
   "source": [
    "problem_domains = data[:,-1]"
   ]
  },
  {
   "cell_type": "code",
   "execution_count": 11,
   "metadata": {
    "collapsed": true
   },
   "outputs": [],
   "source": [
    "dom_list = set()\n",
    "for dom in problem_domains:\n",
    "    if dom != dom:\n",
    "        continue\n",
    "    dom = str(dom)\n",
    "    #print(dom)\n",
    "    s = dom\n",
    "#     s = dom[1:-1]\n",
    "    all_doms = CLEARNING_RE.split(s)\n",
    "    for each in all_doms:\n",
    "        if each.strip()!='':\n",
    "            dom_list.add(each.strip())"
   ]
  },
  {
   "cell_type": "code",
   "execution_count": 12,
   "metadata": {},
   "outputs": [
    {
     "data": {
      "text/plain": [
       "{'APPEND',\n",
       " 'ASCII',\n",
       " 'Apple',\n",
       " 'BLOCKING',\n",
       " 'BitTorrent',\n",
       " 'CA',\n",
       " 'CRAM-MD5',\n",
       " 'CRL',\n",
       " 'Curl',\n",
       " 'DER',\n",
       " 'DIGEST',\n",
       " 'DNS',\n",
       " 'DO',\n",
       " 'DONE',\n",
       " 'DOS',\n",
       " 'DigestSSP',\n",
       " 'FETCH',\n",
       " 'FILE',\n",
       " 'FSM',\n",
       " 'FTP',\n",
       " 'GET',\n",
       " 'GSS-API',\n",
       " 'GSSAPI',\n",
       " 'HEXDIG',\n",
       " 'HTTP',\n",
       " 'HTTPS',\n",
       " 'Hash',\n",
       " 'I/O',\n",
       " 'IANA',\n",
       " 'IIS',\n",
       " 'IMAP',\n",
       " 'IP',\n",
       " 'IP address',\n",
       " 'IP number',\n",
       " 'IPv4',\n",
       " 'IPv6',\n",
       " 'Kerberos',\n",
       " 'LF',\n",
       " 'LIST',\n",
       " 'LOGIN',\n",
       " 'LOGOUT',\n",
       " 'MD5',\n",
       " 'MD5-sess',\n",
       " 'MSDOS',\n",
       " 'Metalink',\n",
       " 'Microsoft',\n",
       " 'Mozilla',\n",
       " 'NTLM',\n",
       " 'Negotiate',\n",
       " 'OAuth',\n",
       " 'OpenSSH',\n",
       " 'PARTIAL',\n",
       " 'PASV',\n",
       " 'PEM',\n",
       " 'POST',\n",
       " 'PREAUTH',\n",
       " 'PUT',\n",
       " 'Port',\n",
       " 'QUIC',\n",
       " 'RFC',\n",
       " 'RFC 2616',\n",
       " 'RFC-5092',\n",
       " 'RFC4752',\n",
       " 'RFC6125',\n",
       " 'SASL',\n",
       " 'SASL-IR',\n",
       " 'SEARCH',\n",
       " 'SECTION',\n",
       " 'SELECT',\n",
       " 'SFTP',\n",
       " 'SPN',\n",
       " 'SPNEGO',\n",
       " 'SSL',\n",
       " 'SSPI',\n",
       " 'STARTTLS',\n",
       " 'TCP',\n",
       " 'TLS',\n",
       " 'Telnet',\n",
       " 'Terminal',\n",
       " 'Tiger',\n",
       " 'UID',\n",
       " 'UIDVALIDITY',\n",
       " 'UPN',\n",
       " 'URI',\n",
       " 'URL',\n",
       " 'URL_MALFORMAT',\n",
       " 'UTF8',\n",
       " 'Unicode',\n",
       " 'Unix',\n",
       " 'Win-2K/XP',\n",
       " 'Windows',\n",
       " 'Windows 2000',\n",
       " 'Windows 7',\n",
       " 'Windows 9x',\n",
       " 'Windows NT4.0',\n",
       " 'Windows Server 2003',\n",
       " 'Windows XP',\n",
       " 'Windows95/98/ME',\n",
       " 'achar',\n",
       " 'address',\n",
       " 'append',\n",
       " 'ascii',\n",
       " 'atom',\n",
       " 'auth-int',\n",
       " 'authentication',\n",
       " 'backslash',\n",
       " 'base-64',\n",
       " 'base64',\n",
       " 'bchar',\n",
       " 'block',\n",
       " 'body',\n",
       " 'bold',\n",
       " 'browser',\n",
       " 'buffer',\n",
       " 'byte',\n",
       " 'cache',\n",
       " 'callback',\n",
       " 'capability',\n",
       " 'certificate',\n",
       " 'challenge',\n",
       " 'checksum',\n",
       " 'cipher',\n",
       " 'colon',\n",
       " 'command ID',\n",
       " 'command line',\n",
       " 'config',\n",
       " 'connect',\n",
       " 'connection',\n",
       " 'connection ID',\n",
       " 'cookie',\n",
       " 'credentials',\n",
       " 'crypto',\n",
       " 'curl',\n",
       " 'decimal number',\n",
       " 'digest',\n",
       " 'dns',\n",
       " 'do',\n",
       " 'done',\n",
       " 'dot notation',\n",
       " 'drive',\n",
       " 'engine',\n",
       " 'file',\n",
       " 'free',\n",
       " 'ftp',\n",
       " 'get',\n",
       " 'greeting',\n",
       " 'handle',\n",
       " 'hash',\n",
       " 'header',\n",
       " 'headers',\n",
       " 'hex',\n",
       " 'hit',\n",
       " 'home directory',\n",
       " 'host',\n",
       " 'hostname',\n",
       " 'http',\n",
       " 'https',\n",
       " 'iOS',\n",
       " 'identity',\n",
       " 'imap',\n",
       " 'ip',\n",
       " 'ipv4',\n",
       " 'ipv6',\n",
       " 'kerberos',\n",
       " 'key',\n",
       " 'label',\n",
       " 'letter',\n",
       " 'libcurl',\n",
       " 'list',\n",
       " 'login',\n",
       " 'mac',\n",
       " 'mailbox',\n",
       " 'match',\n",
       " 'md5',\n",
       " 'metalink',\n",
       " 'name',\n",
       " 'newline',\n",
       " 'package',\n",
       " 'padding',\n",
       " 'parse',\n",
       " 'passphrase',\n",
       " 'password',\n",
       " 'pasv',\n",
       " 'path',\n",
       " 'pattern',\n",
       " 'pct-encoded',\n",
       " 'perl',\n",
       " 'pingpong',\n",
       " 'pop',\n",
       " 'port',\n",
       " 'post',\n",
       " 'progress-bar',\n",
       " 'protocol',\n",
       " 'proxy',\n",
       " 'put',\n",
       " 'qop',\n",
       " 'redirect',\n",
       " 'remote',\n",
       " 'response',\n",
       " 'retry',\n",
       " 'schannel',\n",
       " 'search',\n",
       " 'section',\n",
       " 'select',\n",
       " 'server',\n",
       " 'session',\n",
       " 'sftp',\n",
       " 'sha-256',\n",
       " 'sha256',\n",
       " 'shrink',\n",
       " 'slash',\n",
       " 'smtp',\n",
       " 'specifier',\n",
       " 'speed',\n",
       " 'ssl',\n",
       " 'state-machine',\n",
       " 'stream',\n",
       " 'sub-delims-sh',\n",
       " 'subletter',\n",
       " 'suffix',\n",
       " 'symlink',\n",
       " 'tag',\n",
       " 'tcp',\n",
       " 'terminate',\n",
       " 'terminator',\n",
       " 'time-out',\n",
       " 'timeout',\n",
       " 'tls',\n",
       " 'token',\n",
       " 'trailer',\n",
       " 'type-1',\n",
       " 'type-2',\n",
       " 'type-3',\n",
       " 'uchar',\n",
       " 'uri',\n",
       " 'url',\n",
       " 'user',\n",
       " 'username',\n",
       " 'value',\n",
       " 'version',\n",
       " 'wildcard',\n",
       " 'win32',\n",
       " 'windows',\n",
       " 'wrapper'}"
      ]
     },
     "execution_count": 12,
     "metadata": {},
     "output_type": "execute_result"
    }
   ],
   "source": [
    "dom_list"
   ]
  },
  {
   "cell_type": "code",
   "execution_count": 13,
   "metadata": {
    "collapsed": true
   },
   "outputs": [],
   "source": [
    "with open(os.path.join(OUTPUT_FOLDER,\"problem_domain_saket.txt\"),'a') as f:\n",
    "    for each in dom_list:\n",
    "        f.write(each+\"\\n\")"
   ]
  },
  {
   "cell_type": "code",
   "execution_count": null,
   "metadata": {
    "collapsed": true
   },
   "outputs": [],
   "source": []
  },
  {
   "cell_type": "code",
   "execution_count": null,
   "metadata": {
    "collapsed": true
   },
   "outputs": [],
   "source": []
  },
  {
   "cell_type": "code",
   "execution_count": null,
   "metadata": {
    "collapsed": true
   },
   "outputs": [],
   "source": []
  },
  {
   "cell_type": "code",
   "execution_count": 10,
   "metadata": {},
   "outputs": [
    {
     "name": "stdout",
     "output_type": "stream",
     "text": [
      "0 :  curl/lib/vauth/digest_sspi.c/digest_sspi.c\n",
      "1 :  Reset any variables\n",
      "2 :  666.0\n",
      "3 :  666.0\n",
      "4 :  3.0\n",
      "5 :  {'reset': ['reset', 'Operations as part of Algorithms']}\n",
      "6 :  nan\n",
      "7 :  nan\n",
      "8 :  1.0\n",
      "9 :  nan\n",
      "10 :  1.0\n",
      "11 :  1\n",
      "12 :   \n",
      "13 :   \n",
      "14 :  nan\n",
      "15 :  1.0\n",
      "16 :  nan\n",
      "17 :  nan\n",
      "18 :   \n",
      "19 :  nan\n",
      "20 :  1.0\n",
      "21 :  nan\n",
      "22 :  nan\n",
      "23 :  nan\n",
      "24 :  nan\n",
      "25 :  nan\n",
      "26 :  nan\n",
      "27 :  nan\n",
      "28 :  nan\n",
      "29 :  nan\n",
      "30 :  nan\n",
      "31 :  nan\n",
      "32 :  nan\n",
      "33 :  nan\n",
      "34 :  nan\n",
      "35 :  nan\n",
      "36 :  nan\n",
      "37 :  U\n",
      "38 :  variables\n"
     ]
    }
   ],
   "source": [
    "for i, el in enumerate(data[300]):\n",
    "    print(i,\": \",el)"
   ]
  },
  {
   "cell_type": "code",
   "execution_count": 12,
   "metadata": {
    "collapsed": true
   },
   "outputs": [],
   "source": [
    "myset = set()\n",
    "with open(os.path.join(OUTPUT_FOLDER,\"problem_domain_plplot.txt\"),'r') as f:\n",
    "    for line in f:\n",
    "        myset.add(line.strip().lower())"
   ]
  },
  {
   "cell_type": "code",
   "execution_count": 13,
   "metadata": {},
   "outputs": [
    {
     "data": {
      "text/plain": [
       "94"
      ]
     },
     "execution_count": 13,
     "metadata": {},
     "output_type": "execute_result"
    }
   ],
   "source": [
    "len(myset)"
   ]
  },
  {
   "cell_type": "code",
   "execution_count": 14,
   "metadata": {},
   "outputs": [],
   "source": [
    "with open(os.path.join(OUTPUT_FOLDER,\"problem_domain_plplot.txt\"),'w') as f:\n",
    "    for each in myset:\n",
    "        f.write(each+\"\\n\")"
   ]
  },
  {
   "cell_type": "code",
   "execution_count": null,
   "metadata": {
    "collapsed": true
   },
   "outputs": [],
   "source": []
  },
  {
   "cell_type": "code",
   "execution_count": null,
   "metadata": {
    "collapsed": true
   },
   "outputs": [],
   "source": []
  }
 ],
 "metadata": {
  "kernelspec": {
   "display_name": "Python 3",
   "language": "python",
   "name": "python3"
  },
  "language_info": {
   "codemirror_mode": {
    "name": "ipython",
    "version": 3
   },
   "file_extension": ".py",
   "mimetype": "text/x-python",
   "name": "python",
   "nbconvert_exporter": "python",
   "pygments_lexer": "ipython3",
   "version": "3.6.7"
  }
 },
 "nbformat": 4,
 "nbformat_minor": 2
}
