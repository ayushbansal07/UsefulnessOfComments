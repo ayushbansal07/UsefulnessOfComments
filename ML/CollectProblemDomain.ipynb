{
 "cells": [
  {
   "cell_type": "code",
   "execution_count": 3,
   "metadata": {
    "collapsed": true
   },
   "outputs": [],
   "source": [
    "import pandas as pd\n",
    "import numpy as np\n",
    "import os"
   ]
  },
  {
   "cell_type": "code",
   "execution_count": 5,
   "metadata": {},
   "outputs": [],
   "source": [
    "INPUT_FILE = \"DATA/ANNOTATED/dealii.xlsx\"\n",
    "OUTPUT_FOLDER = \"EXTRAS/PROBLEM_DOMAINS/dealii\"\n",
    "if not os.path.exists(OUTPUT_FOLDER):\n",
    "    os.mkdir(OUTPUT_FOLDER)"
   ]
  },
  {
   "cell_type": "code",
   "execution_count": 7,
   "metadata": {},
   "outputs": [],
   "source": [
    "data = pd.read_excel(INPUT_FILE)\n",
    "data = np.array(data)"
   ]
  },
  {
   "cell_type": "code",
   "execution_count": 11,
   "metadata": {},
   "outputs": [],
   "source": [
    "problem_domains = data[:,6]"
   ]
  },
  {
   "cell_type": "code",
   "execution_count": 16,
   "metadata": {},
   "outputs": [],
   "source": [
    "dom_list = set()\n",
    "for dom in problem_domains:\n",
    "    s = dom[1:-1]\n",
    "    all_doms = s.split(\",\")\n",
    "    for each in all_doms:\n",
    "        if each.strip()!='':\n",
    "            dom_list.add(each)"
   ]
  },
  {
   "cell_type": "code",
   "execution_count": 17,
   "metadata": {},
   "outputs": [
    {
     "data": {
      "text/plain": [
       "{'BOOST',\n",
       " 'archive',\n",
       " 'backslash',\n",
       " 'boost',\n",
       " 'borland',\n",
       " 'command line',\n",
       " 'delimiter',\n",
       " 'documentation',\n",
       " 'encode',\n",
       " 'headers',\n",
       " 'intel',\n",
       " 'linker',\n",
       " 'macro',\n",
       " 'msvc',\n",
       " 'namespace',\n",
       " 'objects',\n",
       " 'override',\n",
       " 'parse',\n",
       " 'parser',\n",
       " 'parsing',\n",
       " 'polymorphic',\n",
       " 'register',\n",
       " 'revision history',\n",
       " 'semicolon',\n",
       " 'spaces',\n",
       " 'tabs',\n",
       " 'whitespace',\n",
       " 'xml'}"
      ]
     },
     "execution_count": 17,
     "metadata": {},
     "output_type": "execute_result"
    }
   ],
   "source": [
    "dom_list"
   ]
  },
  {
   "cell_type": "code",
   "execution_count": 19,
   "metadata": {},
   "outputs": [],
   "source": [
    "with open(os.path.join(OUTPUT_FOLDER,\"problem_domain.txt\"),'w') as f:\n",
    "    for each in dom_list:\n",
    "        f.write(each+\"\\n\")"
   ]
  },
  {
   "cell_type": "code",
   "execution_count": null,
   "metadata": {
    "collapsed": true
   },
   "outputs": [],
   "source": []
  }
 ],
 "metadata": {
  "kernelspec": {
   "display_name": "Python 3",
   "language": "python",
   "name": "python3"
  },
  "language_info": {
   "codemirror_mode": {
    "name": "ipython",
    "version": 3
   },
   "file_extension": ".py",
   "mimetype": "text/x-python",
   "name": "python",
   "nbconvert_exporter": "python",
   "pygments_lexer": "ipython3",
   "version": "3.6.7"
  }
 },
 "nbformat": 4,
 "nbformat_minor": 2
}
