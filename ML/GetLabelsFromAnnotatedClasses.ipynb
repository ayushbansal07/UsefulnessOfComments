{
 "cells": [
  {
   "cell_type": "code",
   "execution_count": 2,
   "metadata": {
    "collapsed": true
   },
   "outputs": [],
   "source": [
    "import pandas as pd\n",
    "import numpy as np\n",
    "from os.path import join as PJOIN"
   ]
  },
  {
   "cell_type": "code",
   "execution_count": 6,
   "metadata": {},
   "outputs": [],
   "source": [
    "PREFIX = \"comments\"\n",
    "PROJECT_NAME = \"libpng\"\n",
    "SUFFIX = \"all_marked\"\n",
    "FILE_NAME = PREFIX + \"_\" + PROJECT_NAME + \"_\" + SUFFIX + \".xlsx\"\n",
    "FILE_PATH = PJOIN(\"DATA\",\"ANNOTATED\",FILE_NAME)\n",
    "OUTPUT_FILE_PATH = PJOIN(\"DATA\",\"GENERATED\",FILE_NAME)\n",
    "MAP = {'U':'U', 'PU':'P', 'NU':'N'}\n",
    "THRESHOLD = 10"
   ]
  },
  {
   "cell_type": "markdown",
   "metadata": {},
   "source": [
    "# Rules"
   ]
  },
  {
   "cell_type": "code",
   "execution_count": 7,
   "metadata": {
    "collapsed": true
   },
   "outputs": [],
   "source": [
    "# c is a vector of size 31 [comment text, C1, C2, ......., C30]\n",
    "def get_label(c):\n",
    "    #IF C18 OR C19 OR C20  OR  C21  OR C22 OR C28 OR C29 THEN  U\n",
    "    if c[18] or c[19] or c[20] or c[21] or c[22] or c[28] or c[29]:\n",
    "        return 'U'\n",
    "    #IF C9 AND C3 THEN U\n",
    "    if c[9] and c[3]:\n",
    "        return 'U'\n",
    "    #IF C11 AND C3 THEN U\n",
    "    if c[11] and c[3]:\n",
    "        return 'U'\n",
    "    #IF (C25 OR C23 OR C26 OR C27 ) AND C3 THEN U\n",
    "    if (c[25] or c[23] or c[26] or c[27]) and c[3]:\n",
    "        return 'U'\n",
    "    #IF (C25 OR C23 OR C26 OR C27) AND C4 AND (C9  OR C11) THEN U\n",
    "    if (c[25] or c[23] or c[26] or c[27]) and c[4] and (c[9] or c[11]):\n",
    "        return 'U'\n",
    "    #IF C10 AND C15  AND C3 THEN U\n",
    "    if c[10] and c[15] and c[3]:\n",
    "        return 'U'\n",
    "    #IF C8 AND C15  AND C3 THEN U\n",
    "    if c[8] and c[15] and c[3]:\n",
    "        return 'U'\n",
    "    #IF (C18 OR C19 OR C20 OR C21) AND C17 THEN U\n",
    "    if (c[18] or c[19] or c[20] or c[21]) and c[17]:\n",
    "        return 'U'\n",
    "    #Low Problem Domain AND Low Scope AND Concepts don't match Symbols = U\n",
    "    if c[10] and c[15] and c[3]:\n",
    "        return 'U'\n",
    "    #Low Problem Domain AND Low Scope AND Concepts Partially Match = U\n",
    "    if c[10] and c[15] and c[4]:\n",
    "        return 'U'\n",
    "    \n",
    "    #IF C9 AND (C4 OR C5) THEN PU\n",
    "    if c[9] and (c[4] or c[5]):\n",
    "        return 'PU'\n",
    "    #IF C11 AND (C4  OR C5) THEN PU\n",
    "    if c[11] and (c[4] or c[5]):\n",
    "        return 'PU'\n",
    "    #IF C10 AND C14  AND C3 THEN PU\n",
    "    if c[1] and c[14] and c[3]:\n",
    "        return 'PU'\n",
    "    #IF C8 AND C14  AND C3 THEN PU\n",
    "    if c[8] and c[14] and c[3]:\n",
    "        return 'PU'\n",
    "    #IF C17 AND NOT (C18 OR C19 OR C20 OR C21)  THEN PU\n",
    "    if c[17] and not((c[18] or c[19] or c[20] or c[21])):\n",
    "        return 'PU'\n",
    "    #Low  Problem Domain AND Concepts Partially Match = PU\n",
    "    if c[10] and c[4]:\n",
    "        return 'PU'\n",
    "    #Low Program Domain AND Concepts Partially Match = PU\n",
    "    if c[8] and c[4]:\n",
    "        return 'PU'\n",
    "    \n",
    "    #IF C12 OR C16 THEN  NU\n",
    "    if c[12] or c[16]:\n",
    "        return 'NU'\n",
    "    #IF (C8 OR C9)  AND C1 THEN NU\n",
    "    if (c[8] or c[9]) and c[1]:\n",
    "        return 'NU'\n",
    "    #IF (C10 OR C11) AND C1 THEN NU\n",
    "    if (c[10] or c[11]) and c[1]:\n",
    "        return 'NU'\n",
    "    #IF C10 AND C15  AND C1 THEN U\n",
    "    if c[10] and c[15] and c[1]:\n",
    "        return 'NU'\n",
    "    #IF C8 AND C15  AND C1 THEN U\n",
    "    if c[8] and c[15] and c[1]:\n",
    "        return 'NU'\n",
    "    \n",
    "    #print(\"###NOMATCH\")\n",
    "    return 'NU'\n",
    "    \n"
   ]
  },
  {
   "cell_type": "code",
   "execution_count": 8,
   "metadata": {},
   "outputs": [
    {
     "data": {
      "text/html": [
       "<div>\n",
       "<style>\n",
       "    .dataframe thead tr:only-child th {\n",
       "        text-align: right;\n",
       "    }\n",
       "\n",
       "    .dataframe thead th {\n",
       "        text-align: left;\n",
       "    }\n",
       "\n",
       "    .dataframe tbody tr th {\n",
       "        vertical-align: top;\n",
       "    }\n",
       "</style>\n",
       "<table border=\"1\" class=\"dataframe\">\n",
       "  <thead>\n",
       "    <tr style=\"text-align: right;\">\n",
       "      <th></th>\n",
       "      <th>Filename</th>\n",
       "      <th>Comment text</th>\n",
       "      <th>Start line</th>\n",
       "      <th>End line</th>\n",
       "      <th>No. of words</th>\n",
       "      <th>Program Domain Concepts</th>\n",
       "      <th>Problem Domain Concepts</th>\n",
       "      <th>Copyright/License</th>\n",
       "      <th>Bug/Fix/Patch/Version</th>\n",
       "      <th>Build</th>\n",
       "      <th>...</th>\n",
       "      <th>C22</th>\n",
       "      <th>C23</th>\n",
       "      <th>C24</th>\n",
       "      <th>C25</th>\n",
       "      <th>C26</th>\n",
       "      <th>C27</th>\n",
       "      <th>C28</th>\n",
       "      <th>C29</th>\n",
       "      <th>C30</th>\n",
       "      <th>Score</th>\n",
       "    </tr>\n",
       "  </thead>\n",
       "  <tbody>\n",
       "    <tr>\n",
       "      <th>0</th>\n",
       "      <td>repos/libpng-code/pngset.c</td>\n",
       "      <td>pngset.c - storage of image information into i...</td>\n",
       "      <td>2</td>\n",
       "      <td>17</td>\n",
       "      <td>116</td>\n",
       "      <td>{'storage': ['storag', 'Time Complexity / Spac...</td>\n",
       "      <td>['image', 'libpng']</td>\n",
       "      <td>True</td>\n",
       "      <td>False</td>\n",
       "      <td>False</td>\n",
       "      <td>...</td>\n",
       "      <td>NaN</td>\n",
       "      <td>NaN</td>\n",
       "      <td>NaN</td>\n",
       "      <td>NaN</td>\n",
       "      <td>NaN</td>\n",
       "      <td>NaN</td>\n",
       "      <td>1.0</td>\n",
       "      <td>NaN</td>\n",
       "      <td>NaN</td>\n",
       "      <td>U</td>\n",
       "    </tr>\n",
       "    <tr>\n",
       "      <th>1</th>\n",
       "      <td>repos/libpng-code/pngset.c</td>\n",
       "      <td>override with app values</td>\n",
       "      <td>62</td>\n",
       "      <td>61</td>\n",
       "      <td>4</td>\n",
       "      <td>{'values': ['valu', 'Data-Structure and its Co...</td>\n",
       "      <td>[]</td>\n",
       "      <td>False</td>\n",
       "      <td>False</td>\n",
       "      <td>False</td>\n",
       "      <td>...</td>\n",
       "      <td>NaN</td>\n",
       "      <td>NaN</td>\n",
       "      <td>NaN</td>\n",
       "      <td>NaN</td>\n",
       "      <td>NaN</td>\n",
       "      <td>NaN</td>\n",
       "      <td>NaN</td>\n",
       "      <td>NaN</td>\n",
       "      <td>NaN</td>\n",
       "      <td>P</td>\n",
       "    </tr>\n",
       "    <tr>\n",
       "      <th>2</th>\n",
       "      <td>repos/libpng-code/pngset.c</td>\n",
       "      <td>FLOATING_POINT</td>\n",
       "      <td>133</td>\n",
       "      <td>133</td>\n",
       "      <td>1</td>\n",
       "      <td>{}</td>\n",
       "      <td>[]</td>\n",
       "      <td>False</td>\n",
       "      <td>False</td>\n",
       "      <td>False</td>\n",
       "      <td>...</td>\n",
       "      <td>NaN</td>\n",
       "      <td>NaN</td>\n",
       "      <td>NaN</td>\n",
       "      <td>NaN</td>\n",
       "      <td>NaN</td>\n",
       "      <td>NaN</td>\n",
       "      <td>NaN</td>\n",
       "      <td>NaN</td>\n",
       "      <td>NaN</td>\n",
       "      <td>N</td>\n",
       "    </tr>\n",
       "    <tr>\n",
       "      <th>3</th>\n",
       "      <td>repos/libpng-code/pngset.c</td>\n",
       "      <td>cHRM</td>\n",
       "      <td>135</td>\n",
       "      <td>135</td>\n",
       "      <td>1</td>\n",
       "      <td>{}</td>\n",
       "      <td>[]</td>\n",
       "      <td>False</td>\n",
       "      <td>False</td>\n",
       "      <td>False</td>\n",
       "      <td>...</td>\n",
       "      <td>NaN</td>\n",
       "      <td>NaN</td>\n",
       "      <td>NaN</td>\n",
       "      <td>NaN</td>\n",
       "      <td>NaN</td>\n",
       "      <td>NaN</td>\n",
       "      <td>NaN</td>\n",
       "      <td>NaN</td>\n",
       "      <td>NaN</td>\n",
       "      <td>P</td>\n",
       "    </tr>\n",
       "    <tr>\n",
       "      <th>4</th>\n",
       "      <td>repos/libpng-code/pngset.c</td>\n",
       "      <td>eXIf</td>\n",
       "      <td>182</td>\n",
       "      <td>182</td>\n",
       "      <td>1</td>\n",
       "      <td>{}</td>\n",
       "      <td>[]</td>\n",
       "      <td>False</td>\n",
       "      <td>False</td>\n",
       "      <td>False</td>\n",
       "      <td>...</td>\n",
       "      <td>NaN</td>\n",
       "      <td>NaN</td>\n",
       "      <td>NaN</td>\n",
       "      <td>NaN</td>\n",
       "      <td>NaN</td>\n",
       "      <td>NaN</td>\n",
       "      <td>NaN</td>\n",
       "      <td>NaN</td>\n",
       "      <td>NaN</td>\n",
       "      <td>P</td>\n",
       "    </tr>\n",
       "  </tbody>\n",
       "</table>\n",
       "<p>5 rows × 47 columns</p>\n",
       "</div>"
      ],
      "text/plain": [
       "                     Filename  \\\n",
       "0  repos/libpng-code/pngset.c   \n",
       "1  repos/libpng-code/pngset.c   \n",
       "2  repos/libpng-code/pngset.c   \n",
       "3  repos/libpng-code/pngset.c   \n",
       "4  repos/libpng-code/pngset.c   \n",
       "\n",
       "                                        Comment text  Start line  End line  \\\n",
       "0  pngset.c - storage of image information into i...           2        17   \n",
       "1                           override with app values          62        61   \n",
       "2                                     FLOATING_POINT         133       133   \n",
       "3                                               cHRM         135       135   \n",
       "4                                               eXIf         182       182   \n",
       "\n",
       "   No. of words                            Program Domain Concepts  \\\n",
       "0           116  {'storage': ['storag', 'Time Complexity / Spac...   \n",
       "1             4  {'values': ['valu', 'Data-Structure and its Co...   \n",
       "2             1                                                 {}   \n",
       "3             1                                                 {}   \n",
       "4             1                                                 {}   \n",
       "\n",
       "  Problem Domain Concepts  Copyright/License  Bug/Fix/Patch/Version  Build  \\\n",
       "0     ['image', 'libpng']               True                  False  False   \n",
       "1                      []              False                  False  False   \n",
       "2                      []              False                  False  False   \n",
       "3                      []              False                  False  False   \n",
       "4                      []              False                  False  False   \n",
       "\n",
       "   ...    C22  C23  C24  C25  C26  C27  C28  C29  C30  Score  \n",
       "0  ...    NaN  NaN  NaN  NaN  NaN  NaN  1.0  NaN  NaN      U  \n",
       "1  ...    NaN  NaN  NaN  NaN  NaN  NaN  NaN  NaN  NaN      P  \n",
       "2  ...    NaN  NaN  NaN  NaN  NaN  NaN  NaN  NaN  NaN      N  \n",
       "3  ...    NaN  NaN  NaN  NaN  NaN  NaN  NaN  NaN  NaN      P  \n",
       "4  ...    NaN  NaN  NaN  NaN  NaN  NaN  NaN  NaN  NaN      P  \n",
       "\n",
       "[5 rows x 47 columns]"
      ]
     },
     "execution_count": 8,
     "metadata": {},
     "output_type": "execute_result"
    }
   ],
   "source": [
    "if FILE_PATH[-3:] == 'csv':\n",
    "    exl_file = pd.read_csv(FILE_PATH,delimiter='\\t')\n",
    "else:\n",
    "    exl_file = pd.read_excel(FILE_PATH)\n",
    "exl_file.head()"
   ]
  },
  {
   "cell_type": "code",
   "execution_count": 9,
   "metadata": {
    "collapsed": true
   },
   "outputs": [],
   "source": [
    "exl_np = np.array(exl_file)"
   ]
  },
  {
   "cell_type": "code",
   "execution_count": 10,
   "metadata": {},
   "outputs": [
    {
     "data": {
      "text/plain": [
       "array(['pngset.c - storage of image information into info struct\\n *\\n * Copyright (c) 2018 Cosmin Truta\\n * Copyright (c) 1998-2018 Glenn Randers-Pehrson\\n * Copyright (c) 1996-1997 Andreas Dilger\\n * Copyright (c) 1995-1996 Guy Eric Schalnat, Group 42, Inc.\\n *\\n * This code is released under the libpng license.\\n * For conditions of distribution and use, see the disclaimer\\n * and license in png.h\\n *\\n * The functions here are used during reads to store data from the file\\n * into the info struct, and during writes to store application data\\n * into the info struct for writing into the file.  This abstracts the\\n * info struct and allows us to change the structure in the future.',\n",
       "       nan, nan, nan, 1.0, nan, nan, nan, nan, 1.0, nan, 1.0, nan, nan,\n",
       "       1.0, nan, 1.0, nan, nan, nan, nan, 1.0, nan, nan, nan, nan, nan,\n",
       "       nan, 1.0, nan, nan], dtype=object)"
      ]
     },
     "execution_count": 10,
     "metadata": {},
     "output_type": "execute_result"
    }
   ],
   "source": [
    "classes = exl_np[:,[1]+list(range(16,46))]\n",
    "classes[0]"
   ]
  },
  {
   "cell_type": "code",
   "execution_count": 11,
   "metadata": {},
   "outputs": [],
   "source": [
    "for j, c in enumerate(classes):\n",
    "    for i in range(1,31):\n",
    "        try:\n",
    "            if c[i] != c[i]:\n",
    "                c[i] = False\n",
    "#             elif c[i] == 'False':\n",
    "#                 c[i] = False\n",
    "#             elif c[i] == 'True':\n",
    "#                 c[i] = True\n",
    "            elif int(c[i]) == 1:\n",
    "                c[i] = True\n",
    "            else:\n",
    "                c[i] = False\n",
    "        except:\n",
    "            print(j, i)"
   ]
  },
  {
   "cell_type": "code",
   "execution_count": null,
   "metadata": {
    "collapsed": true
   },
   "outputs": [],
   "source": []
  },
  {
   "cell_type": "code",
   "execution_count": 12,
   "metadata": {
    "collapsed": true
   },
   "outputs": [],
   "source": [
    "labels = []\n",
    "for c in classes:\n",
    "    labels.append(MAP[get_label(c)])"
   ]
  },
  {
   "cell_type": "code",
   "execution_count": 13,
   "metadata": {
    "collapsed": true
   },
   "outputs": [],
   "source": [
    "exl_file['Calculated Score'] = labels"
   ]
  },
  {
   "cell_type": "code",
   "execution_count": 14,
   "metadata": {
    "collapsed": true
   },
   "outputs": [],
   "source": [
    "if FILE_PATH[-3:] == 'csv':\n",
    "    exl_file.to_csv(OUTPUT_FILE_PATH,index=False)\n",
    "else:\n",
    "    exl_file.to_excel(OUTPUT_FILE_PATH, index=False)"
   ]
  },
  {
   "cell_type": "code",
   "execution_count": null,
   "metadata": {
    "collapsed": true
   },
   "outputs": [],
   "source": []
  },
  {
   "cell_type": "code",
   "execution_count": null,
   "metadata": {
    "collapsed": true
   },
   "outputs": [],
   "source": []
  },
  {
   "cell_type": "markdown",
   "metadata": {},
   "source": [
    "# Analysis"
   ]
  },
  {
   "cell_type": "code",
   "execution_count": 15,
   "metadata": {
    "collapsed": true
   },
   "outputs": [],
   "source": [
    "intuitive_labels = exl_np[:,-1]"
   ]
  },
  {
   "cell_type": "code",
   "execution_count": 16,
   "metadata": {
    "collapsed": true
   },
   "outputs": [],
   "source": [
    "lables_np = np.array(labels)"
   ]
  },
  {
   "cell_type": "code",
   "execution_count": null,
   "metadata": {
    "collapsed": true
   },
   "outputs": [],
   "source": []
  },
  {
   "cell_type": "code",
   "execution_count": 172,
   "metadata": {
    "collapsed": true
   },
   "outputs": [],
   "source": [
    "num_nan = np.sum(np.array([x !=x for x in intuitive_labels]))"
   ]
  },
  {
   "cell_type": "code",
   "execution_count": 173,
   "metadata": {},
   "outputs": [
    {
     "data": {
      "text/plain": [
       "(0.08846584546472565, 893)"
      ]
     },
     "execution_count": 173,
     "metadata": {},
     "output_type": "execute_result"
    }
   ],
   "source": [
    "sum(lables_np == intuitive_labels)/(len(lables_np) - num_nan), (len(lables_np) - num_nan)"
   ]
  },
  {
   "cell_type": "code",
   "execution_count": 174,
   "metadata": {
    "collapsed": true
   },
   "outputs": [],
   "source": [
    "losses = {}"
   ]
  },
  {
   "cell_type": "code",
   "execution_count": 175,
   "metadata": {
    "collapsed": true
   },
   "outputs": [],
   "source": [
    "for i in range(len(intuitive_labels)):\n",
    "    if intuitive_labels[i]!=intuitive_labels[i]:\n",
    "        continue\n",
    "    li = intuitive_labels[i]\n",
    "    lc = lables_np[i]\n",
    "    if li not in losses:\n",
    "        losses[li] = {}\n",
    "    if lc not in losses[li]:\n",
    "        losses[li][lc] = 0\n",
    "    losses[li][lc] += 1"
   ]
  },
  {
   "cell_type": "code",
   "execution_count": 176,
   "metadata": {},
   "outputs": [
    {
     "data": {
      "text/plain": [
       "{'Pu': {'N': 125, 'P': 6, 'U': 21},\n",
       " 'U': {'N': 112, 'P': 41, 'U': 79},\n",
       " 'Us': {'N': 507, 'P': 2}}"
      ]
     },
     "execution_count": 176,
     "metadata": {},
     "output_type": "execute_result"
    }
   ],
   "source": [
    "losses"
   ]
  },
  {
   "cell_type": "code",
   "execution_count": 177,
   "metadata": {
    "collapsed": true
   },
   "outputs": [],
   "source": [
    "sm = 0\n",
    "for i in range(len(intuitive_labels)):\n",
    "    if intuitive_labels[i] != intuitive_labels[i]:\n",
    "        continue\n",
    "    if intuitive_labels[i][0] == lables_np[i][0]:\n",
    "        sm+=1"
   ]
  },
  {
   "cell_type": "code",
   "execution_count": 178,
   "metadata": {},
   "outputs": [
    {
     "data": {
      "text/plain": [
       "0.09518477043673013"
      ]
     },
     "execution_count": 178,
     "metadata": {},
     "output_type": "execute_result"
    }
   ],
   "source": [
    "sm/(len(lables_np) - num_nan)"
   ]
  },
  {
   "cell_type": "code",
   "execution_count": null,
   "metadata": {
    "collapsed": true
   },
   "outputs": [],
   "source": []
  },
  {
   "cell_type": "code",
   "execution_count": 17,
   "metadata": {
    "collapsed": true
   },
   "outputs": [],
   "source": [
    "losses = {}\n",
    "def get_hash(classes):\n",
    "    hsh = []\n",
    "    for i, c in enumerate(classes):\n",
    "        if c == True:\n",
    "            hsh.append(i+1)\n",
    "    return str(hsh)\n",
    "\n",
    "for i in range(len(intuitive_labels)):\n",
    "    if intuitive_labels[i]!=intuitive_labels[i]:\n",
    "        continue\n",
    "    li = intuitive_labels[i][0]\n",
    "    lc = lables_np[i]\n",
    "    if li not in losses:\n",
    "        losses[li] = {}\n",
    "    if lc not in losses[li]:\n",
    "        losses[li][lc] = {}\n",
    "    if li==lc:\n",
    "        continue\n",
    "    myhash = get_hash(classes[i][1:])\n",
    "    if myhash not in losses[li][lc]:\n",
    "        losses[li][lc][myhash] = 0\n",
    "    losses[li][lc][myhash] += 1"
   ]
  },
  {
   "cell_type": "code",
   "execution_count": 18,
   "metadata": {
    "collapsed": true
   },
   "outputs": [],
   "source": [
    "alls = []\n",
    "for li, v1 in losses.items():\n",
    "    for lc, v2 in v1.items():\n",
    "        curr = 0\n",
    "        tops_curr = None\n",
    "        for  myhash, ct in v2.items():\n",
    "            alls.append([li,lc,myhash,ct])\n",
    "#             if ct > curr:\n",
    "#                 curr = ct\n",
    "#                 tops_curr = [li, lc, myhash, ct]\n",
    "#         if tops_curr is not None:\n",
    "#             tops.append(tops_curr)"
   ]
  },
  {
   "cell_type": "code",
   "execution_count": 19,
   "metadata": {},
   "outputs": [
    {
     "name": "stdout",
     "output_type": "stream",
     "text": [
      "Inutinitive Label | Calculated Label | Classes which have 1 | Number of such mismatch\n"
     ]
    },
    {
     "data": {
      "text/plain": [
       "[['U', 'N', '[3, 7, 8]', 114],\n",
       " ['U', 'N', '[3, 6, 7, 13]', 66],\n",
       " ['U', 'N', '[3, 8, 10]', 61],\n",
       " ['P', 'N', '[3, 7, 8]', 59],\n",
       " ['N', 'U', '[3, 7, 8, 13, 15]', 57],\n",
       " ['P', 'N', '[3, 7, 8, 13]', 51],\n",
       " ['P', 'U', '[3, 7, 9]', 40],\n",
       " ['P', 'N', '[3, 6, 7, 13]', 40],\n",
       " ['N', 'U', '[2, 3, 7, 8, 13, 15]', 39],\n",
       " ['U', 'N', '[3, 7, 8, 13]', 33],\n",
       " ['P', 'N', '[3, 6, 7, 13, 15]', 25],\n",
       " ['P', 'N', '[1, 6, 7, 13, 15]', 25],\n",
       " ['P', 'U', '[3, 7, 8, 13, 15]', 19],\n",
       " ['U', 'N', '[3, 6, 7, 13, 15]', 17],\n",
       " ['U', 'N', '[3, 6, 10]', 17],\n",
       " ['U', 'P', '[4, 7, 9]', 16],\n",
       " ['U', 'N', '[3, 6, 7]', 16],\n",
       " ['U', 'P', '[4, 9, 11]', 13],\n",
       " ['U', 'N', '[3, 6, 10, 13]', 13],\n",
       " ['P', 'U', '[3, 9, 10]', 12],\n",
       " ['U', 'P', '[4, 9, 10]', 11],\n",
       " ['U', 'N', '[1, 7, 8, 15]', 10],\n",
       " ['P', 'N', '[3, 8, 10]', 10],\n",
       " ['U', 'P', '[4, 9, 11, 14]', 9],\n",
       " ['P', 'U', '[3, 6, 10, 13, 15]', 9],\n",
       " ['P', 'N', '[3, 6, 10, 13]', 8],\n",
       " ['U', 'N', '[3, 8, 10, 13]', 7],\n",
       " ['P', 'U', '[3, 7, 8, 15]', 7],\n",
       " ['P', 'N', '[1, 6, 10, 13, 15]', 7],\n",
       " ['N', 'U', '[3, 7, 9]', 7],\n",
       " ['P', 'N', '[1, 7, 8]', 6],\n",
       " ['N', 'U', '[3, 7, 8, 15]', 6],\n",
       " ['U', 'P', '[4, 7, 8]', 5],\n",
       " ['U', 'P', '[4, 7, 9, 14]', 4],\n",
       " ['U', 'P', '[4, 8, 10]', 4],\n",
       " ['U', 'P', '[4, 6, 11, 12, 13]', 4],\n",
       " ['U', 'N', '[1, 6, 10, 13, 15]', 4],\n",
       " ['U', 'N', '[3, 6, 7, 12, 13]', 4],\n",
       " ['P', 'U', '[3, 8, 11]', 4],\n",
       " ['P', 'U', '[3, 8, 11, 15]', 4],\n",
       " ['P', 'N', '[3, 6, 7]', 4],\n",
       " ['U', 'P', '[4, 7, 9, 15]', 3],\n",
       " ['U', 'P', '[4, 9, 10, 14]', 3],\n",
       " ['U', 'P', '[3, 8, 10, 13, 17]', 3],\n",
       " ['U', 'P', '[4, 7, 8, 15]', 3],\n",
       " ['U', 'P', '[4, 7, 8, 12]', 3],\n",
       " ['U', 'N', '[3, 6, 7, 15]', 3],\n",
       " ['U', 'N', '[1, 6, 7, 13, 15]', 3],\n",
       " ['U', 'N', '[3, 7, 8, 12, 13]', 3],\n",
       " ['U', 'N', '[9, 10]', 3],\n",
       " ['U', 'N', '[7, 9]', 3],\n",
       " ['U', 'N', '[7, 8, 13]', 3],\n",
       " ['P', 'U', '[3, 8, 10, 15]', 3],\n",
       " ['P', 'U', '[3, 7, 8, 13, 22]', 3],\n",
       " ['P', 'U', '[4, 7, 9, 23]', 3],\n",
       " ['P', 'N', '[3, 8, 10, 13]', 3],\n",
       " ['P', 'N', '[3, 6, 10]', 3],\n",
       " ['N', 'U', '[3, 7, 9, 13, 15]', 3],\n",
       " ['N', 'U', '[3, 7, 9, 13]', 3],\n",
       " ['U', 'P', '[3, 7, 8, 14]', 2],\n",
       " ['U', 'P', '[4, 8, 11, 15]', 2],\n",
       " ['U', 'N', '[2, 7, 8]', 2],\n",
       " ['U', 'N', '[1, 7, 8]', 2],\n",
       " ['U', 'N', '[7, 8]', 2],\n",
       " ['U', 'N', '[2, 7, 9]', 2],\n",
       " ['U', 'N', '[3, 6, 10, 12, 13]', 2],\n",
       " ['U', 'N', '[1, 6, 11]', 2],\n",
       " ['U', 'N', '[1, 7, 9, 15]', 2],\n",
       " ['U', 'N', '[6, 7]', 2],\n",
       " ['P', 'U', '[3, 5, 7, 9, 15]', 2],\n",
       " ['P', 'U', '[3, 7, 9, 13]', 2],\n",
       " ['P', 'U', '[3, 7, 8, 13, 29]', 2],\n",
       " ['P', 'U', '[3, 5, 7, 9]', 2],\n",
       " ['P', 'U', '[3, 7, 9, 26]', 2],\n",
       " ['P', 'U', '[3, 7, 9, 15]', 2],\n",
       " ['P', 'U', '[3, 7, 9, 27]', 2],\n",
       " ['P', 'N', '[7, 8]', 2],\n",
       " ['P', 'N', '[4, 6, 7, 13, 15]', 2],\n",
       " ['P', 'N', '[1, 7, 8, 13, 15]', 2],\n",
       " ['P', 'N', '[2, 3, 6, 7, 13, 15]', 2],\n",
       " ['P', 'N', '[1, 7, 8, 13]', 2],\n",
       " ['P', 'N', '[1, 7, 8, 15]', 2],\n",
       " ['P', 'N', '[2, 3, 6, 7, 13]', 2],\n",
       " ['N', 'U', '[3, 5, 7, 8, 13, 15]', 2],\n",
       " ['U', 'P', '[4, 8, 10, 13]', 1],\n",
       " ['U', 'P', '[4, 8, 11, 12, 13]', 1],\n",
       " ['U', 'P', '[4, 9, 11, 17]', 1],\n",
       " ['U', 'P', '[4, 8, 11]', 1],\n",
       " ['U', 'P', '[2, 4, 9, 11]', 1],\n",
       " ['U', 'P', '[3, 8, 10, 17]', 1],\n",
       " ['U', 'P', '[3, 7, 8, 17]', 1],\n",
       " ['U', 'P', '[4, 6, 10, 13]', 1],\n",
       " ['U', 'P', '[4, 7, 8, 13]', 1],\n",
       " ['U', 'P', '[7, 9, 17]', 1],\n",
       " ['U', 'N', '[7, 8, 26]', 1],\n",
       " ['U', 'N', '[3, 4, 6, 7, 13]', 1],\n",
       " ['U', 'N', '[1, 8, 10, 15]', 1],\n",
       " ['U', 'N', '[9, 11, 14, 25]', 1],\n",
       " ['U', 'N', '[4, 6, 7, 12, 13]', 1],\n",
       " ['U', 'N', '[3, 7, 8, 12]', 1],\n",
       " ['U', 'N', '[3, 8, 10, 12]', 1],\n",
       " ['U', 'N', '[8, 11]', 1],\n",
       " ['U', 'N', '[6, 11]', 1],\n",
       " ['U', 'N', '[4, 6, 7, 15]', 1],\n",
       " ['U', 'N', '[2, 3, 7, 8]', 1],\n",
       " ['U', 'N', '[8, 10]', 1],\n",
       " ['U', 'N', '[1, 6, 10, 12, 13]', 1],\n",
       " ['U', 'N', '[1, 7, 8, 13]', 1],\n",
       " ['U', 'N', '[6, 7, 13]', 1],\n",
       " ['P', 'U', '[3, 6, 7, 13, 15, 26]', 1],\n",
       " ['P', 'U', '[1, 3, 6, 10, 13, 15]', 1],\n",
       " ['P', 'U', '[3, 9, 10, 13]', 1],\n",
       " ['P', 'U', '[2, 3, 7, 8, 13, 15]', 1],\n",
       " ['P', 'U', '[3, 9, 10, 15]', 1],\n",
       " ['P', 'U', '[3, 5, 9, 10]', 1],\n",
       " ['P', 'U', '[3, 9, 11]', 1],\n",
       " ['P', 'U', '[3, 7, 8, 13, 23]', 1],\n",
       " ['P', 'U', '[3, 9, 10, 22]', 1],\n",
       " ['P', 'U', '[3, 7, 8, 29]', 1],\n",
       " ['P', 'U', '[3, 7, 9, 29]', 1],\n",
       " ['P', 'U', '[3, 8, 10, 20]', 1],\n",
       " ['P', 'U', '[3, 7, 9, 13, 15]', 1],\n",
       " ['P', 'N', '[4, 5, 6, 7, 12, 13, 15]', 1],\n",
       " ['P', 'N', '[3, 6, 7, 12, 15]', 1],\n",
       " ['P', 'N', '[6, 7, 13]', 1],\n",
       " ['P', 'N', '[3, 5, 6, 7, 13]', 1],\n",
       " ['P', 'N', '[3, 5, 7, 8, 13]', 1],\n",
       " ['P', 'N', '[3, 5, 6, 10, 13]', 1],\n",
       " ['P', 'N', '[1, 6, 10, 13]', 1],\n",
       " ['P', 'N', '[1, 8, 10]', 1],\n",
       " ['P', 'N', '[1, 8, 10, 13]', 1],\n",
       " ['P', 'N', '[9, 10]', 1],\n",
       " ['P', 'N', '[3, 5, 7, 8]', 1],\n",
       " ['P', 'N', '[4, 6, 7]', 1],\n",
       " ['P', 'N', '[1, 6, 7, 13]', 1],\n",
       " ['N', 'U', '[3, 5, 8, 10, 15]', 1],\n",
       " ['N', 'U', '[3, 7, 8, 29]', 1],\n",
       " ['N', 'U', '[3, 6, 10, 13, 15]', 1],\n",
       " ['N', 'U', '[3, 6, 7, 13, 22]', 1],\n",
       " ['N', 'P', '[4, 5, 8, 10, 13]', 1]]"
      ]
     },
     "execution_count": 19,
     "metadata": {},
     "output_type": "execute_result"
    }
   ],
   "source": [
    "print(\"Inutinitive Label | Calculated Label | Classes which have 1 | Number of such mismatch\")\n",
    "alls = sorted(alls,key=lambda x:(x[3],x[0],x[1]),reverse=True)\n",
    "alls"
   ]
  },
  {
   "cell_type": "code",
   "execution_count": 20,
   "metadata": {
    "collapsed": true
   },
   "outputs": [],
   "source": [
    "import csv\n",
    "with open('DATA/ANNOTATED/rule_diffs/'+PROJECT_NAME+\".csv\",'w') as f:\n",
    "    writer = csv.writer(f)\n",
    "    writer.writerow([\"Intuitive Label\",\"Calculated Label\", \"Classes which have 1 marked\",\"Number of Mismatches\", \"Name\"])\n",
    "    for i, row in enumerate(alls):\n",
    "        if row[3] < THRESHOLD:\n",
    "            break\n",
    "        writer.writerow(row + [\"Case \"+str(i+1)])"
   ]
  },
  {
   "cell_type": "code",
   "execution_count": null,
   "metadata": {
    "collapsed": true
   },
   "outputs": [],
   "source": []
  },
  {
   "cell_type": "code",
   "execution_count": 21,
   "metadata": {},
   "outputs": [
    {
     "data": {
      "text/plain": [
       "[['U', 'N', '[3, 7, 8]', 114],\n",
       " ['U', 'N', '[3, 6, 7, 13]', 66],\n",
       " ['U', 'N', '[3, 8, 10]', 61],\n",
       " ['P', 'N', '[3, 7, 8]', 59],\n",
       " ['N', 'U', '[3, 7, 8, 13, 15]', 57],\n",
       " ['P', 'N', '[3, 7, 8, 13]', 51],\n",
       " ['P', 'U', '[3, 7, 9]', 40],\n",
       " ['P', 'N', '[3, 6, 7, 13]', 40],\n",
       " ['N', 'U', '[2, 3, 7, 8, 13, 15]', 39],\n",
       " ['U', 'N', '[3, 7, 8, 13]', 33],\n",
       " ['P', 'N', '[3, 6, 7, 13, 15]', 25],\n",
       " ['P', 'N', '[1, 6, 7, 13, 15]', 25],\n",
       " ['P', 'U', '[3, 7, 8, 13, 15]', 19],\n",
       " ['U', 'N', '[3, 6, 7, 13, 15]', 17],\n",
       " ['U', 'N', '[3, 6, 10]', 17],\n",
       " ['U', 'P', '[4, 7, 9]', 16],\n",
       " ['U', 'N', '[3, 6, 7]', 16],\n",
       " ['U', 'P', '[4, 9, 11]', 13],\n",
       " ['U', 'N', '[3, 6, 10, 13]', 13],\n",
       " ['P', 'U', '[3, 9, 10]', 12],\n",
       " ['U', 'P', '[4, 9, 10]', 11],\n",
       " ['U', 'N', '[1, 7, 8, 15]', 10],\n",
       " ['P', 'N', '[3, 8, 10]', 10],\n",
       " ['U', 'P', '[4, 9, 11, 14]', 9],\n",
       " ['P', 'U', '[3, 6, 10, 13, 15]', 9],\n",
       " ['P', 'N', '[3, 6, 10, 13]', 8],\n",
       " ['U', 'N', '[3, 8, 10, 13]', 7],\n",
       " ['P', 'U', '[3, 7, 8, 15]', 7],\n",
       " ['P', 'N', '[1, 6, 10, 13, 15]', 7],\n",
       " ['N', 'U', '[3, 7, 9]', 7],\n",
       " ['P', 'N', '[1, 7, 8]', 6],\n",
       " ['N', 'U', '[3, 7, 8, 15]', 6],\n",
       " ['U', 'P', '[4, 7, 8]', 5],\n",
       " ['U', 'P', '[4, 7, 9, 14]', 4],\n",
       " ['U', 'P', '[4, 8, 10]', 4],\n",
       " ['U', 'P', '[4, 6, 11, 12, 13]', 4],\n",
       " ['U', 'N', '[1, 6, 10, 13, 15]', 4],\n",
       " ['U', 'N', '[3, 6, 7, 12, 13]', 4],\n",
       " ['P', 'U', '[3, 8, 11]', 4],\n",
       " ['P', 'U', '[3, 8, 11, 15]', 4],\n",
       " ['P', 'N', '[3, 6, 7]', 4],\n",
       " ['U', 'P', '[4, 7, 9, 15]', 3],\n",
       " ['U', 'P', '[4, 9, 10, 14]', 3],\n",
       " ['U', 'P', '[3, 8, 10, 13, 17]', 3],\n",
       " ['U', 'P', '[4, 7, 8, 15]', 3],\n",
       " ['U', 'P', '[4, 7, 8, 12]', 3],\n",
       " ['U', 'N', '[3, 6, 7, 15]', 3],\n",
       " ['U', 'N', '[1, 6, 7, 13, 15]', 3],\n",
       " ['U', 'N', '[3, 7, 8, 12, 13]', 3],\n",
       " ['U', 'N', '[9, 10]', 3],\n",
       " ['U', 'N', '[7, 9]', 3],\n",
       " ['U', 'N', '[7, 8, 13]', 3],\n",
       " ['P', 'U', '[3, 8, 10, 15]', 3],\n",
       " ['P', 'U', '[3, 7, 8, 13, 22]', 3],\n",
       " ['P', 'U', '[4, 7, 9, 23]', 3],\n",
       " ['P', 'N', '[3, 8, 10, 13]', 3],\n",
       " ['P', 'N', '[3, 6, 10]', 3],\n",
       " ['N', 'U', '[3, 7, 9, 13, 15]', 3],\n",
       " ['N', 'U', '[3, 7, 9, 13]', 3],\n",
       " ['U', 'P', '[3, 7, 8, 14]', 2],\n",
       " ['U', 'P', '[4, 8, 11, 15]', 2],\n",
       " ['U', 'N', '[2, 7, 8]', 2],\n",
       " ['U', 'N', '[1, 7, 8]', 2],\n",
       " ['U', 'N', '[7, 8]', 2],\n",
       " ['U', 'N', '[2, 7, 9]', 2],\n",
       " ['U', 'N', '[3, 6, 10, 12, 13]', 2],\n",
       " ['U', 'N', '[1, 6, 11]', 2],\n",
       " ['U', 'N', '[1, 7, 9, 15]', 2],\n",
       " ['U', 'N', '[6, 7]', 2],\n",
       " ['P', 'U', '[3, 5, 7, 9, 15]', 2],\n",
       " ['P', 'U', '[3, 7, 9, 13]', 2],\n",
       " ['P', 'U', '[3, 7, 8, 13, 29]', 2],\n",
       " ['P', 'U', '[3, 5, 7, 9]', 2],\n",
       " ['P', 'U', '[3, 7, 9, 26]', 2],\n",
       " ['P', 'U', '[3, 7, 9, 15]', 2],\n",
       " ['P', 'U', '[3, 7, 9, 27]', 2],\n",
       " ['P', 'N', '[7, 8]', 2],\n",
       " ['P', 'N', '[4, 6, 7, 13, 15]', 2],\n",
       " ['P', 'N', '[1, 7, 8, 13, 15]', 2],\n",
       " ['P', 'N', '[2, 3, 6, 7, 13, 15]', 2],\n",
       " ['P', 'N', '[1, 7, 8, 13]', 2],\n",
       " ['P', 'N', '[1, 7, 8, 15]', 2],\n",
       " ['P', 'N', '[2, 3, 6, 7, 13]', 2],\n",
       " ['N', 'U', '[3, 5, 7, 8, 13, 15]', 2],\n",
       " ['U', 'P', '[4, 8, 10, 13]', 1],\n",
       " ['U', 'P', '[4, 8, 11, 12, 13]', 1],\n",
       " ['U', 'P', '[4, 9, 11, 17]', 1],\n",
       " ['U', 'P', '[4, 8, 11]', 1],\n",
       " ['U', 'P', '[2, 4, 9, 11]', 1],\n",
       " ['U', 'P', '[3, 8, 10, 17]', 1],\n",
       " ['U', 'P', '[3, 7, 8, 17]', 1],\n",
       " ['U', 'P', '[4, 6, 10, 13]', 1],\n",
       " ['U', 'P', '[4, 7, 8, 13]', 1],\n",
       " ['U', 'P', '[7, 9, 17]', 1],\n",
       " ['U', 'N', '[7, 8, 26]', 1],\n",
       " ['U', 'N', '[3, 4, 6, 7, 13]', 1],\n",
       " ['U', 'N', '[1, 8, 10, 15]', 1],\n",
       " ['U', 'N', '[9, 11, 14, 25]', 1],\n",
       " ['U', 'N', '[4, 6, 7, 12, 13]', 1],\n",
       " ['U', 'N', '[3, 7, 8, 12]', 1],\n",
       " ['U', 'N', '[3, 8, 10, 12]', 1],\n",
       " ['U', 'N', '[8, 11]', 1],\n",
       " ['U', 'N', '[6, 11]', 1],\n",
       " ['U', 'N', '[4, 6, 7, 15]', 1],\n",
       " ['U', 'N', '[2, 3, 7, 8]', 1],\n",
       " ['U', 'N', '[8, 10]', 1],\n",
       " ['U', 'N', '[1, 6, 10, 12, 13]', 1],\n",
       " ['U', 'N', '[1, 7, 8, 13]', 1],\n",
       " ['U', 'N', '[6, 7, 13]', 1],\n",
       " ['P', 'U', '[3, 6, 7, 13, 15, 26]', 1],\n",
       " ['P', 'U', '[1, 3, 6, 10, 13, 15]', 1],\n",
       " ['P', 'U', '[3, 9, 10, 13]', 1],\n",
       " ['P', 'U', '[2, 3, 7, 8, 13, 15]', 1],\n",
       " ['P', 'U', '[3, 9, 10, 15]', 1],\n",
       " ['P', 'U', '[3, 5, 9, 10]', 1],\n",
       " ['P', 'U', '[3, 9, 11]', 1],\n",
       " ['P', 'U', '[3, 7, 8, 13, 23]', 1],\n",
       " ['P', 'U', '[3, 9, 10, 22]', 1],\n",
       " ['P', 'U', '[3, 7, 8, 29]', 1],\n",
       " ['P', 'U', '[3, 7, 9, 29]', 1],\n",
       " ['P', 'U', '[3, 8, 10, 20]', 1],\n",
       " ['P', 'U', '[3, 7, 9, 13, 15]', 1],\n",
       " ['P', 'N', '[4, 5, 6, 7, 12, 13, 15]', 1],\n",
       " ['P', 'N', '[3, 6, 7, 12, 15]', 1],\n",
       " ['P', 'N', '[6, 7, 13]', 1],\n",
       " ['P', 'N', '[3, 5, 6, 7, 13]', 1],\n",
       " ['P', 'N', '[3, 5, 7, 8, 13]', 1],\n",
       " ['P', 'N', '[3, 5, 6, 10, 13]', 1],\n",
       " ['P', 'N', '[1, 6, 10, 13]', 1],\n",
       " ['P', 'N', '[1, 8, 10]', 1],\n",
       " ['P', 'N', '[1, 8, 10, 13]', 1],\n",
       " ['P', 'N', '[9, 10]', 1],\n",
       " ['P', 'N', '[3, 5, 7, 8]', 1],\n",
       " ['P', 'N', '[4, 6, 7]', 1],\n",
       " ['P', 'N', '[1, 6, 7, 13]', 1],\n",
       " ['N', 'U', '[3, 5, 8, 10, 15]', 1],\n",
       " ['N', 'U', '[3, 7, 8, 29]', 1],\n",
       " ['N', 'U', '[3, 6, 10, 13, 15]', 1],\n",
       " ['N', 'U', '[3, 6, 7, 13, 22]', 1],\n",
       " ['N', 'P', '[4, 5, 8, 10, 13]', 1]]"
      ]
     },
     "execution_count": 21,
     "metadata": {},
     "output_type": "execute_result"
    }
   ],
   "source": [
    "alls"
   ]
  },
  {
   "cell_type": "markdown",
   "metadata": {
    "collapsed": true
   },
   "source": [
    "# Extend Annotations with Diff"
   ]
  },
  {
   "cell_type": "code",
   "execution_count": 22,
   "metadata": {},
   "outputs": [
    {
     "data": {
      "text/plain": [
       "{('N', 'U', '[2, 3, 7, 8, 13, 15]'): 9,\n",
       " ('N', 'U', '[3, 7, 8, 13, 15]'): 5,\n",
       " ('P', 'N', '[1, 6, 7, 13, 15]'): 12,\n",
       " ('P', 'N', '[3, 6, 7, 13, 15]'): 11,\n",
       " ('P', 'N', '[3, 6, 7, 13]'): 8,\n",
       " ('P', 'N', '[3, 7, 8, 13]'): 6,\n",
       " ('P', 'N', '[3, 7, 8]'): 4,\n",
       " ('P', 'N', '[3, 8, 10]'): 23,\n",
       " ('P', 'U', '[3, 7, 8, 13, 15]'): 13,\n",
       " ('P', 'U', '[3, 7, 9]'): 7,\n",
       " ('P', 'U', '[3, 9, 10]'): 20,\n",
       " ('U', 'N', '[1, 7, 8, 15]'): 22,\n",
       " ('U', 'N', '[3, 6, 10, 13]'): 19,\n",
       " ('U', 'N', '[3, 6, 10]'): 15,\n",
       " ('U', 'N', '[3, 6, 7, 13, 15]'): 14,\n",
       " ('U', 'N', '[3, 6, 7, 13]'): 2,\n",
       " ('U', 'N', '[3, 6, 7]'): 17,\n",
       " ('U', 'N', '[3, 7, 8, 13]'): 10,\n",
       " ('U', 'N', '[3, 7, 8]'): 1,\n",
       " ('U', 'N', '[3, 8, 10]'): 3,\n",
       " ('U', 'P', '[4, 7, 9]'): 16,\n",
       " ('U', 'P', '[4, 9, 10]'): 21,\n",
       " ('U', 'P', '[4, 9, 11]'): 18}"
      ]
     },
     "execution_count": 22,
     "metadata": {},
     "output_type": "execute_result"
    }
   ],
   "source": [
    "alls_map = {}\n",
    "for i, row in enumerate(alls):\n",
    "    if row[3] < THRESHOLD:\n",
    "        break\n",
    "    alls_map[(row[0],row[1],row[2])] = i+1\n",
    "alls_map"
   ]
  },
  {
   "cell_type": "code",
   "execution_count": 23,
   "metadata": {
    "collapsed": true
   },
   "outputs": [],
   "source": [
    "diff_names = []\n",
    "diffs_map = {}\n",
    "for i in range(len(intuitive_labels)):\n",
    "    if intuitive_labels[i]!=intuitive_labels[i]:\n",
    "        diff_names.append(None)\n",
    "        continue\n",
    "    li = intuitive_labels[i][0]\n",
    "    lc = lables_np[i]\n",
    "    myhash = get_hash(classes[i][1:])\n",
    "    if (li, lc, myhash) not in alls_map:\n",
    "        diff_names.append(None)\n",
    "        continue\n",
    "    diff_names.append(\"Case \" + str(alls_map[(li, lc, myhash)]))\n",
    "    if alls_map[(li, lc, myhash)] not in diffs_map:\n",
    "        diffs_map[alls_map[(li, lc, myhash)]] = []\n",
    "    diffs_map[alls_map[(li, lc, myhash)]].append(i)"
   ]
  },
  {
   "cell_type": "code",
   "execution_count": 24,
   "metadata": {
    "collapsed": true
   },
   "outputs": [],
   "source": [
    "exl_file['Mismatch Case'] = diff_names"
   ]
  },
  {
   "cell_type": "code",
   "execution_count": 25,
   "metadata": {
    "collapsed": true
   },
   "outputs": [],
   "source": [
    "DIFFS_FILE = FILE_NAME\n",
    "if DIFFS_FILE[-3:] == 'csv':\n",
    "    DIFFS_FILE = DIFFS_FILE[:-3] + 'xlsx'"
   ]
  },
  {
   "cell_type": "code",
   "execution_count": 26,
   "metadata": {
    "collapsed": true
   },
   "outputs": [],
   "source": [
    "writer = pd.ExcelWriter(\"DATA/ANNOTATED/rule_diffs/\"+DIFFS_FILE, engine = 'xlsxwriter')"
   ]
  },
  {
   "cell_type": "code",
   "execution_count": 27,
   "metadata": {
    "collapsed": true
   },
   "outputs": [],
   "source": [
    "exl_file.to_excel(writer,index=False)"
   ]
  },
  {
   "cell_type": "code",
   "execution_count": 28,
   "metadata": {
    "collapsed": true
   },
   "outputs": [],
   "source": [
    "for k,v in diffs_map.items():\n",
    "    df = pd.DataFrame(columns=exl_file.columns)\n",
    "    for i, j in enumerate(v):\n",
    "        df.loc[i] = exl_file.loc[j]\n",
    "    df.to_excel(writer,index=False,sheet_name='Case '+str(k))"
   ]
  },
  {
   "cell_type": "code",
   "execution_count": 29,
   "metadata": {
    "collapsed": true
   },
   "outputs": [],
   "source": [
    "writer.save()\n",
    "writer.close()"
   ]
  },
  {
   "cell_type": "code",
   "execution_count": null,
   "metadata": {
    "collapsed": true
   },
   "outputs": [],
   "source": []
  },
  {
   "cell_type": "code",
   "execution_count": null,
   "metadata": {
    "collapsed": true
   },
   "outputs": [],
   "source": []
  }
 ],
 "metadata": {
  "kernelspec": {
   "display_name": "Python 3",
   "language": "python",
   "name": "python3"
  },
  "language_info": {
   "codemirror_mode": {
    "name": "ipython",
    "version": 3
   },
   "file_extension": ".py",
   "mimetype": "text/x-python",
   "name": "python",
   "nbconvert_exporter": "python",
   "pygments_lexer": "ipython3",
   "version": "3.6.7"
  }
 },
 "nbformat": 4,
 "nbformat_minor": 2
}
