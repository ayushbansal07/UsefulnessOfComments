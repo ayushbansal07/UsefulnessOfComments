{
 "cells": [
  {
   "cell_type": "code",
   "execution_count": 1,
   "metadata": {
    "collapsed": true
   },
   "outputs": [],
   "source": [
    "import pandas as pd\n",
    "import numpy as np\n",
    "from os.path import join as PJOIN"
   ]
  },
  {
   "cell_type": "code",
   "execution_count": 2,
   "metadata": {
    "collapsed": true
   },
   "outputs": [],
   "source": [
    "PREFIX = \"comments\"\n",
    "PROJECT_NAME = \"libpng\"\n",
    "SUFFIX = \"all_marked\"\n",
    "FILE_NAME = PREFIX + \"_\" + PROJECT_NAME + \"_\" + SUFFIX + \".xlsx\"\n",
    "FILE_PATH = PJOIN(\"DATA\",\"ANNOTATED\",FILE_NAME)\n",
    "OUTPUT_FILE_PATH = PJOIN(\"DATA\",\"GENERATED\",FILE_NAME)\n",
    "MAP = {'U':'U', 'PU':'P', 'NU':'N'}"
   ]
  },
  {
   "cell_type": "markdown",
   "metadata": {},
   "source": [
    "# Rules"
   ]
  },
  {
   "cell_type": "code",
   "execution_count": 3,
   "metadata": {
    "collapsed": true
   },
   "outputs": [],
   "source": [
    "# c is a vector of size 31 [comment text, C1, C2, ......., C30]\n",
    "def get_label(c):\n",
    "    #IF C18 OR C19 OR C20  OR  C21  OR C22 OR C28 OR C29 THEN  U\n",
    "    if c[18] or c[19] or c[20] or c[21] or c[22] or c[28] or c[29]:\n",
    "        return 'U'\n",
    "    #IF C9 AND C3 THEN U\n",
    "    if c[9] and c[3]:\n",
    "        return 'U'\n",
    "    #IF C11 AND C3 THEN U\n",
    "    if c[11] and c[3]:\n",
    "        return 'U'\n",
    "    #IF (C25 OR C23 OR C26 OR C27 ) AND C3 THEN U\n",
    "    if (c[25] or c[23] or c[26] or c[27]) and c[3]:\n",
    "        return 'U'\n",
    "    #IF (C25 OR C23 OR C26 OR C27) AND C4 AND (C9  OR C11) THEN U\n",
    "    if (c[25] or c[23] or c[26] or c[27]) and c[4] and (c[9] or c[11]):\n",
    "        return 'U'\n",
    "    #IF C10 AND C15  AND C3 THEN U\n",
    "    if c[10] and c[15] and c[3]:\n",
    "        return 'U'\n",
    "    #IF C8 AND C15  AND C3 THEN U\n",
    "    if c[8] and c[15] and c[3]:\n",
    "        return 'U'\n",
    "    #IF (C18 OR C19 OR C20 OR C21) AND C17 THEN U\n",
    "    if (c[18] or c[19] or c[20] or c[21]) and c[17]:\n",
    "        return 'U'\n",
    "    \n",
    "    #IF C9 AND (C4 OR C5) THEN PU\n",
    "    if c[9] and (c[4] or c[5]):\n",
    "        return 'PU'\n",
    "    #IF C11 AND (C4  OR C5) THEN PU\n",
    "    if c[11] and (c[4] or c[5]):\n",
    "        return 'PU'\n",
    "    #IF C10 AND C14  AND C3 THEN PU\n",
    "    if c[1] and c[14] and c[3]:\n",
    "        return 'PU'\n",
    "    #IF C8 AND C14  AND C3 THEN PU\n",
    "    if c[8] and c[14] and c[3]:\n",
    "        return 'PU'\n",
    "    #IF C17 AND NOT (C18 OR C19 OR C20 OR C21)  THEN PU\n",
    "    if c[17] and not((c[18] or c[19] or c[20] or c[21])):\n",
    "        return 'PU'\n",
    "    \n",
    "    #IF C12 OR C16 THEN  NU\n",
    "    if c[12] or c[16]:\n",
    "        return 'NU'\n",
    "    #IF (C8 OR C9)  AND C1 THEN NU\n",
    "    if (c[8] or c[9]) and c[1]:\n",
    "        return 'NU'\n",
    "    #IF (C10 OR C11) AND C1 THEN NU\n",
    "    if (c[10] or c[11]) and c[1]:\n",
    "        return 'NU'\n",
    "    #IF C10 AND C15  AND C1 THEN U\n",
    "    if c[10] and c[15] and c[1]:\n",
    "        return 'U'\n",
    "    #IF C8 AND C15  AND C1 THEN U\n",
    "    if c[8] and c[15] and c[1]:\n",
    "        return 'U'\n",
    "    \n",
    "    #Low Problem Domain AND Low Scope AND Concepts don't match Symbols = U\n",
    "    if c[10] and c[15] and c[3]:\n",
    "        return 'U'\n",
    "    #Low Problem Domain AND Low Scope AND Concepts Partially Match = U\n",
    "    elif c[10] and c[15] and c[4]:\n",
    "        return 'U'\n",
    "    #Low  Problem Domain AND Concepts Partially Match = PU\n",
    "    elif c[10] and c[4]:\n",
    "        return 'PU'\n",
    "    #Low Program Domain AND Concepts Partially Match = PU\n",
    "    elif c[8] and c[4]:\n",
    "        return 'PU'\n",
    "    else:\n",
    "        return 'NU'\n",
    "    \n",
    "    print(\"###NOMATCH\")\n",
    "    return 'NU'\n",
    "    \n"
   ]
  },
  {
   "cell_type": "code",
   "execution_count": 4,
   "metadata": {},
   "outputs": [
    {
     "data": {
      "text/html": [
       "<div>\n",
       "<style>\n",
       "    .dataframe thead tr:only-child th {\n",
       "        text-align: right;\n",
       "    }\n",
       "\n",
       "    .dataframe thead th {\n",
       "        text-align: left;\n",
       "    }\n",
       "\n",
       "    .dataframe tbody tr th {\n",
       "        vertical-align: top;\n",
       "    }\n",
       "</style>\n",
       "<table border=\"1\" class=\"dataframe\">\n",
       "  <thead>\n",
       "    <tr style=\"text-align: right;\">\n",
       "      <th></th>\n",
       "      <th>Filename</th>\n",
       "      <th>Comment text</th>\n",
       "      <th>Start line</th>\n",
       "      <th>End line</th>\n",
       "      <th>No. of words</th>\n",
       "      <th>Program Domain Concepts</th>\n",
       "      <th>Problem Domain Concepts</th>\n",
       "      <th>Copyright/License</th>\n",
       "      <th>Bug/Fix/Patch/Version</th>\n",
       "      <th>Build</th>\n",
       "      <th>...</th>\n",
       "      <th>C22</th>\n",
       "      <th>C23</th>\n",
       "      <th>C24</th>\n",
       "      <th>C25</th>\n",
       "      <th>C26</th>\n",
       "      <th>C27</th>\n",
       "      <th>C28</th>\n",
       "      <th>C29</th>\n",
       "      <th>C30</th>\n",
       "      <th>Score</th>\n",
       "    </tr>\n",
       "  </thead>\n",
       "  <tbody>\n",
       "    <tr>\n",
       "      <th>0</th>\n",
       "      <td>repos/libpng-code/pngset.c</td>\n",
       "      <td>pngset.c - storage of image information into i...</td>\n",
       "      <td>2</td>\n",
       "      <td>17</td>\n",
       "      <td>116</td>\n",
       "      <td>{'storage': ['storag', 'Time Complexity / Spac...</td>\n",
       "      <td>['image', 'libpng']</td>\n",
       "      <td>True</td>\n",
       "      <td>False</td>\n",
       "      <td>False</td>\n",
       "      <td>...</td>\n",
       "      <td>NaN</td>\n",
       "      <td>NaN</td>\n",
       "      <td>NaN</td>\n",
       "      <td>NaN</td>\n",
       "      <td>NaN</td>\n",
       "      <td>NaN</td>\n",
       "      <td>1.0</td>\n",
       "      <td>NaN</td>\n",
       "      <td>NaN</td>\n",
       "      <td>U</td>\n",
       "    </tr>\n",
       "    <tr>\n",
       "      <th>1</th>\n",
       "      <td>repos/libpng-code/pngset.c</td>\n",
       "      <td>override with app values</td>\n",
       "      <td>62</td>\n",
       "      <td>61</td>\n",
       "      <td>4</td>\n",
       "      <td>{'values': ['valu', 'Data-Structure and its Co...</td>\n",
       "      <td>[]</td>\n",
       "      <td>False</td>\n",
       "      <td>False</td>\n",
       "      <td>False</td>\n",
       "      <td>...</td>\n",
       "      <td>NaN</td>\n",
       "      <td>NaN</td>\n",
       "      <td>NaN</td>\n",
       "      <td>NaN</td>\n",
       "      <td>NaN</td>\n",
       "      <td>NaN</td>\n",
       "      <td>NaN</td>\n",
       "      <td>NaN</td>\n",
       "      <td>NaN</td>\n",
       "      <td>P</td>\n",
       "    </tr>\n",
       "    <tr>\n",
       "      <th>2</th>\n",
       "      <td>repos/libpng-code/pngset.c</td>\n",
       "      <td>FLOATING_POINT</td>\n",
       "      <td>133</td>\n",
       "      <td>133</td>\n",
       "      <td>1</td>\n",
       "      <td>{}</td>\n",
       "      <td>[]</td>\n",
       "      <td>False</td>\n",
       "      <td>False</td>\n",
       "      <td>False</td>\n",
       "      <td>...</td>\n",
       "      <td>NaN</td>\n",
       "      <td>NaN</td>\n",
       "      <td>NaN</td>\n",
       "      <td>NaN</td>\n",
       "      <td>NaN</td>\n",
       "      <td>NaN</td>\n",
       "      <td>NaN</td>\n",
       "      <td>NaN</td>\n",
       "      <td>NaN</td>\n",
       "      <td>N</td>\n",
       "    </tr>\n",
       "    <tr>\n",
       "      <th>3</th>\n",
       "      <td>repos/libpng-code/pngset.c</td>\n",
       "      <td>cHRM</td>\n",
       "      <td>135</td>\n",
       "      <td>135</td>\n",
       "      <td>1</td>\n",
       "      <td>{}</td>\n",
       "      <td>[]</td>\n",
       "      <td>False</td>\n",
       "      <td>False</td>\n",
       "      <td>False</td>\n",
       "      <td>...</td>\n",
       "      <td>NaN</td>\n",
       "      <td>NaN</td>\n",
       "      <td>NaN</td>\n",
       "      <td>NaN</td>\n",
       "      <td>NaN</td>\n",
       "      <td>NaN</td>\n",
       "      <td>NaN</td>\n",
       "      <td>NaN</td>\n",
       "      <td>NaN</td>\n",
       "      <td>P</td>\n",
       "    </tr>\n",
       "    <tr>\n",
       "      <th>4</th>\n",
       "      <td>repos/libpng-code/pngset.c</td>\n",
       "      <td>eXIf</td>\n",
       "      <td>182</td>\n",
       "      <td>182</td>\n",
       "      <td>1</td>\n",
       "      <td>{}</td>\n",
       "      <td>[]</td>\n",
       "      <td>False</td>\n",
       "      <td>False</td>\n",
       "      <td>False</td>\n",
       "      <td>...</td>\n",
       "      <td>NaN</td>\n",
       "      <td>NaN</td>\n",
       "      <td>NaN</td>\n",
       "      <td>NaN</td>\n",
       "      <td>NaN</td>\n",
       "      <td>NaN</td>\n",
       "      <td>NaN</td>\n",
       "      <td>NaN</td>\n",
       "      <td>NaN</td>\n",
       "      <td>P</td>\n",
       "    </tr>\n",
       "  </tbody>\n",
       "</table>\n",
       "<p>5 rows × 47 columns</p>\n",
       "</div>"
      ],
      "text/plain": [
       "                     Filename  \\\n",
       "0  repos/libpng-code/pngset.c   \n",
       "1  repos/libpng-code/pngset.c   \n",
       "2  repos/libpng-code/pngset.c   \n",
       "3  repos/libpng-code/pngset.c   \n",
       "4  repos/libpng-code/pngset.c   \n",
       "\n",
       "                                        Comment text  Start line  End line  \\\n",
       "0  pngset.c - storage of image information into i...           2        17   \n",
       "1                           override with app values          62        61   \n",
       "2                                     FLOATING_POINT         133       133   \n",
       "3                                               cHRM         135       135   \n",
       "4                                               eXIf         182       182   \n",
       "\n",
       "   No. of words                            Program Domain Concepts  \\\n",
       "0           116  {'storage': ['storag', 'Time Complexity / Spac...   \n",
       "1             4  {'values': ['valu', 'Data-Structure and its Co...   \n",
       "2             1                                                 {}   \n",
       "3             1                                                 {}   \n",
       "4             1                                                 {}   \n",
       "\n",
       "  Problem Domain Concepts  Copyright/License  Bug/Fix/Patch/Version  Build  \\\n",
       "0     ['image', 'libpng']               True                  False  False   \n",
       "1                      []              False                  False  False   \n",
       "2                      []              False                  False  False   \n",
       "3                      []              False                  False  False   \n",
       "4                      []              False                  False  False   \n",
       "\n",
       "   ...    C22  C23  C24  C25  C26  C27  C28  C29  C30  Score  \n",
       "0  ...    NaN  NaN  NaN  NaN  NaN  NaN  1.0  NaN  NaN      U  \n",
       "1  ...    NaN  NaN  NaN  NaN  NaN  NaN  NaN  NaN  NaN      P  \n",
       "2  ...    NaN  NaN  NaN  NaN  NaN  NaN  NaN  NaN  NaN      N  \n",
       "3  ...    NaN  NaN  NaN  NaN  NaN  NaN  NaN  NaN  NaN      P  \n",
       "4  ...    NaN  NaN  NaN  NaN  NaN  NaN  NaN  NaN  NaN      P  \n",
       "\n",
       "[5 rows x 47 columns]"
      ]
     },
     "execution_count": 4,
     "metadata": {},
     "output_type": "execute_result"
    }
   ],
   "source": [
    "exl_file = pd.read_excel(FILE_PATH)\n",
    "exl_file.head()"
   ]
  },
  {
   "cell_type": "code",
   "execution_count": 5,
   "metadata": {
    "collapsed": true
   },
   "outputs": [],
   "source": [
    "exl_np = np.array(exl_file)"
   ]
  },
  {
   "cell_type": "code",
   "execution_count": 6,
   "metadata": {
    "collapsed": true
   },
   "outputs": [],
   "source": [
    "classes = exl_np[:,[1]+list(range(16,46))]\n",
    "#classes[0]"
   ]
  },
  {
   "cell_type": "code",
   "execution_count": 7,
   "metadata": {
    "collapsed": true
   },
   "outputs": [],
   "source": [
    "for c in classes:\n",
    "    for i in range(1,31):\n",
    "        if np.isnan(c[i]):\n",
    "            c[i] = False\n",
    "        elif int(c[i]) == 1:\n",
    "            c[i] = True\n",
    "        else:\n",
    "            c[i] = False"
   ]
  },
  {
   "cell_type": "code",
   "execution_count": 8,
   "metadata": {
    "collapsed": true
   },
   "outputs": [],
   "source": [
    "#classes[0]"
   ]
  },
  {
   "cell_type": "code",
   "execution_count": 9,
   "metadata": {
    "collapsed": true
   },
   "outputs": [],
   "source": [
    "labels = []\n",
    "for c in classes:\n",
    "    labels.append(MAP[get_label(c)])"
   ]
  },
  {
   "cell_type": "code",
   "execution_count": 10,
   "metadata": {
    "collapsed": true
   },
   "outputs": [],
   "source": [
    "exl_file['Calculated Score'] = labels"
   ]
  },
  {
   "cell_type": "code",
   "execution_count": 12,
   "metadata": {
    "collapsed": true
   },
   "outputs": [],
   "source": [
    "exl_file.to_excel(OUTPUT_FILE_PATH, index=False)"
   ]
  },
  {
   "cell_type": "code",
   "execution_count": 58,
   "metadata": {
    "collapsed": true
   },
   "outputs": [],
   "source": []
  },
  {
   "cell_type": "code",
   "execution_count": null,
   "metadata": {
    "collapsed": true
   },
   "outputs": [],
   "source": []
  },
  {
   "cell_type": "markdown",
   "metadata": {},
   "source": [
    "# Analysis"
   ]
  },
  {
   "cell_type": "code",
   "execution_count": 10,
   "metadata": {
    "collapsed": true
   },
   "outputs": [],
   "source": [
    "intuitive_labels = exl_np[:,-1]"
   ]
  },
  {
   "cell_type": "code",
   "execution_count": 11,
   "metadata": {
    "collapsed": true
   },
   "outputs": [],
   "source": [
    "lables_np = np.array(labels)"
   ]
  },
  {
   "cell_type": "code",
   "execution_count": 24,
   "metadata": {},
   "outputs": [
    {
     "data": {
      "text/plain": [
       "0.15689738236711095"
      ]
     },
     "execution_count": 24,
     "metadata": {},
     "output_type": "execute_result"
    }
   ],
   "source": []
  },
  {
   "cell_type": "code",
   "execution_count": 35,
   "metadata": {
    "collapsed": true
   },
   "outputs": [],
   "source": [
    "num_nan = np.sum(np.array([x !=x for x in intuitive_labels]))"
   ]
  },
  {
   "cell_type": "code",
   "execution_count": 36,
   "metadata": {},
   "outputs": [
    {
     "data": {
      "text/plain": [
       "0.4865537848605578"
      ]
     },
     "execution_count": 36,
     "metadata": {},
     "output_type": "execute_result"
    }
   ],
   "source": [
    "sum(lables_np == intuitive_labels)/(len(lables_np) - num_nan)"
   ]
  },
  {
   "cell_type": "code",
   "execution_count": 17,
   "metadata": {
    "collapsed": true
   },
   "outputs": [],
   "source": [
    "losses = {}"
   ]
  },
  {
   "cell_type": "code",
   "execution_count": 18,
   "metadata": {},
   "outputs": [],
   "source": [
    "for i in range(len(intuitive_labels)):\n",
    "    if intuitive_labels[i]!=intuitive_labels[i]:\n",
    "        continue\n",
    "    li = intuitive_labels[i]\n",
    "    lc = lables_np[i]\n",
    "    if li not in losses:\n",
    "        losses[li] = {}\n",
    "    if lc not in losses[li]:\n",
    "        losses[li][lc] = 0\n",
    "    losses[li][lc] += 1"
   ]
  },
  {
   "cell_type": "code",
   "execution_count": 19,
   "metadata": {},
   "outputs": [
    {
     "data": {
      "text/plain": [
       "{'N': {'N': 161, 'P': 1, 'U': 121},\n",
       " 'P': {'N': 272, 'P': 6, 'U': 131},\n",
       " 'U': {'N': 414, 'P': 92, 'U': 810}}"
      ]
     },
     "execution_count": 19,
     "metadata": {},
     "output_type": "execute_result"
    }
   ],
   "source": [
    "losses"
   ]
  },
  {
   "cell_type": "code",
   "execution_count": null,
   "metadata": {
    "collapsed": true
   },
   "outputs": [],
   "source": []
  }
 ],
 "metadata": {
  "kernelspec": {
   "display_name": "Python 3",
   "language": "python",
   "name": "python3"
  },
  "language_info": {
   "codemirror_mode": {
    "name": "ipython",
    "version": 3
   },
   "file_extension": ".py",
   "mimetype": "text/x-python",
   "name": "python",
   "nbconvert_exporter": "python",
   "pygments_lexer": "ipython3",
   "version": "3.6.7"
  }
 },
 "nbformat": 4,
 "nbformat_minor": 2
}
