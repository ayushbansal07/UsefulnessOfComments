{
 "cells": [
  {
   "cell_type": "code",
   "execution_count": 21,
   "metadata": {
    "collapsed": true
   },
   "outputs": [],
   "source": [
    "import pandas as pd\n",
    "import numpy as np\n",
    "from os.path import join as PJOIN"
   ]
  },
  {
   "cell_type": "code",
   "execution_count": 35,
   "metadata": {
    "collapsed": true
   },
   "outputs": [],
   "source": [
    "PREFIX = \"comments\"\n",
    "PROJECT_NAME = \"curl\"\n",
    "SUFFIX = \"all_marked\"\n",
    "#FILE_NAME = PREFIX + \"_\" + PROJECT_NAME + \"_\" + SUFFIX + \".xlsx\"\n",
    "FILE_NAME = \"curl_salonifirst1500.xlsx\"\n",
    "FILE_PATH = PJOIN(\"DATA\",\"ANNOTATED\",FILE_NAME)\n",
    "OUTPUT_FILE_PATH = PJOIN(\"DATA\",\"GENERATED\",FILE_NAME)\n",
    "MAP = {'U':'U', 'PU':'P', 'NU':'N'}\n",
    "THRESHOLD = 10\n",
    "ANNOTATION_CLASS_START = 6\n",
    "ANNOTATION_CLASS_NUM = 31"
   ]
  },
  {
   "cell_type": "markdown",
   "metadata": {},
   "source": [
    "# Rules"
   ]
  },
  {
   "cell_type": "code",
   "execution_count": 36,
   "metadata": {
    "collapsed": true
   },
   "outputs": [],
   "source": [
    "# c is a vector of size 31 [comment text, C1, C2, ......., C30]\n",
    "def get_label(c):\n",
    "    #IF C18 OR C19 OR C20  OR  C21  OR C22 OR C28 OR C29 THEN  U\n",
    "    if c[18] or c[19] or c[20] or c[21] or c[22] or c[28] or c[29]:\n",
    "        return 'U'\n",
    "    #IF C9 AND C3 THEN U\n",
    "    if c[9] and c[3]:\n",
    "        return 'U'\n",
    "    #IF C11 AND C3 THEN U\n",
    "    if c[11] and c[3]:\n",
    "        return 'U'\n",
    "    #IF (C25 OR C23 OR C26 OR C27 ) AND C3 THEN U\n",
    "    if (c[25] or c[23] or c[26] or c[27]) and c[3]:\n",
    "        return 'U'\n",
    "    #IF (C25 OR C23 OR C26 OR C27) AND C4 AND (C9  OR C11) THEN U\n",
    "    if (c[25] or c[23] or c[26] or c[27]) and c[4] and (c[9] or c[11]):\n",
    "        return 'U'\n",
    "    #IF C10 AND C15  AND C3 THEN U\n",
    "    if c[10] and c[15] and c[3]:\n",
    "        return 'U'\n",
    "    #IF C8 AND C15  AND C3 THEN U\n",
    "    if c[8] and c[15] and c[3]:\n",
    "        return 'U'\n",
    "    #IF (C18 OR C19 OR C20 OR C21) AND C17 THEN U\n",
    "    if (c[18] or c[19] or c[20] or c[21]) and c[17]:\n",
    "        return 'U'\n",
    "    #Low Problem Domain AND Low Scope AND Concepts don't match Symbols = U\n",
    "    if c[10] and c[15] and c[3]:\n",
    "        return 'U'\n",
    "    #Low Problem Domain AND Low Scope AND Concepts Partially Match = U\n",
    "    if c[10] and c[15] and c[4]:\n",
    "        return 'U'\n",
    "    \n",
    "    #IF C9 AND (C4 OR C5) THEN PU\n",
    "    if c[9] and (c[4] or c[5]):\n",
    "        return 'PU'\n",
    "    #IF C11 AND (C4  OR C5) THEN PU\n",
    "    if c[11] and (c[4] or c[5]):\n",
    "        return 'PU'\n",
    "    #IF C10 AND C14  AND C3 THEN PU\n",
    "    if c[1] and c[14] and c[3]:\n",
    "        return 'PU'\n",
    "    #IF C8 AND C14  AND C3 THEN PU\n",
    "    if c[8] and c[14] and c[3]:\n",
    "        return 'PU'\n",
    "    #IF C17 AND NOT (C18 OR C19 OR C20 OR C21)  THEN PU\n",
    "    if c[17] and not((c[18] or c[19] or c[20] or c[21])):\n",
    "        return 'PU'\n",
    "    #Low  Problem Domain AND Concepts Partially Match = PU\n",
    "    if c[10] and c[4]:\n",
    "        return 'PU'\n",
    "    #Low Program Domain AND Concepts Partially Match = PU\n",
    "    if c[8] and c[4]:\n",
    "        return 'PU'\n",
    "    \n",
    "    #IF C12 OR C16 THEN  NU\n",
    "    if c[12] or c[16]:\n",
    "        return 'NU'\n",
    "    #IF (C8 OR C9)  AND C1 THEN NU\n",
    "    if (c[8] or c[9]) and c[1]:\n",
    "        return 'NU'\n",
    "    #IF (C10 OR C11) AND C1 THEN NU\n",
    "    if (c[10] or c[11]) and c[1]:\n",
    "        return 'NU'\n",
    "    #IF C10 AND C15  AND C1 THEN U\n",
    "    if c[10] and c[15] and c[1]:\n",
    "        return 'NU'\n",
    "    #IF C8 AND C15  AND C1 THEN U\n",
    "    if c[8] and c[15] and c[1]:\n",
    "        return 'NU'\n",
    "    \n",
    "    #print(\"###NOMATCH\")\n",
    "    return 'NU'\n",
    "\n",
    "#return multilabel classification labels \n",
    "#[Program Domain(non redundant), Program Domain (redundant), Problem Domain (NR), Problem Domain (R), \n",
    "#Project Management]\n",
    "def get_label_comment_classification(c):\n",
    "    res = [0,0,0]\n",
    "    if c[8] or c[9]:\n",
    "        res[0] = 1\n",
    "    if c[10] or c[11]:\n",
    "        res[1] = 1\n",
    "    if np.any(c[17:30]):\n",
    "        res[2] = 1\n",
    "    \n",
    "    return res\n",
    "    \n",
    "        \n"
   ]
  },
  {
   "cell_type": "code",
   "execution_count": 37,
   "metadata": {},
   "outputs": [
    {
     "data": {
      "text/html": [
       "<div>\n",
       "<style>\n",
       "    .dataframe thead tr:only-child th {\n",
       "        text-align: right;\n",
       "    }\n",
       "\n",
       "    .dataframe thead th {\n",
       "        text-align: left;\n",
       "    }\n",
       "\n",
       "    .dataframe tbody tr th {\n",
       "        vertical-align: top;\n",
       "    }\n",
       "</style>\n",
       "<table border=\"1\" class=\"dataframe\">\n",
       "  <thead>\n",
       "    <tr style=\"text-align: right;\">\n",
       "      <th></th>\n",
       "      <th>Filename</th>\n",
       "      <th>Comment text</th>\n",
       "      <th>Start line</th>\n",
       "      <th>End line</th>\n",
       "      <th>No. of words</th>\n",
       "      <th>Program Domain Concepts</th>\n",
       "      <th>All Concepts match Symbols (C )</th>\n",
       "      <th>Concepts match Type / Data  Type (C2)</th>\n",
       "      <th>Concepts not match Symbols (C3)</th>\n",
       "      <th>Concepts partially match Symbols(C4)</th>\n",
       "      <th>...</th>\n",
       "      <th>Performance(C24)</th>\n",
       "      <th>Design(C25)</th>\n",
       "      <th>Memory(C26)</th>\n",
       "      <th>System Specifications(C27)</th>\n",
       "      <th>library, dependencies, links(C28)</th>\n",
       "      <th>Output / Return(C29)</th>\n",
       "      <th>Junk(C30)</th>\n",
       "      <th>Development/implementation(C3 )</th>\n",
       "      <th>Usefulness label (PU, NU, U)</th>\n",
       "      <th>Problem Domain Concepts</th>\n",
       "    </tr>\n",
       "  </thead>\n",
       "  <tbody>\n",
       "    <tr>\n",
       "      <th>0</th>\n",
       "      <td>curl/lib/imap.c/imap.c</td>\n",
       "      <td>Send the LOGOUT command</td>\n",
       "      <td>825.0</td>\n",
       "      <td>825.0</td>\n",
       "      <td>4.0</td>\n",
       "      <td>{'send': ['send', 'Operations as part of Algor...</td>\n",
       "      <td>NaN</td>\n",
       "      <td>NaN</td>\n",
       "      <td>NaN</td>\n",
       "      <td>1.0</td>\n",
       "      <td>...</td>\n",
       "      <td>NaN</td>\n",
       "      <td>NaN</td>\n",
       "      <td>NaN</td>\n",
       "      <td>NaN</td>\n",
       "      <td>NaN</td>\n",
       "      <td>NaN</td>\n",
       "      <td>NaN</td>\n",
       "      <td>NaN</td>\n",
       "      <td>PU</td>\n",
       "      <td>NaN</td>\n",
       "    </tr>\n",
       "    <tr>\n",
       "      <th>1</th>\n",
       "      <td>curl/lib/imap.c/imap.c</td>\n",
       "      <td>For the initial server greeting</td>\n",
       "      <td>834.0</td>\n",
       "      <td>834.0</td>\n",
       "      <td>5.0</td>\n",
       "      <td>{'for': ['for', 'Operations as part of Algorit...</td>\n",
       "      <td>NaN</td>\n",
       "      <td>NaN</td>\n",
       "      <td>NaN</td>\n",
       "      <td>1.0</td>\n",
       "      <td>...</td>\n",
       "      <td>NaN</td>\n",
       "      <td>NaN</td>\n",
       "      <td>NaN</td>\n",
       "      <td>NaN</td>\n",
       "      <td>NaN</td>\n",
       "      <td>NaN</td>\n",
       "      <td>NaN</td>\n",
       "      <td>1.0</td>\n",
       "      <td>PU</td>\n",
       "      <td>NaN</td>\n",
       "    </tr>\n",
       "    <tr>\n",
       "      <th>2</th>\n",
       "      <td>curl/lib/imap.c/imap.c</td>\n",
       "      <td>no use for this yet</td>\n",
       "      <td>840.0</td>\n",
       "      <td>840.0</td>\n",
       "      <td>5.0</td>\n",
       "      <td>{'for': ['for', 'Operations as part of Algorit...</td>\n",
       "      <td>NaN</td>\n",
       "      <td>NaN</td>\n",
       "      <td>NaN</td>\n",
       "      <td>NaN</td>\n",
       "      <td>...</td>\n",
       "      <td>NaN</td>\n",
       "      <td>NaN</td>\n",
       "      <td>NaN</td>\n",
       "      <td>NaN</td>\n",
       "      <td>NaN</td>\n",
       "      <td>NaN</td>\n",
       "      <td>NaN</td>\n",
       "      <td>NaN</td>\n",
       "      <td>NU</td>\n",
       "      <td>NaN</td>\n",
       "    </tr>\n",
       "    <tr>\n",
       "      <th>3</th>\n",
       "      <td>curl/lib/imap.c/imap.c</td>\n",
       "      <td>PREAUTH</td>\n",
       "      <td>843.0</td>\n",
       "      <td>843.0</td>\n",
       "      <td>1.0</td>\n",
       "      <td>{}</td>\n",
       "      <td>1.0</td>\n",
       "      <td>NaN</td>\n",
       "      <td>NaN</td>\n",
       "      <td>NaN</td>\n",
       "      <td>...</td>\n",
       "      <td>NaN</td>\n",
       "      <td>NaN</td>\n",
       "      <td>NaN</td>\n",
       "      <td>NaN</td>\n",
       "      <td>NaN</td>\n",
       "      <td>NaN</td>\n",
       "      <td>NaN</td>\n",
       "      <td>NaN</td>\n",
       "      <td>NU</td>\n",
       "      <td>NaN</td>\n",
       "    </tr>\n",
       "    <tr>\n",
       "      <th>4</th>\n",
       "      <td>curl/lib/imap.c/imap.c</td>\n",
       "      <td>For CAPABILITY responses</td>\n",
       "      <td>856.0</td>\n",
       "      <td>856.0</td>\n",
       "      <td>3.0</td>\n",
       "      <td>{'for': ['for', 'Operations as part of Algorit...</td>\n",
       "      <td>1.0</td>\n",
       "      <td>NaN</td>\n",
       "      <td>NaN</td>\n",
       "      <td>NaN</td>\n",
       "      <td>...</td>\n",
       "      <td>NaN</td>\n",
       "      <td>NaN</td>\n",
       "      <td>NaN</td>\n",
       "      <td>NaN</td>\n",
       "      <td>NaN</td>\n",
       "      <td>NaN</td>\n",
       "      <td>NaN</td>\n",
       "      <td>1.0</td>\n",
       "      <td>PU</td>\n",
       "      <td>NaN</td>\n",
       "    </tr>\n",
       "  </tbody>\n",
       "</table>\n",
       "<p>5 rows × 39 columns</p>\n",
       "</div>"
      ],
      "text/plain": [
       "                 Filename                     Comment text  Start line  \\\n",
       "0  curl/lib/imap.c/imap.c          Send the LOGOUT command       825.0   \n",
       "1  curl/lib/imap.c/imap.c  For the initial server greeting       834.0   \n",
       "2  curl/lib/imap.c/imap.c              no use for this yet       840.0   \n",
       "3  curl/lib/imap.c/imap.c                          PREAUTH       843.0   \n",
       "4  curl/lib/imap.c/imap.c         For CAPABILITY responses       856.0   \n",
       "\n",
       "   End line  No. of words                            Program Domain Concepts  \\\n",
       "0     825.0           4.0  {'send': ['send', 'Operations as part of Algor...   \n",
       "1     834.0           5.0  {'for': ['for', 'Operations as part of Algorit...   \n",
       "2     840.0           5.0  {'for': ['for', 'Operations as part of Algorit...   \n",
       "3     843.0           1.0                                                 {}   \n",
       "4     856.0           3.0  {'for': ['for', 'Operations as part of Algorit...   \n",
       "\n",
       "   All Concepts match Symbols (C )  Concepts match Type / Data  Type (C2)  \\\n",
       "0                              NaN                                    NaN   \n",
       "1                              NaN                                    NaN   \n",
       "2                              NaN                                    NaN   \n",
       "3                              1.0                                    NaN   \n",
       "4                              1.0                                    NaN   \n",
       "\n",
       "   Concepts not match Symbols (C3)  Concepts partially match Symbols(C4)  \\\n",
       "0                              NaN                                   1.0   \n",
       "1                              NaN                                   1.0   \n",
       "2                              NaN                                   NaN   \n",
       "3                              NaN                                   NaN   \n",
       "4                              NaN                                   NaN   \n",
       "\n",
       "            ...             Performance(C24) Design(C25) Memory(C26)  \\\n",
       "0           ...                          NaN         NaN         NaN   \n",
       "1           ...                          NaN         NaN         NaN   \n",
       "2           ...                          NaN         NaN         NaN   \n",
       "3           ...                          NaN         NaN         NaN   \n",
       "4           ...                          NaN         NaN         NaN   \n",
       "\n",
       "  System Specifications(C27) library, dependencies, links(C28)  \\\n",
       "0                        NaN                               NaN   \n",
       "1                        NaN                               NaN   \n",
       "2                        NaN                               NaN   \n",
       "3                        NaN                               NaN   \n",
       "4                        NaN                               NaN   \n",
       "\n",
       "   Output / Return(C29)  Junk(C30)  Development/implementation(C3 )  \\\n",
       "0                   NaN        NaN                              NaN   \n",
       "1                   NaN        NaN                              1.0   \n",
       "2                   NaN        NaN                              NaN   \n",
       "3                   NaN        NaN                              NaN   \n",
       "4                   NaN        NaN                              1.0   \n",
       "\n",
       "  Usefulness label (PU, NU, U)  Problem Domain Concepts  \n",
       "0                           PU                      NaN  \n",
       "1                           PU                      NaN  \n",
       "2                          NU                       NaN  \n",
       "3                          NU                       NaN  \n",
       "4                           PU                      NaN  \n",
       "\n",
       "[5 rows x 39 columns]"
      ]
     },
     "execution_count": 37,
     "metadata": {},
     "output_type": "execute_result"
    }
   ],
   "source": [
    "if FILE_PATH[-3:] == 'csv':\n",
    "    exl_file = pd.read_csv(FILE_PATH,delimiter='\\t')\n",
    "else:\n",
    "    exl_file = pd.read_excel(FILE_PATH)\n",
    "exl_file.head()"
   ]
  },
  {
   "cell_type": "code",
   "execution_count": 38,
   "metadata": {},
   "outputs": [
    {
     "name": "stdout",
     "output_type": "stream",
     "text": [
      "0  :  curl/lib/vauth/ntlm_sspi.c/ntlm_sspi.c\n",
      "1  :  * Curl_auth_is_ntlm_supported()\n",
      " *\n",
      " * This is used to evaluate if NTLM is supported.\n",
      " *\n",
      " * Parameters: None\n",
      " *\n",
      " * Returns TRUE if NTLM is supported by Windows SSPI.\n",
      "2  :  41.0\n",
      "3  :  49.0\n",
      "4  :  28.0\n",
      "5  :  {'evaluate': ['evaluated', 'Operations as part of Algorithms'], 'if': ['if', 'Operations as part of Algorithms'], 'parameters': ['paramet', 'Data-Structure and its Components'], 'returns': ['returns', 'Operations as part of Algorithms'], 'parameters:': ['parameters', 'Data-Structure and its Components'], '* returns': ['returns', 'Operations as part of Algorithms']}\n",
      "6  :  nan\n",
      "7  :  nan\n",
      "8  :  nan\n",
      "9  :  1.0\n",
      "10  :  nan\n",
      "11  :  1\n",
      "12  :   \n",
      "13  :  nan\n",
      "14  :   \n",
      "15  :  nan\n",
      "16  :  1.0\n",
      "17  :  nan\n",
      "18  :  nan\n",
      "19  :  1.0\n",
      "20  :  nan\n",
      "21  :  nan\n",
      "22  :  nan\n",
      "23  :  nan\n",
      "24  :  nan\n",
      "25  :  nan\n",
      "26  :  nan\n",
      "27  :  nan\n",
      "28  :  nan\n",
      "29  :  nan\n",
      "30  :  nan\n",
      "31  :  nan\n",
      "32  :  1\n",
      "33  :  nan\n",
      "34  :  nan\n",
      "35  :  nan\n",
      "36  :  1.0\n",
      "37  :  PU\n",
      "38  :  Curl_auth_is_ntlm_supported()\n",
      "NTLM, supported.\n",
      "Windows SSPI.\n"
     ]
    }
   ],
   "source": [
    "exl_np = np.array(exl_file)\n",
    "for i,el in enumerate(exl_np[306]):\n",
    "    print(i,\" : \",el)"
   ]
  },
  {
   "cell_type": "code",
   "execution_count": 47,
   "metadata": {},
   "outputs": [
    {
     "data": {
      "text/plain": [
       "array(['Send the LOGOUT command', nan, nan, nan, 1.0, nan, 1, ' ', nan,\n",
       "       nan, 1.0, nan, nan, nan, nan, 1.0, nan, nan, nan, nan, nan, nan,\n",
       "       nan, nan, nan, nan, nan, nan, nan, nan, nan], dtype=object)"
      ]
     },
     "execution_count": 47,
     "metadata": {},
     "output_type": "execute_result"
    }
   ],
   "source": [
    "classes = exl_np[:,[1]+list(range(ANNOTATION_CLASS_START,ANNOTATION_CLASS_START + ANNOTATION_CLASS_NUM - 1))]\n",
    "classes[0]"
   ]
  },
  {
   "cell_type": "code",
   "execution_count": 48,
   "metadata": {},
   "outputs": [],
   "source": [
    "for j, c in enumerate(classes):\n",
    "    for i in range(1,31):\n",
    "        try:\n",
    "            if c[i] != c[i]:\n",
    "                c[i] = False\n",
    "#             elif c[i] == 'False':\n",
    "#                 c[i] = False\n",
    "#             elif c[i] == 'True':\n",
    "#                 c[i] = True\n",
    "            elif c[i] == ' ':\n",
    "                c[i] = False\n",
    "            elif int(c[i]) == 1:\n",
    "                c[i] = True\n",
    "            else:\n",
    "                c[i] = False\n",
    "        except:\n",
    "            print(j, i)"
   ]
  },
  {
   "cell_type": "code",
   "execution_count": null,
   "metadata": {
    "collapsed": true
   },
   "outputs": [],
   "source": []
  },
  {
   "cell_type": "code",
   "execution_count": 49,
   "metadata": {
    "collapsed": true
   },
   "outputs": [],
   "source": [
    "labels = []\n",
    "labels_comment_classification = []\n",
    "for c in classes:\n",
    "    labels.append(MAP[get_label(c)])\n",
    "    labels_comment_classification.append(get_label_comment_classification(c))"
   ]
  },
  {
   "cell_type": "code",
   "execution_count": 50,
   "metadata": {
    "collapsed": true
   },
   "outputs": [],
   "source": [
    "exl_file['Calculated Score'] = labels\n",
    "exl_file['Comment Type'] = labels_comment_classification"
   ]
  },
  {
   "cell_type": "code",
   "execution_count": 51,
   "metadata": {
    "collapsed": true
   },
   "outputs": [],
   "source": [
    "if FILE_PATH[-3:] == 'csv':\n",
    "    exl_file.to_csv(OUTPUT_FILE_PATH,index=False)\n",
    "else:\n",
    "    exl_file.to_excel(OUTPUT_FILE_PATH, index=False)"
   ]
  },
  {
   "cell_type": "code",
   "execution_count": null,
   "metadata": {
    "collapsed": true
   },
   "outputs": [],
   "source": []
  },
  {
   "cell_type": "code",
   "execution_count": null,
   "metadata": {
    "collapsed": true
   },
   "outputs": [],
   "source": []
  },
  {
   "cell_type": "markdown",
   "metadata": {},
   "source": [
    "# Analysis"
   ]
  },
  {
   "cell_type": "code",
   "execution_count": 15,
   "metadata": {
    "collapsed": true
   },
   "outputs": [],
   "source": [
    "intuitive_labels = exl_np[:,-1]"
   ]
  },
  {
   "cell_type": "code",
   "execution_count": 16,
   "metadata": {
    "collapsed": true
   },
   "outputs": [],
   "source": [
    "lables_np = np.array(labels)"
   ]
  },
  {
   "cell_type": "code",
   "execution_count": null,
   "metadata": {
    "collapsed": true
   },
   "outputs": [],
   "source": []
  },
  {
   "cell_type": "code",
   "execution_count": 172,
   "metadata": {
    "collapsed": true
   },
   "outputs": [],
   "source": [
    "num_nan = np.sum(np.array([x !=x for x in intuitive_labels]))"
   ]
  },
  {
   "cell_type": "code",
   "execution_count": 173,
   "metadata": {},
   "outputs": [
    {
     "data": {
      "text/plain": [
       "(0.08846584546472565, 893)"
      ]
     },
     "execution_count": 173,
     "metadata": {},
     "output_type": "execute_result"
    }
   ],
   "source": [
    "sum(lables_np == intuitive_labels)/(len(lables_np) - num_nan), (len(lables_np) - num_nan)"
   ]
  },
  {
   "cell_type": "code",
   "execution_count": 174,
   "metadata": {
    "collapsed": true
   },
   "outputs": [],
   "source": [
    "losses = {}"
   ]
  },
  {
   "cell_type": "code",
   "execution_count": 175,
   "metadata": {
    "collapsed": true
   },
   "outputs": [],
   "source": [
    "for i in range(len(intuitive_labels)):\n",
    "    if intuitive_labels[i]!=intuitive_labels[i]:\n",
    "        continue\n",
    "    li = intuitive_labels[i]\n",
    "    lc = lables_np[i]\n",
    "    if li not in losses:\n",
    "        losses[li] = {}\n",
    "    if lc not in losses[li]:\n",
    "        losses[li][lc] = 0\n",
    "    losses[li][lc] += 1"
   ]
  },
  {
   "cell_type": "code",
   "execution_count": 176,
   "metadata": {},
   "outputs": [
    {
     "data": {
      "text/plain": [
       "{'Pu': {'N': 125, 'P': 6, 'U': 21},\n",
       " 'U': {'N': 112, 'P': 41, 'U': 79},\n",
       " 'Us': {'N': 507, 'P': 2}}"
      ]
     },
     "execution_count": 176,
     "metadata": {},
     "output_type": "execute_result"
    }
   ],
   "source": [
    "losses"
   ]
  },
  {
   "cell_type": "code",
   "execution_count": 177,
   "metadata": {
    "collapsed": true
   },
   "outputs": [],
   "source": [
    "sm = 0\n",
    "for i in range(len(intuitive_labels)):\n",
    "    if intuitive_labels[i] != intuitive_labels[i]:\n",
    "        continue\n",
    "    if intuitive_labels[i][0] == lables_np[i][0]:\n",
    "        sm+=1"
   ]
  },
  {
   "cell_type": "code",
   "execution_count": 178,
   "metadata": {},
   "outputs": [
    {
     "data": {
      "text/plain": [
       "0.09518477043673013"
      ]
     },
     "execution_count": 178,
     "metadata": {},
     "output_type": "execute_result"
    }
   ],
   "source": [
    "sm/(len(lables_np) - num_nan)"
   ]
  },
  {
   "cell_type": "code",
   "execution_count": null,
   "metadata": {
    "collapsed": true
   },
   "outputs": [],
   "source": []
  },
  {
   "cell_type": "code",
   "execution_count": 17,
   "metadata": {
    "collapsed": true
   },
   "outputs": [],
   "source": [
    "losses = {}\n",
    "def get_hash(classes):\n",
    "    hsh = []\n",
    "    for i, c in enumerate(classes):\n",
    "        if c == True:\n",
    "            hsh.append(i+1)\n",
    "    return str(hsh)\n",
    "\n",
    "for i in range(len(intuitive_labels)):\n",
    "    if intuitive_labels[i]!=intuitive_labels[i]:\n",
    "        continue\n",
    "    li = intuitive_labels[i][0]\n",
    "    lc = lables_np[i]\n",
    "    if li not in losses:\n",
    "        losses[li] = {}\n",
    "    if lc not in losses[li]:\n",
    "        losses[li][lc] = {}\n",
    "    if li==lc:\n",
    "        continue\n",
    "    myhash = get_hash(classes[i][1:])\n",
    "    if myhash not in losses[li][lc]:\n",
    "        losses[li][lc][myhash] = 0\n",
    "    losses[li][lc][myhash] += 1"
   ]
  },
  {
   "cell_type": "code",
   "execution_count": 18,
   "metadata": {
    "collapsed": true
   },
   "outputs": [],
   "source": [
    "alls = []\n",
    "for li, v1 in losses.items():\n",
    "    for lc, v2 in v1.items():\n",
    "        curr = 0\n",
    "        tops_curr = None\n",
    "        for  myhash, ct in v2.items():\n",
    "            alls.append([li,lc,myhash,ct])\n",
    "#             if ct > curr:\n",
    "#                 curr = ct\n",
    "#                 tops_curr = [li, lc, myhash, ct]\n",
    "#         if tops_curr is not None:\n",
    "#             tops.append(tops_curr)"
   ]
  },
  {
   "cell_type": "code",
   "execution_count": 19,
   "metadata": {},
   "outputs": [
    {
     "name": "stdout",
     "output_type": "stream",
     "text": [
      "Inutinitive Label | Calculated Label | Classes which have 1 | Number of such mismatch\n"
     ]
    },
    {
     "data": {
      "text/plain": [
       "[['U', 'N', '[3, 7, 8]', 114],\n",
       " ['U', 'N', '[3, 6, 7, 13]', 66],\n",
       " ['U', 'N', '[3, 8, 10]', 61],\n",
       " ['P', 'N', '[3, 7, 8]', 59],\n",
       " ['N', 'U', '[3, 7, 8, 13, 15]', 57],\n",
       " ['P', 'N', '[3, 7, 8, 13]', 51],\n",
       " ['P', 'U', '[3, 7, 9]', 40],\n",
       " ['P', 'N', '[3, 6, 7, 13]', 40],\n",
       " ['N', 'U', '[2, 3, 7, 8, 13, 15]', 39],\n",
       " ['U', 'N', '[3, 7, 8, 13]', 33],\n",
       " ['P', 'N', '[3, 6, 7, 13, 15]', 25],\n",
       " ['P', 'N', '[1, 6, 7, 13, 15]', 25],\n",
       " ['P', 'U', '[3, 7, 8, 13, 15]', 19],\n",
       " ['U', 'N', '[3, 6, 7, 13, 15]', 17],\n",
       " ['U', 'N', '[3, 6, 10]', 17],\n",
       " ['U', 'P', '[4, 7, 9]', 16],\n",
       " ['U', 'N', '[3, 6, 7]', 16],\n",
       " ['U', 'P', '[4, 9, 11]', 13],\n",
       " ['U', 'N', '[3, 6, 10, 13]', 13],\n",
       " ['P', 'U', '[3, 9, 10]', 12],\n",
       " ['U', 'P', '[4, 9, 10]', 11],\n",
       " ['U', 'N', '[1, 7, 8, 15]', 10],\n",
       " ['P', 'N', '[3, 8, 10]', 10],\n",
       " ['U', 'P', '[4, 9, 11, 14]', 9],\n",
       " ['P', 'U', '[3, 6, 10, 13, 15]', 9],\n",
       " ['P', 'N', '[3, 6, 10, 13]', 8],\n",
       " ['U', 'N', '[3, 8, 10, 13]', 7],\n",
       " ['P', 'U', '[3, 7, 8, 15]', 7],\n",
       " ['P', 'N', '[1, 6, 10, 13, 15]', 7],\n",
       " ['N', 'U', '[3, 7, 9]', 7],\n",
       " ['P', 'N', '[1, 7, 8]', 6],\n",
       " ['N', 'U', '[3, 7, 8, 15]', 6],\n",
       " ['U', 'P', '[4, 7, 8]', 5],\n",
       " ['U', 'P', '[4, 7, 9, 14]', 4],\n",
       " ['U', 'P', '[4, 8, 10]', 4],\n",
       " ['U', 'P', '[4, 6, 11, 12, 13]', 4],\n",
       " ['U', 'N', '[1, 6, 10, 13, 15]', 4],\n",
       " ['U', 'N', '[3, 6, 7, 12, 13]', 4],\n",
       " ['P', 'U', '[3, 8, 11]', 4],\n",
       " ['P', 'U', '[3, 8, 11, 15]', 4],\n",
       " ['P', 'N', '[3, 6, 7]', 4],\n",
       " ['U', 'P', '[4, 7, 9, 15]', 3],\n",
       " ['U', 'P', '[4, 9, 10, 14]', 3],\n",
       " ['U', 'P', '[3, 8, 10, 13, 17]', 3],\n",
       " ['U', 'P', '[4, 7, 8, 15]', 3],\n",
       " ['U', 'P', '[4, 7, 8, 12]', 3],\n",
       " ['U', 'N', '[3, 6, 7, 15]', 3],\n",
       " ['U', 'N', '[1, 6, 7, 13, 15]', 3],\n",
       " ['U', 'N', '[3, 7, 8, 12, 13]', 3],\n",
       " ['U', 'N', '[9, 10]', 3],\n",
       " ['U', 'N', '[7, 9]', 3],\n",
       " ['U', 'N', '[7, 8, 13]', 3],\n",
       " ['P', 'U', '[3, 8, 10, 15]', 3],\n",
       " ['P', 'U', '[3, 7, 8, 13, 22]', 3],\n",
       " ['P', 'U', '[4, 7, 9, 23]', 3],\n",
       " ['P', 'N', '[3, 8, 10, 13]', 3],\n",
       " ['P', 'N', '[3, 6, 10]', 3],\n",
       " ['N', 'U', '[3, 7, 9, 13, 15]', 3],\n",
       " ['N', 'U', '[3, 7, 9, 13]', 3],\n",
       " ['U', 'P', '[3, 7, 8, 14]', 2],\n",
       " ['U', 'P', '[4, 8, 11, 15]', 2],\n",
       " ['U', 'N', '[2, 7, 8]', 2],\n",
       " ['U', 'N', '[1, 7, 8]', 2],\n",
       " ['U', 'N', '[7, 8]', 2],\n",
       " ['U', 'N', '[2, 7, 9]', 2],\n",
       " ['U', 'N', '[3, 6, 10, 12, 13]', 2],\n",
       " ['U', 'N', '[1, 6, 11]', 2],\n",
       " ['U', 'N', '[1, 7, 9, 15]', 2],\n",
       " ['U', 'N', '[6, 7]', 2],\n",
       " ['P', 'U', '[3, 5, 7, 9, 15]', 2],\n",
       " ['P', 'U', '[3, 7, 9, 13]', 2],\n",
       " ['P', 'U', '[3, 7, 8, 13, 29]', 2],\n",
       " ['P', 'U', '[3, 5, 7, 9]', 2],\n",
       " ['P', 'U', '[3, 7, 9, 26]', 2],\n",
       " ['P', 'U', '[3, 7, 9, 15]', 2],\n",
       " ['P', 'U', '[3, 7, 9, 27]', 2],\n",
       " ['P', 'N', '[7, 8]', 2],\n",
       " ['P', 'N', '[4, 6, 7, 13, 15]', 2],\n",
       " ['P', 'N', '[1, 7, 8, 13, 15]', 2],\n",
       " ['P', 'N', '[2, 3, 6, 7, 13, 15]', 2],\n",
       " ['P', 'N', '[1, 7, 8, 13]', 2],\n",
       " ['P', 'N', '[1, 7, 8, 15]', 2],\n",
       " ['P', 'N', '[2, 3, 6, 7, 13]', 2],\n",
       " ['N', 'U', '[3, 5, 7, 8, 13, 15]', 2],\n",
       " ['U', 'P', '[4, 8, 10, 13]', 1],\n",
       " ['U', 'P', '[4, 8, 11, 12, 13]', 1],\n",
       " ['U', 'P', '[4, 9, 11, 17]', 1],\n",
       " ['U', 'P', '[4, 8, 11]', 1],\n",
       " ['U', 'P', '[2, 4, 9, 11]', 1],\n",
       " ['U', 'P', '[3, 8, 10, 17]', 1],\n",
       " ['U', 'P', '[3, 7, 8, 17]', 1],\n",
       " ['U', 'P', '[4, 6, 10, 13]', 1],\n",
       " ['U', 'P', '[4, 7, 8, 13]', 1],\n",
       " ['U', 'P', '[7, 9, 17]', 1],\n",
       " ['U', 'N', '[7, 8, 26]', 1],\n",
       " ['U', 'N', '[3, 4, 6, 7, 13]', 1],\n",
       " ['U', 'N', '[1, 8, 10, 15]', 1],\n",
       " ['U', 'N', '[9, 11, 14, 25]', 1],\n",
       " ['U', 'N', '[4, 6, 7, 12, 13]', 1],\n",
       " ['U', 'N', '[3, 7, 8, 12]', 1],\n",
       " ['U', 'N', '[3, 8, 10, 12]', 1],\n",
       " ['U', 'N', '[8, 11]', 1],\n",
       " ['U', 'N', '[6, 11]', 1],\n",
       " ['U', 'N', '[4, 6, 7, 15]', 1],\n",
       " ['U', 'N', '[2, 3, 7, 8]', 1],\n",
       " ['U', 'N', '[8, 10]', 1],\n",
       " ['U', 'N', '[1, 6, 10, 12, 13]', 1],\n",
       " ['U', 'N', '[1, 7, 8, 13]', 1],\n",
       " ['U', 'N', '[6, 7, 13]', 1],\n",
       " ['P', 'U', '[3, 6, 7, 13, 15, 26]', 1],\n",
       " ['P', 'U', '[1, 3, 6, 10, 13, 15]', 1],\n",
       " ['P', 'U', '[3, 9, 10, 13]', 1],\n",
       " ['P', 'U', '[2, 3, 7, 8, 13, 15]', 1],\n",
       " ['P', 'U', '[3, 9, 10, 15]', 1],\n",
       " ['P', 'U', '[3, 5, 9, 10]', 1],\n",
       " ['P', 'U', '[3, 9, 11]', 1],\n",
       " ['P', 'U', '[3, 7, 8, 13, 23]', 1],\n",
       " ['P', 'U', '[3, 9, 10, 22]', 1],\n",
       " ['P', 'U', '[3, 7, 8, 29]', 1],\n",
       " ['P', 'U', '[3, 7, 9, 29]', 1],\n",
       " ['P', 'U', '[3, 8, 10, 20]', 1],\n",
       " ['P', 'U', '[3, 7, 9, 13, 15]', 1],\n",
       " ['P', 'N', '[4, 5, 6, 7, 12, 13, 15]', 1],\n",
       " ['P', 'N', '[3, 6, 7, 12, 15]', 1],\n",
       " ['P', 'N', '[6, 7, 13]', 1],\n",
       " ['P', 'N', '[3, 5, 6, 7, 13]', 1],\n",
       " ['P', 'N', '[3, 5, 7, 8, 13]', 1],\n",
       " ['P', 'N', '[3, 5, 6, 10, 13]', 1],\n",
       " ['P', 'N', '[1, 6, 10, 13]', 1],\n",
       " ['P', 'N', '[1, 8, 10]', 1],\n",
       " ['P', 'N', '[1, 8, 10, 13]', 1],\n",
       " ['P', 'N', '[9, 10]', 1],\n",
       " ['P', 'N', '[3, 5, 7, 8]', 1],\n",
       " ['P', 'N', '[4, 6, 7]', 1],\n",
       " ['P', 'N', '[1, 6, 7, 13]', 1],\n",
       " ['N', 'U', '[3, 5, 8, 10, 15]', 1],\n",
       " ['N', 'U', '[3, 7, 8, 29]', 1],\n",
       " ['N', 'U', '[3, 6, 10, 13, 15]', 1],\n",
       " ['N', 'U', '[3, 6, 7, 13, 22]', 1],\n",
       " ['N', 'P', '[4, 5, 8, 10, 13]', 1]]"
      ]
     },
     "execution_count": 19,
     "metadata": {},
     "output_type": "execute_result"
    }
   ],
   "source": [
    "print(\"Inutinitive Label | Calculated Label | Classes which have 1 | Number of such mismatch\")\n",
    "alls = sorted(alls,key=lambda x:(x[3],x[0],x[1]),reverse=True)\n",
    "alls"
   ]
  },
  {
   "cell_type": "code",
   "execution_count": 20,
   "metadata": {
    "collapsed": true
   },
   "outputs": [],
   "source": [
    "import csv\n",
    "with open('DATA/ANNOTATED/rule_diffs/'+PROJECT_NAME+\".csv\",'w') as f:\n",
    "    writer = csv.writer(f)\n",
    "    writer.writerow([\"Intuitive Label\",\"Calculated Label\", \"Classes which have 1 marked\",\"Number of Mismatches\", \"Name\"])\n",
    "    for i, row in enumerate(alls):\n",
    "        if row[3] < THRESHOLD:\n",
    "            break\n",
    "        writer.writerow(row + [\"Case \"+str(i+1)])"
   ]
  },
  {
   "cell_type": "code",
   "execution_count": null,
   "metadata": {
    "collapsed": true
   },
   "outputs": [],
   "source": []
  },
  {
   "cell_type": "code",
   "execution_count": 21,
   "metadata": {},
   "outputs": [
    {
     "data": {
      "text/plain": [
       "[['U', 'N', '[3, 7, 8]', 114],\n",
       " ['U', 'N', '[3, 6, 7, 13]', 66],\n",
       " ['U', 'N', '[3, 8, 10]', 61],\n",
       " ['P', 'N', '[3, 7, 8]', 59],\n",
       " ['N', 'U', '[3, 7, 8, 13, 15]', 57],\n",
       " ['P', 'N', '[3, 7, 8, 13]', 51],\n",
       " ['P', 'U', '[3, 7, 9]', 40],\n",
       " ['P', 'N', '[3, 6, 7, 13]', 40],\n",
       " ['N', 'U', '[2, 3, 7, 8, 13, 15]', 39],\n",
       " ['U', 'N', '[3, 7, 8, 13]', 33],\n",
       " ['P', 'N', '[3, 6, 7, 13, 15]', 25],\n",
       " ['P', 'N', '[1, 6, 7, 13, 15]', 25],\n",
       " ['P', 'U', '[3, 7, 8, 13, 15]', 19],\n",
       " ['U', 'N', '[3, 6, 7, 13, 15]', 17],\n",
       " ['U', 'N', '[3, 6, 10]', 17],\n",
       " ['U', 'P', '[4, 7, 9]', 16],\n",
       " ['U', 'N', '[3, 6, 7]', 16],\n",
       " ['U', 'P', '[4, 9, 11]', 13],\n",
       " ['U', 'N', '[3, 6, 10, 13]', 13],\n",
       " ['P', 'U', '[3, 9, 10]', 12],\n",
       " ['U', 'P', '[4, 9, 10]', 11],\n",
       " ['U', 'N', '[1, 7, 8, 15]', 10],\n",
       " ['P', 'N', '[3, 8, 10]', 10],\n",
       " ['U', 'P', '[4, 9, 11, 14]', 9],\n",
       " ['P', 'U', '[3, 6, 10, 13, 15]', 9],\n",
       " ['P', 'N', '[3, 6, 10, 13]', 8],\n",
       " ['U', 'N', '[3, 8, 10, 13]', 7],\n",
       " ['P', 'U', '[3, 7, 8, 15]', 7],\n",
       " ['P', 'N', '[1, 6, 10, 13, 15]', 7],\n",
       " ['N', 'U', '[3, 7, 9]', 7],\n",
       " ['P', 'N', '[1, 7, 8]', 6],\n",
       " ['N', 'U', '[3, 7, 8, 15]', 6],\n",
       " ['U', 'P', '[4, 7, 8]', 5],\n",
       " ['U', 'P', '[4, 7, 9, 14]', 4],\n",
       " ['U', 'P', '[4, 8, 10]', 4],\n",
       " ['U', 'P', '[4, 6, 11, 12, 13]', 4],\n",
       " ['U', 'N', '[1, 6, 10, 13, 15]', 4],\n",
       " ['U', 'N', '[3, 6, 7, 12, 13]', 4],\n",
       " ['P', 'U', '[3, 8, 11]', 4],\n",
       " ['P', 'U', '[3, 8, 11, 15]', 4],\n",
       " ['P', 'N', '[3, 6, 7]', 4],\n",
       " ['U', 'P', '[4, 7, 9, 15]', 3],\n",
       " ['U', 'P', '[4, 9, 10, 14]', 3],\n",
       " ['U', 'P', '[3, 8, 10, 13, 17]', 3],\n",
       " ['U', 'P', '[4, 7, 8, 15]', 3],\n",
       " ['U', 'P', '[4, 7, 8, 12]', 3],\n",
       " ['U', 'N', '[3, 6, 7, 15]', 3],\n",
       " ['U', 'N', '[1, 6, 7, 13, 15]', 3],\n",
       " ['U', 'N', '[3, 7, 8, 12, 13]', 3],\n",
       " ['U', 'N', '[9, 10]', 3],\n",
       " ['U', 'N', '[7, 9]', 3],\n",
       " ['U', 'N', '[7, 8, 13]', 3],\n",
       " ['P', 'U', '[3, 8, 10, 15]', 3],\n",
       " ['P', 'U', '[3, 7, 8, 13, 22]', 3],\n",
       " ['P', 'U', '[4, 7, 9, 23]', 3],\n",
       " ['P', 'N', '[3, 8, 10, 13]', 3],\n",
       " ['P', 'N', '[3, 6, 10]', 3],\n",
       " ['N', 'U', '[3, 7, 9, 13, 15]', 3],\n",
       " ['N', 'U', '[3, 7, 9, 13]', 3],\n",
       " ['U', 'P', '[3, 7, 8, 14]', 2],\n",
       " ['U', 'P', '[4, 8, 11, 15]', 2],\n",
       " ['U', 'N', '[2, 7, 8]', 2],\n",
       " ['U', 'N', '[1, 7, 8]', 2],\n",
       " ['U', 'N', '[7, 8]', 2],\n",
       " ['U', 'N', '[2, 7, 9]', 2],\n",
       " ['U', 'N', '[3, 6, 10, 12, 13]', 2],\n",
       " ['U', 'N', '[1, 6, 11]', 2],\n",
       " ['U', 'N', '[1, 7, 9, 15]', 2],\n",
       " ['U', 'N', '[6, 7]', 2],\n",
       " ['P', 'U', '[3, 5, 7, 9, 15]', 2],\n",
       " ['P', 'U', '[3, 7, 9, 13]', 2],\n",
       " ['P', 'U', '[3, 7, 8, 13, 29]', 2],\n",
       " ['P', 'U', '[3, 5, 7, 9]', 2],\n",
       " ['P', 'U', '[3, 7, 9, 26]', 2],\n",
       " ['P', 'U', '[3, 7, 9, 15]', 2],\n",
       " ['P', 'U', '[3, 7, 9, 27]', 2],\n",
       " ['P', 'N', '[7, 8]', 2],\n",
       " ['P', 'N', '[4, 6, 7, 13, 15]', 2],\n",
       " ['P', 'N', '[1, 7, 8, 13, 15]', 2],\n",
       " ['P', 'N', '[2, 3, 6, 7, 13, 15]', 2],\n",
       " ['P', 'N', '[1, 7, 8, 13]', 2],\n",
       " ['P', 'N', '[1, 7, 8, 15]', 2],\n",
       " ['P', 'N', '[2, 3, 6, 7, 13]', 2],\n",
       " ['N', 'U', '[3, 5, 7, 8, 13, 15]', 2],\n",
       " ['U', 'P', '[4, 8, 10, 13]', 1],\n",
       " ['U', 'P', '[4, 8, 11, 12, 13]', 1],\n",
       " ['U', 'P', '[4, 9, 11, 17]', 1],\n",
       " ['U', 'P', '[4, 8, 11]', 1],\n",
       " ['U', 'P', '[2, 4, 9, 11]', 1],\n",
       " ['U', 'P', '[3, 8, 10, 17]', 1],\n",
       " ['U', 'P', '[3, 7, 8, 17]', 1],\n",
       " ['U', 'P', '[4, 6, 10, 13]', 1],\n",
       " ['U', 'P', '[4, 7, 8, 13]', 1],\n",
       " ['U', 'P', '[7, 9, 17]', 1],\n",
       " ['U', 'N', '[7, 8, 26]', 1],\n",
       " ['U', 'N', '[3, 4, 6, 7, 13]', 1],\n",
       " ['U', 'N', '[1, 8, 10, 15]', 1],\n",
       " ['U', 'N', '[9, 11, 14, 25]', 1],\n",
       " ['U', 'N', '[4, 6, 7, 12, 13]', 1],\n",
       " ['U', 'N', '[3, 7, 8, 12]', 1],\n",
       " ['U', 'N', '[3, 8, 10, 12]', 1],\n",
       " ['U', 'N', '[8, 11]', 1],\n",
       " ['U', 'N', '[6, 11]', 1],\n",
       " ['U', 'N', '[4, 6, 7, 15]', 1],\n",
       " ['U', 'N', '[2, 3, 7, 8]', 1],\n",
       " ['U', 'N', '[8, 10]', 1],\n",
       " ['U', 'N', '[1, 6, 10, 12, 13]', 1],\n",
       " ['U', 'N', '[1, 7, 8, 13]', 1],\n",
       " ['U', 'N', '[6, 7, 13]', 1],\n",
       " ['P', 'U', '[3, 6, 7, 13, 15, 26]', 1],\n",
       " ['P', 'U', '[1, 3, 6, 10, 13, 15]', 1],\n",
       " ['P', 'U', '[3, 9, 10, 13]', 1],\n",
       " ['P', 'U', '[2, 3, 7, 8, 13, 15]', 1],\n",
       " ['P', 'U', '[3, 9, 10, 15]', 1],\n",
       " ['P', 'U', '[3, 5, 9, 10]', 1],\n",
       " ['P', 'U', '[3, 9, 11]', 1],\n",
       " ['P', 'U', '[3, 7, 8, 13, 23]', 1],\n",
       " ['P', 'U', '[3, 9, 10, 22]', 1],\n",
       " ['P', 'U', '[3, 7, 8, 29]', 1],\n",
       " ['P', 'U', '[3, 7, 9, 29]', 1],\n",
       " ['P', 'U', '[3, 8, 10, 20]', 1],\n",
       " ['P', 'U', '[3, 7, 9, 13, 15]', 1],\n",
       " ['P', 'N', '[4, 5, 6, 7, 12, 13, 15]', 1],\n",
       " ['P', 'N', '[3, 6, 7, 12, 15]', 1],\n",
       " ['P', 'N', '[6, 7, 13]', 1],\n",
       " ['P', 'N', '[3, 5, 6, 7, 13]', 1],\n",
       " ['P', 'N', '[3, 5, 7, 8, 13]', 1],\n",
       " ['P', 'N', '[3, 5, 6, 10, 13]', 1],\n",
       " ['P', 'N', '[1, 6, 10, 13]', 1],\n",
       " ['P', 'N', '[1, 8, 10]', 1],\n",
       " ['P', 'N', '[1, 8, 10, 13]', 1],\n",
       " ['P', 'N', '[9, 10]', 1],\n",
       " ['P', 'N', '[3, 5, 7, 8]', 1],\n",
       " ['P', 'N', '[4, 6, 7]', 1],\n",
       " ['P', 'N', '[1, 6, 7, 13]', 1],\n",
       " ['N', 'U', '[3, 5, 8, 10, 15]', 1],\n",
       " ['N', 'U', '[3, 7, 8, 29]', 1],\n",
       " ['N', 'U', '[3, 6, 10, 13, 15]', 1],\n",
       " ['N', 'U', '[3, 6, 7, 13, 22]', 1],\n",
       " ['N', 'P', '[4, 5, 8, 10, 13]', 1]]"
      ]
     },
     "execution_count": 21,
     "metadata": {},
     "output_type": "execute_result"
    }
   ],
   "source": [
    "alls"
   ]
  },
  {
   "cell_type": "markdown",
   "metadata": {
    "collapsed": true
   },
   "source": [
    "# Extend Annotations with Diff"
   ]
  },
  {
   "cell_type": "code",
   "execution_count": 22,
   "metadata": {},
   "outputs": [
    {
     "data": {
      "text/plain": [
       "{('N', 'U', '[2, 3, 7, 8, 13, 15]'): 9,\n",
       " ('N', 'U', '[3, 7, 8, 13, 15]'): 5,\n",
       " ('P', 'N', '[1, 6, 7, 13, 15]'): 12,\n",
       " ('P', 'N', '[3, 6, 7, 13, 15]'): 11,\n",
       " ('P', 'N', '[3, 6, 7, 13]'): 8,\n",
       " ('P', 'N', '[3, 7, 8, 13]'): 6,\n",
       " ('P', 'N', '[3, 7, 8]'): 4,\n",
       " ('P', 'N', '[3, 8, 10]'): 23,\n",
       " ('P', 'U', '[3, 7, 8, 13, 15]'): 13,\n",
       " ('P', 'U', '[3, 7, 9]'): 7,\n",
       " ('P', 'U', '[3, 9, 10]'): 20,\n",
       " ('U', 'N', '[1, 7, 8, 15]'): 22,\n",
       " ('U', 'N', '[3, 6, 10, 13]'): 19,\n",
       " ('U', 'N', '[3, 6, 10]'): 15,\n",
       " ('U', 'N', '[3, 6, 7, 13, 15]'): 14,\n",
       " ('U', 'N', '[3, 6, 7, 13]'): 2,\n",
       " ('U', 'N', '[3, 6, 7]'): 17,\n",
       " ('U', 'N', '[3, 7, 8, 13]'): 10,\n",
       " ('U', 'N', '[3, 7, 8]'): 1,\n",
       " ('U', 'N', '[3, 8, 10]'): 3,\n",
       " ('U', 'P', '[4, 7, 9]'): 16,\n",
       " ('U', 'P', '[4, 9, 10]'): 21,\n",
       " ('U', 'P', '[4, 9, 11]'): 18}"
      ]
     },
     "execution_count": 22,
     "metadata": {},
     "output_type": "execute_result"
    }
   ],
   "source": [
    "alls_map = {}\n",
    "for i, row in enumerate(alls):\n",
    "    if row[3] < THRESHOLD:\n",
    "        break\n",
    "    alls_map[(row[0],row[1],row[2])] = i+1\n",
    "alls_map"
   ]
  },
  {
   "cell_type": "code",
   "execution_count": 23,
   "metadata": {
    "collapsed": true
   },
   "outputs": [],
   "source": [
    "diff_names = []\n",
    "diffs_map = {}\n",
    "for i in range(len(intuitive_labels)):\n",
    "    if intuitive_labels[i]!=intuitive_labels[i]:\n",
    "        diff_names.append(None)\n",
    "        continue\n",
    "    li = intuitive_labels[i][0]\n",
    "    lc = lables_np[i]\n",
    "    myhash = get_hash(classes[i][1:])\n",
    "    if (li, lc, myhash) not in alls_map:\n",
    "        diff_names.append(None)\n",
    "        continue\n",
    "    diff_names.append(\"Case \" + str(alls_map[(li, lc, myhash)]))\n",
    "    if alls_map[(li, lc, myhash)] not in diffs_map:\n",
    "        diffs_map[alls_map[(li, lc, myhash)]] = []\n",
    "    diffs_map[alls_map[(li, lc, myhash)]].append(i)"
   ]
  },
  {
   "cell_type": "code",
   "execution_count": 24,
   "metadata": {
    "collapsed": true
   },
   "outputs": [],
   "source": [
    "exl_file['Mismatch Case'] = diff_names"
   ]
  },
  {
   "cell_type": "code",
   "execution_count": 25,
   "metadata": {
    "collapsed": true
   },
   "outputs": [],
   "source": [
    "DIFFS_FILE = FILE_NAME\n",
    "if DIFFS_FILE[-3:] == 'csv':\n",
    "    DIFFS_FILE = DIFFS_FILE[:-3] + 'xlsx'"
   ]
  },
  {
   "cell_type": "code",
   "execution_count": 26,
   "metadata": {
    "collapsed": true
   },
   "outputs": [],
   "source": [
    "writer = pd.ExcelWriter(\"DATA/ANNOTATED/rule_diffs/\"+DIFFS_FILE, engine = 'xlsxwriter')"
   ]
  },
  {
   "cell_type": "code",
   "execution_count": 27,
   "metadata": {
    "collapsed": true
   },
   "outputs": [],
   "source": [
    "exl_file.to_excel(writer,index=False)"
   ]
  },
  {
   "cell_type": "code",
   "execution_count": 28,
   "metadata": {
    "collapsed": true
   },
   "outputs": [],
   "source": [
    "for k,v in diffs_map.items():\n",
    "    df = pd.DataFrame(columns=exl_file.columns)\n",
    "    for i, j in enumerate(v):\n",
    "        df.loc[i] = exl_file.loc[j]\n",
    "    df.to_excel(writer,index=False,sheet_name='Case '+str(k))"
   ]
  },
  {
   "cell_type": "code",
   "execution_count": 29,
   "metadata": {
    "collapsed": true
   },
   "outputs": [],
   "source": [
    "writer.save()\n",
    "writer.close()"
   ]
  },
  {
   "cell_type": "code",
   "execution_count": null,
   "metadata": {
    "collapsed": true
   },
   "outputs": [],
   "source": []
  },
  {
   "cell_type": "code",
   "execution_count": null,
   "metadata": {
    "collapsed": true
   },
   "outputs": [],
   "source": []
  },
  {
   "cell_type": "markdown",
   "metadata": {},
   "source": [
    "# Counts of CLasses"
   ]
  },
  {
   "cell_type": "code",
   "execution_count": 21,
   "metadata": {},
   "outputs": [
    {
     "name": "stdout",
     "output_type": "stream",
     "text": [
      "TOATAL -  6227\n"
     ]
    }
   ],
   "source": [
    "TOTAL = len(classes)\n",
    "print(\"TOATAL - \",TOTAL)"
   ]
  },
  {
   "cell_type": "code",
   "execution_count": 14,
   "metadata": {},
   "outputs": [
    {
     "name": "stdout",
     "output_type": "stream",
     "text": [
      "Class  17  ->  37 \t\t 0.59%\n",
      "Class  18  ->  4 \t\t 0.06%\n",
      "Class  19  ->  0 \t\t 0.00%\n",
      "Class  20  ->  120 \t\t 1.93%\n",
      "Class  21  ->  23 \t\t 0.37%\n",
      "Class  22  ->  110 \t\t 1.77%\n",
      "Class  23  ->  25 \t\t 0.40%\n",
      "Class  24  ->  3 \t\t 0.05%\n",
      "Class  25  ->  19 \t\t 0.31%\n",
      "Class  26  ->  46 \t\t 0.74%\n",
      "Class  27  ->  81 \t\t 1.30%\n",
      "Class  28  ->  34 \t\t 0.55%\n",
      "Class  29  ->  67 \t\t 1.08%\n"
     ]
    }
   ],
   "source": [
    "SUMS = np.sum(classes==True,axis=0)\n",
    "for i in range(17,30):\n",
    "    print(\"Class \",i, \" -> \",SUMS[i],\"\\t\\t\",'{0:.2f}%'.format(float(SUMS[i]*100./TOTAL)))"
   ]
  },
  {
   "cell_type": "code",
   "execution_count": 25,
   "metadata": {
    "collapsed": true
   },
   "outputs": [],
   "source": [
    "c8_11_prev_0 = 0\n",
    "c8_9_prev_0 = 0\n",
    "c10_11_prev_0 = 0\n",
    "\n",
    "def makeKey(vals):\n",
    "    res = []\n",
    "    for val in vals:\n",
    "        if val:\n",
    "            res.append(1)\n",
    "        else:\n",
    "            res.append(0)\n",
    "    return str(res)\n",
    "\n",
    "MMP = {}\n",
    "for c in classes:\n",
    "    if np.any(c[8:12]) and not(np.any(c[[1,2,4,5]])):\n",
    "        c8_11_prev_0 += 1\n",
    "        k = makeKey(c[8:12])\n",
    "        if k not in MMP:\n",
    "            MMP[k] = 0\n",
    "        MMP[k] += 1\n",
    "    if np.any(c[8:10]) and not(np.any(c[[1,2,4,5]])):\n",
    "        c8_9_prev_0 += 1\n",
    "    if np.any(c[10:12]) and not(np.any(c[[1,2,4,5]])):\n",
    "        c10_11_prev_0 += 1"
   ]
  },
  {
   "cell_type": "code",
   "execution_count": 26,
   "metadata": {},
   "outputs": [
    {
     "name": "stdout",
     "output_type": "stream",
     "text": [
      "4923 \t\t 79.06%\n",
      "4585 \t\t 73.63%\n",
      "2065 \t\t 33.16%\n"
     ]
    }
   ],
   "source": [
    "print(c8_11_prev_0,\"\\t\\t\",'{0:.2f}%'.format(float(c8_11_prev_0*100./TOTAL)))\n",
    "print(c8_9_prev_0,\"\\t\\t\",'{0:.2f}%'.format(float(c8_9_prev_0*100./TOTAL)))\n",
    "print(c10_11_prev_0,\"\\t\\t\",'{0:.2f}%'.format(float(c10_11_prev_0*100./TOTAL)))"
   ]
  },
  {
   "cell_type": "code",
   "execution_count": 37,
   "metadata": {},
   "outputs": [
    {
     "data": {
      "text/plain": [
       "{'[0, 1, 0, 1]': 411,\n",
       " '[0, 1, 1, 0]': 469,\n",
       " '[1, 0, 0, 1]': 101,\n",
       " '[1, 0, 1, 0]': 303}"
      ]
     },
     "execution_count": 37,
     "metadata": {},
     "output_type": "execute_result"
    }
   ],
   "source": [
    "MMP"
   ]
  },
  {
   "cell_type": "code",
   "execution_count": 28,
   "metadata": {},
   "outputs": [
    {
     "data": {
      "text/plain": [
       "0.8389272522884214"
      ]
     },
     "execution_count": 28,
     "metadata": {},
     "output_type": "execute_result"
    }
   ],
   "source": [
    "np.sum(np.any(labels_comment_classification,axis=1))/TOTAL"
   ]
  },
  {
   "cell_type": "code",
   "execution_count": null,
   "metadata": {
    "collapsed": true
   },
   "outputs": [],
   "source": []
  },
  {
   "cell_type": "code",
   "execution_count": null,
   "metadata": {
    "collapsed": true
   },
   "outputs": [],
   "source": []
  }
 ],
 "metadata": {
  "kernelspec": {
   "display_name": "Python 3",
   "language": "python",
   "name": "python3"
  },
  "language_info": {
   "codemirror_mode": {
    "name": "ipython",
    "version": 3
   },
   "file_extension": ".py",
   "mimetype": "text/x-python",
   "name": "python",
   "nbconvert_exporter": "python",
   "pygments_lexer": "ipython3",
   "version": "3.6.7"
  }
 },
 "nbformat": 4,
 "nbformat_minor": 2
}
