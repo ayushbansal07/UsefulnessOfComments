{
 "cells": [
  {
   "cell_type": "code",
   "execution_count": 1,
   "metadata": {},
   "outputs": [
    {
     "name": "stderr",
     "output_type": "stream",
     "text": [
      "/home/ayush/anaconda3/lib/python3.6/site-packages/sklearn/cross_validation.py:41: DeprecationWarning: This module was deprecated in version 0.18 in favor of the model_selection module into which all the refactored classes and functions are moved. Also note that the interface of the new CV iterators are different from that of this module. This module will be removed in 0.20.\n",
      "  \"This module will be removed in 0.20.\", DeprecationWarning)\n"
     ]
    }
   ],
   "source": [
    "import pandas as pd\n",
    "import numpy as np\n",
    "from sklearn import svm\n",
    "from sklearn import cross_validation\n",
    "from sklearn import tree\n",
    "from sklearn.cross_validation import cross_val_score\n",
    "from os.path import join as PJOIN\n",
    "import os"
   ]
  },
  {
   "cell_type": "code",
   "execution_count": 6,
   "metadata": {
    "collapsed": true
   },
   "outputs": [],
   "source": [
    "DATA_DIR = \"DATA/GENERATED/TRAIN/\"\n",
    "DATA_FILES = [\"train_libpng-code.csv\"]"
   ]
  },
  {
   "cell_type": "code",
   "execution_count": 7,
   "metadata": {
    "collapsed": true
   },
   "outputs": [],
   "source": [
    "def get_all_training_data():\n",
    "    all_files = []\n",
    "    if DATA_FILES[0] == 'all':\n",
    "        for file in os.listdir(DATA_DIR):\n",
    "            if file[:2] == 'X_':\n",
    "                all_files.append(file[2:])\n",
    "    else:\n",
    "        all_files = DATA_FILES\n",
    "    \n",
    "    all_x = []\n",
    "    all_y = []\n",
    "    for file in all_files:\n",
    "        train_x = pd.read_csv(PJOIN(DATA_DIR,\"X_\"+file),header=None)\n",
    "        all_x.append(np.array(train_x))\n",
    "        train_y = pd.read_csv(PJOIN(DATA_DIR,\"Y_\"+file),header=None)\n",
    "        all_y.append(train_y)\n",
    "    \n",
    "    all_x = np.concatenate(all_x)\n",
    "    all_y = np.concatenate(all_y)\n",
    "    print(all_x.shape,all_y.shape)\n",
    "    all_y = all_y.reshape(all_y.shape[0])    \n",
    "    return all_x, all_y"
   ]
  },
  {
   "cell_type": "code",
   "execution_count": 8,
   "metadata": {
    "collapsed": true
   },
   "outputs": [],
   "source": [
    "# train_x = pd.read_csv(\"DATA/GENERATED/TRAIN/X_train_libpng-code.csv\", header=None)\n",
    "# train_x = np.array(train_x)\n",
    "# train_y = pd.read_csv(\"DATA/GENERATED/TRAIN/Y_train_libpng-code.csv\",header=None)\n",
    "# train_y = np.array(train_y)\n",
    "# train_y = train_y.reshape(train_y.shape[0])"
   ]
  },
  {
   "cell_type": "code",
   "execution_count": 9,
   "metadata": {},
   "outputs": [
    {
     "name": "stdout",
     "output_type": "stream",
     "text": [
      "(7090, 12) (7090, 1)\n"
     ]
    },
    {
     "data": {
      "text/plain": [
       "((7090, 12), (7090,))"
      ]
     },
     "execution_count": 9,
     "metadata": {},
     "output_type": "execute_result"
    }
   ],
   "source": [
    "train_x, train_y = get_all_training_data()\n",
    "train_x.shape, train_y.shape"
   ]
  },
  {
   "cell_type": "code",
   "execution_count": 14,
   "metadata": {
    "collapsed": true
   },
   "outputs": [],
   "source": [
    "def runSVM(x, y):\n",
    "    print(\"Running SVM....\")\n",
    "    x_train, x_test, y_train, y_test = cross_validation.train_test_split(x, y, test_size=0.1, random_state=0)\n",
    "    clf = svm.SVC(kernel='linear', C=1,max_iter=1000000).fit(x_train, y_train)\n",
    "    print(clf.score(x_test, y_test))"
   ]
  },
  {
   "cell_type": "code",
   "execution_count": 15,
   "metadata": {},
   "outputs": [
    {
     "name": "stdout",
     "output_type": "stream",
     "text": [
      "Running SVM....\n",
      "0.8110014104372355\n"
     ]
    },
    {
     "name": "stderr",
     "output_type": "stream",
     "text": [
      "/home/ayush/anaconda3/lib/python3.6/site-packages/sklearn/svm/base.py:218: ConvergenceWarning: Solver terminated early (max_iter=1000000).  Consider pre-processing your data with StandardScaler or MinMaxScaler.\n",
      "  % self.max_iter, ConvergenceWarning)\n"
     ]
    }
   ],
   "source": [
    "runSVM(train_x,train_y)"
   ]
  },
  {
   "cell_type": "code",
   "execution_count": 12,
   "metadata": {
    "collapsed": true
   },
   "outputs": [],
   "source": [
    "def runDecisionTree(x, y):\n",
    "    print (\"Running Decision Tree....\")\n",
    "    x_train, x_test, y_train, y_test = cross_validation.train_test_split(x, y, test_size=0.1, random_state=0)\n",
    "    depth = []\n",
    "    for i in range(3,20):\n",
    "        clf = tree.DecisionTreeClassifier(max_depth=i)\n",
    "        scores = cross_val_score(estimator=clf, X=x, y=y, cv=9, n_jobs=4)\n",
    "        depth.append((i,scores.mean()))\n",
    "        print(\"Depth: \",i,\"Score: \",depth[-1])\n",
    "    #print(depth)"
   ]
  },
  {
   "cell_type": "code",
   "execution_count": 13,
   "metadata": {},
   "outputs": [
    {
     "name": "stdout",
     "output_type": "stream",
     "text": [
      "Running Decision Tree....\n",
      "Depth:  3 Score:  (3, 0.7932195567574175)\n",
      "Depth:  4 Score:  (4, 0.7977316840052764)\n",
      "Depth:  5 Score:  (5, 0.7882743870724094)\n",
      "Depth:  6 Score:  (6, 0.7862990785424604)\n",
      "Depth:  7 Score:  (7, 0.785309900449658)\n",
      "Depth:  8 Score:  (8, 0.7757166094238281)\n",
      "Depth:  9 Score:  (9, 0.7776888871280684)\n",
      "Depth:  10 Score:  (10, 0.7745785572428616)\n",
      "Depth:  11 Score:  (11, 0.7745837635381051)\n",
      "Depth:  12 Score:  (12, 0.7768405420126813)\n",
      "Depth:  13 Score:  (13, 0.7779707354180116)\n",
      "Depth:  14 Score:  (14, 0.7783958981742659)\n",
      "Depth:  15 Score:  (15, 0.7789665440470219)\n",
      "Depth:  16 Score:  (16, 0.7796742535698135)\n",
      "Depth:  17 Score:  (17, 0.7761450390376046)\n",
      "Depth:  18 Score:  (18, 0.7723416853988806)\n",
      "Depth:  19 Score:  (19, 0.7750239890447346)\n"
     ]
    }
   ],
   "source": [
    "runDecisionTree(train_x,train_y)"
   ]
  },
  {
   "cell_type": "code",
   "execution_count": null,
   "metadata": {
    "collapsed": true
   },
   "outputs": [],
   "source": []
  }
 ],
 "metadata": {
  "kernelspec": {
   "display_name": "Python 3",
   "language": "python",
   "name": "python3"
  },
  "language_info": {
   "codemirror_mode": {
    "name": "ipython",
    "version": 3
   },
   "file_extension": ".py",
   "mimetype": "text/x-python",
   "name": "python",
   "nbconvert_exporter": "python",
   "pygments_lexer": "ipython3",
   "version": "3.6.7"
  }
 },
 "nbformat": 4,
 "nbformat_minor": 2
}
