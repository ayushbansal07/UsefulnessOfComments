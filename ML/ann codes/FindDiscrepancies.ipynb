{
 "cells": [
  {
   "cell_type": "code",
   "execution_count": 30,
   "metadata": {
    "collapsed": true
   },
   "outputs": [],
   "source": [
    "import pandas as pd\n",
    "import numpy as np\n",
    "import csv"
   ]
  },
  {
   "cell_type": "code",
   "execution_count": 34,
   "metadata": {},
   "outputs": [],
   "source": [
    "Z = pd.read_csv('Z_CONCATED_commentType.csv', delimiter='\\t')\n",
    "Z = np.array(Z)"
   ]
  },
  {
   "cell_type": "code",
   "execution_count": 3,
   "metadata": {
    "collapsed": true
   },
   "outputs": [],
   "source": []
  },
  {
   "cell_type": "code",
   "execution_count": 40,
   "metadata": {},
   "outputs": [],
   "source": [
    "def process(commentType):\n",
    "    print(commentType)\n",
    "    data = pd.read_csv('afterTrain/test_outs_CONCATED_commentType_'+commentType+'.csv_9.csv')\n",
    "    data.head()\n",
    "\n",
    "    data_np = np.array(data)\n",
    "    for el in data_np:\n",
    "        el[0] = el[0].strip('][').split(' ') \n",
    "        el[0] = np.argmax(el[0])\n",
    "        el[2] = int(el[2])\n",
    "        #print(el[0])\n",
    "\n",
    "    FALSE_POSITIVE_IDX = []\n",
    "    FALSE_NEGATIVE_IDX = []\n",
    "\n",
    "    for el in data_np:\n",
    "        if el[1] == 1 and el[0] == 0:\n",
    "            FALSE_POSITIVE_IDX.append(el[2])\n",
    "        if el[1] == 0 and el[0] == 1:\n",
    "            FALSE_NEGATIVE_IDX.append(el[2])\n",
    "\n",
    "    print(len(FALSE_POSITIVE_IDX), len(FALSE_NEGATIVE_IDX), len(data_np))\n",
    "\n",
    "    with open('FALSE_POSITIVES_'+commentType+'.csv','w') as f:\n",
    "        writer = csv.writer(f,delimiter='\\t')\n",
    "        for idx in FALSE_POSITIVE_IDX:\n",
    "            writer.writerow(Z[idx])\n",
    "\n",
    "    with open('FALSE_NEGATIVES_'+commentType+'.csv','w') as f:\n",
    "        writer = csv.writer(f,delimiter='\\t')\n",
    "        for idx in FALSE_NEGATIVE_IDX:\n",
    "            writer.writerow(Z[idx])"
   ]
  },
  {
   "cell_type": "code",
   "execution_count": 41,
   "metadata": {
    "collapsed": true
   },
   "outputs": [],
   "source": [
    "TYPES = ['ProblemDomain','ProgramDomain','ProjectManagement']"
   ]
  },
  {
   "cell_type": "code",
   "execution_count": 42,
   "metadata": {},
   "outputs": [
    {
     "name": "stdout",
     "output_type": "stream",
     "text": [
      "ProblemDomain\n",
      "1692 40 2554\n",
      "ProgramDomain\n",
      "194 168 2554\n",
      "ProjectManagement\n",
      "1842 15 2554\n"
     ]
    }
   ],
   "source": [
    "for t in TYPES:\n",
    "    process(t)"
   ]
  },
  {
   "cell_type": "code",
   "execution_count": 27,
   "metadata": {},
   "outputs": [],
   "source": []
  },
  {
   "cell_type": "code",
   "execution_count": 32,
   "metadata": {},
   "outputs": [],
   "source": []
  },
  {
   "cell_type": "code",
   "execution_count": 33,
   "metadata": {},
   "outputs": [],
   "source": []
  },
  {
   "cell_type": "code",
   "execution_count": null,
   "metadata": {
    "collapsed": true
   },
   "outputs": [],
   "source": []
  }
 ],
 "metadata": {
  "kernelspec": {
   "display_name": "Python 3",
   "language": "python",
   "name": "python3"
  },
  "language_info": {
   "codemirror_mode": {
    "name": "ipython",
    "version": 3
   },
   "file_extension": ".py",
   "mimetype": "text/x-python",
   "name": "python",
   "nbconvert_exporter": "python",
   "pygments_lexer": "ipython3",
   "version": "3.6.7"
  }
 },
 "nbformat": 4,
 "nbformat_minor": 2
}
