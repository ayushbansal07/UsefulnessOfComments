{
 "cells": [
  {
   "cell_type": "code",
   "execution_count": 2,
   "metadata": {
    "collapsed": true
   },
   "outputs": [],
   "source": [
    "import pandas as pd\n",
    "import numpy as np\n",
    "from os.path import join as PJOIN"
   ]
  },
  {
   "cell_type": "code",
   "execution_count": 8,
   "metadata": {
    "collapsed": true
   },
   "outputs": [],
   "source": [
    "INPUT_DIR = \"EXTRAS/OLD_DATA/\"\n",
    "INPUT_FILE = \"training_latest_total.csv\"\n",
    "OUTPUT_DIR = \"DATA/GENERATED/TRAIN/\"\n",
    "OUTPUT_FILE = \"handcrafted.csv\"\n",
    "ANNOTATIONS = {'N':1,'P':2,'U':3}"
   ]
  },
  {
   "cell_type": "code",
   "execution_count": 11,
   "metadata": {
    "collapsed": true
   },
   "outputs": [],
   "source": [
    "old_csv = pd.read_csv(PJOIN(INPUT_DIR, INPUT_FILE))\n",
    "old_np = np.array(old_csv)\n",
    "old_np = old_np[:650]"
   ]
  },
  {
   "cell_type": "code",
   "execution_count": 12,
   "metadata": {
    "collapsed": true
   },
   "outputs": [],
   "source": [
    "X = []\n",
    "Y = []\n",
    "for x in old_np:\n",
    "    X.append(x[:12])\n",
    "    Y.append(ANNOTATIONS[x[12][0]])\n",
    "X = np.array(X)\n",
    "Y = np.array(Y)"
   ]
  },
  {
   "cell_type": "code",
   "execution_count": 13,
   "metadata": {},
   "outputs": [
    {
     "data": {
      "text/plain": [
       "((650, 12), (650,), 650)"
      ]
     },
     "execution_count": 13,
     "metadata": {},
     "output_type": "execute_result"
    }
   ],
   "source": [
    "X.shape, Y.shape, np.sum((Y==1) + (Y==2) + (Y==3))"
   ]
  },
  {
   "cell_type": "code",
   "execution_count": 14,
   "metadata": {
    "collapsed": true
   },
   "outputs": [],
   "source": [
    "import csv\n",
    "with open(PJOIN(OUTPUT_DIR,\"X_\"+OUTPUT_FILE),'w') as f:\n",
    "    writer = csv.writer(f)\n",
    "    for x in X:\n",
    "        writer.writerow(x)\n",
    "\n",
    "with open(PJOIN(OUTPUT_DIR,\"Y_\"+OUTPUT_FILE),'w') as f:\n",
    "    writer = csv.writer(f)\n",
    "    for y in Y:\n",
    "        writer.writerow([y])"
   ]
  },
  {
   "cell_type": "code",
   "execution_count": 15,
   "metadata": {},
   "outputs": [
    {
     "data": {
      "text/html": [
       "<div>\n",
       "<style>\n",
       "    .dataframe thead tr:only-child th {\n",
       "        text-align: right;\n",
       "    }\n",
       "\n",
       "    .dataframe thead th {\n",
       "        text-align: left;\n",
       "    }\n",
       "\n",
       "    .dataframe tbody tr th {\n",
       "        vertical-align: top;\n",
       "    }\n",
       "</style>\n",
       "<table border=\"1\" class=\"dataframe\">\n",
       "  <thead>\n",
       "    <tr style=\"text-align: right;\">\n",
       "      <th></th>\n",
       "      <th>tokens</th>\n",
       "      <th>prog domain conepts</th>\n",
       "      <th>prob domain concepts</th>\n",
       "      <th>description</th>\n",
       "      <th>operation</th>\n",
       "      <th>condition</th>\n",
       "      <th>prog domain matches</th>\n",
       "      <th>prob domain matches</th>\n",
       "      <th>scope score</th>\n",
       "      <th>build details</th>\n",
       "      <th>author details</th>\n",
       "      <th>junk/copyright</th>\n",
       "      <th>Class</th>\n",
       "    </tr>\n",
       "  </thead>\n",
       "  <tbody>\n",
       "    <tr>\n",
       "      <th>0</th>\n",
       "      <td>0.75</td>\n",
       "      <td>0.05</td>\n",
       "      <td>0.05</td>\n",
       "      <td>0.77</td>\n",
       "      <td>0.23</td>\n",
       "      <td>0.05</td>\n",
       "      <td>0.05</td>\n",
       "      <td>0.05</td>\n",
       "      <td>0.41</td>\n",
       "      <td>0.05</td>\n",
       "      <td>0.05</td>\n",
       "      <td>0.05</td>\n",
       "      <td>NU</td>\n",
       "    </tr>\n",
       "    <tr>\n",
       "      <th>1</th>\n",
       "      <td>0.75</td>\n",
       "      <td>0.05</td>\n",
       "      <td>0.05</td>\n",
       "      <td>0.77</td>\n",
       "      <td>0.23</td>\n",
       "      <td>0.05</td>\n",
       "      <td>0.05</td>\n",
       "      <td>0.05</td>\n",
       "      <td>0.41</td>\n",
       "      <td>0.05</td>\n",
       "      <td>0.05</td>\n",
       "      <td>0.05</td>\n",
       "      <td>NU</td>\n",
       "    </tr>\n",
       "    <tr>\n",
       "      <th>2</th>\n",
       "      <td>0.75</td>\n",
       "      <td>0.05</td>\n",
       "      <td>0.05</td>\n",
       "      <td>0.77</td>\n",
       "      <td>0.23</td>\n",
       "      <td>0.05</td>\n",
       "      <td>0.05</td>\n",
       "      <td>0.05</td>\n",
       "      <td>0.41</td>\n",
       "      <td>0.05</td>\n",
       "      <td>0.05</td>\n",
       "      <td>0.05</td>\n",
       "      <td>NU</td>\n",
       "    </tr>\n",
       "    <tr>\n",
       "      <th>3</th>\n",
       "      <td>0.75</td>\n",
       "      <td>0.05</td>\n",
       "      <td>0.05</td>\n",
       "      <td>0.77</td>\n",
       "      <td>0.23</td>\n",
       "      <td>0.05</td>\n",
       "      <td>0.05</td>\n",
       "      <td>0.05</td>\n",
       "      <td>6.81</td>\n",
       "      <td>0.05</td>\n",
       "      <td>0.05</td>\n",
       "      <td>0.05</td>\n",
       "      <td>NU</td>\n",
       "    </tr>\n",
       "    <tr>\n",
       "      <th>4</th>\n",
       "      <td>0.75</td>\n",
       "      <td>0.05</td>\n",
       "      <td>0.05</td>\n",
       "      <td>0.77</td>\n",
       "      <td>0.23</td>\n",
       "      <td>0.05</td>\n",
       "      <td>0.05</td>\n",
       "      <td>0.05</td>\n",
       "      <td>0.41</td>\n",
       "      <td>0.05</td>\n",
       "      <td>0.05</td>\n",
       "      <td>0.05</td>\n",
       "      <td>NU</td>\n",
       "    </tr>\n",
       "  </tbody>\n",
       "</table>\n",
       "</div>"
      ],
      "text/plain": [
       "   tokens  prog domain conepts  prob domain concepts  description  operation  \\\n",
       "0    0.75                 0.05                  0.05         0.77       0.23   \n",
       "1    0.75                 0.05                  0.05         0.77       0.23   \n",
       "2    0.75                 0.05                  0.05         0.77       0.23   \n",
       "3    0.75                 0.05                  0.05         0.77       0.23   \n",
       "4    0.75                 0.05                  0.05         0.77       0.23   \n",
       "\n",
       "   condition  prog domain matches  prob domain matches  scope score  \\\n",
       "0       0.05                 0.05                 0.05         0.41   \n",
       "1       0.05                 0.05                 0.05         0.41   \n",
       "2       0.05                 0.05                 0.05         0.41   \n",
       "3       0.05                 0.05                 0.05         6.81   \n",
       "4       0.05                 0.05                 0.05         0.41   \n",
       "\n",
       "   build details  author details  junk/copyright Class  \n",
       "0           0.05            0.05            0.05    NU  \n",
       "1           0.05            0.05            0.05    NU  \n",
       "2           0.05            0.05            0.05    NU  \n",
       "3           0.05            0.05            0.05    NU  \n",
       "4           0.05            0.05            0.05    NU  "
      ]
     },
     "execution_count": 15,
     "metadata": {},
     "output_type": "execute_result"
    }
   ],
   "source": [
    "old_csv.head()"
   ]
  },
  {
   "cell_type": "code",
   "execution_count": 17,
   "metadata": {},
   "outputs": [
    {
     "data": {
      "text/plain": [
       "(218, 192, 240)"
      ]
     },
     "execution_count": 17,
     "metadata": {},
     "output_type": "execute_result"
    }
   ],
   "source": [
    "np.sum(Y==1), np.sum(Y==2), np.sum(Y==3)"
   ]
  },
  {
   "cell_type": "code",
   "execution_count": null,
   "metadata": {
    "collapsed": true
   },
   "outputs": [],
   "source": []
  }
 ],
 "metadata": {
  "kernelspec": {
   "display_name": "Python 3",
   "language": "python",
   "name": "python3"
  },
  "language_info": {
   "codemirror_mode": {
    "name": "ipython",
    "version": 3
   },
   "file_extension": ".py",
   "mimetype": "text/x-python",
   "name": "python",
   "nbconvert_exporter": "python",
   "pygments_lexer": "ipython3",
   "version": "3.6.7"
  }
 },
 "nbformat": 4,
 "nbformat_minor": 2
}
