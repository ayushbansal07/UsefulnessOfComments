{
 "cells": [
  {
   "cell_type": "code",
   "execution_count": 10,
   "metadata": {
    "collapsed": true
   },
   "outputs": [],
   "source": [
    "import pandas as pd\n",
    "import numpy as np\n",
    "from os.path import join as PJOIN"
   ]
  },
  {
   "cell_type": "code",
   "execution_count": 11,
   "metadata": {
    "collapsed": true
   },
   "outputs": [],
   "source": [
    "INPUT_DIR = \"EXTRAS/OLD_DATA/\"\n",
    "INPUT_FILE = \"training_latest_938_orig.csv\"\n",
    "OUTPUT_DIR = \"DATA/GENERATED/TRAIN/\""
   ]
  },
  {
   "cell_type": "code",
   "execution_count": 12,
   "metadata": {},
   "outputs": [],
   "source": [
    "old_csv = pd.read_csv(PJOIN(INPUT_DIR, INPUT_FILE))\n",
    "old_np = np.array(old_csv)"
   ]
  },
  {
   "cell_type": "code",
   "execution_count": 13,
   "metadata": {},
   "outputs": [],
   "source": [
    "X = []\n",
    "Y = []\n",
    "for x in old_np:\n",
    "    X.append(x[2:14])\n",
    "    Y.append(x[14])\n",
    "X = np.array(X)\n",
    "Y = np.array(Y)"
   ]
  },
  {
   "cell_type": "code",
   "execution_count": 14,
   "metadata": {},
   "outputs": [
    {
     "data": {
      "text/plain": [
       "((938, 12), (938,), 938)"
      ]
     },
     "execution_count": 14,
     "metadata": {},
     "output_type": "execute_result"
    }
   ],
   "source": [
    "X.shape, Y.shape, np.sum((Y==1) + (Y==2) + (Y==3))"
   ]
  },
  {
   "cell_type": "code",
   "execution_count": 15,
   "metadata": {
    "collapsed": true
   },
   "outputs": [],
   "source": [
    "import csv\n",
    "with open(PJOIN(OUTPUT_DIR,\"X_\"+INPUT_FILE),'w') as f:\n",
    "    writer = csv.writer(f)\n",
    "    for x in X:\n",
    "        writer.writerow(x)\n",
    "\n",
    "with open(PJOIN(OUTPUT_DIR,\"Y_\"+INPUT_FILE),'w') as f:\n",
    "    writer = csv.writer(f)\n",
    "    for y in Y:\n",
    "        writer.writerow([y])"
   ]
  },
  {
   "cell_type": "code",
   "execution_count": null,
   "metadata": {
    "collapsed": true
   },
   "outputs": [],
   "source": []
  }
 ],
 "metadata": {
  "kernelspec": {
   "display_name": "Python 3",
   "language": "python",
   "name": "python3"
  },
  "language_info": {
   "codemirror_mode": {
    "name": "ipython",
    "version": 3
   },
   "file_extension": ".py",
   "mimetype": "text/x-python",
   "name": "python",
   "nbconvert_exporter": "python",
   "pygments_lexer": "ipython3",
   "version": "3.6.7"
  }
 },
 "nbformat": 4,
 "nbformat_minor": 2
}
